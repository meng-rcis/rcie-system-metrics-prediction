{
  "cells": [
    {
      "cell_type": "code",
      "execution_count": 54,
      "metadata": {},
      "outputs": [],
      "source": [
        "# Load the CSV file\n",
        "base = '../../../../rcie-system-metrics-data/'\n",
        "domain = '2023-06-12_11-33-10_rcie-api-default/'\n",
        "file = 'metrics-with-output-and-standardized-unit.csv'\n",
        "file_path = base + domain + file"
      ]
    },
    {
      "cell_type": "code",
      "execution_count": 55,
      "metadata": {},
      "outputs": [],
      "source": [
        "# Load libraries\n",
        "import pandas as pd\n",
        "import pickle"
      ]
    },
    {
      "cell_type": "code",
      "execution_count": 56,
      "metadata": {},
      "outputs": [],
      "source": [
        "# Load dataset\n",
        "col_names = [\"time\",\"timestamp\",\"cpu_usage\",\"memory_usage\",\"bandwidth_inbound\",\"bandwidth_outbound\",\"tps\",\"tps_error\",\"response_time\",\"status\"]\n",
        "df = pd.read_csv(file_path, skiprows=1, header=None, names=col_names)\n",
        "df.head()\n",
        "\n",
        "# Remove timestamp column\n",
        "feature_cols = [\"cpu_usage\",\"memory_usage\",\"bandwidth_inbound\",\"bandwidth_outbound\",\"tps\",\"response_time\"]\n",
        "feature_cols_with_time = [\"time\",\"cpu_usage\",\"memory_usage\",\n",
        "                          \"bandwidth_inbound\",\"bandwidth_outbound\",\"tps\",\"response_time\"]\n",
        "df = df[feature_cols_with_time]"
      ]
    },
    {
      "cell_type": "code",
      "execution_count": 57,
      "metadata": {},
      "outputs": [],
      "source": [
        "# Convert 'time' to datetime if it's not already\n",
        "df['time'] = pd.to_datetime(df['time'])\n",
        "\n",
        "# Set and sort 'time' as the index\n",
        "df.set_index('time', inplace=True)\n",
        "df.sort_index(inplace=True)"
      ]
    },
    {
      "cell_type": "code",
      "execution_count": 58,
      "metadata": {},
      "outputs": [],
      "source": [
        "# Share the data\n",
        "pickle.dump(df, open(\"./common/df.p\", \"wb\"))\n",
        "pickle.dump(feature_cols, open(\"./common/feature_cols.p\", \"wb\"))\n",
        "pickle.dump(feature_cols_with_time, open(\"./common/feature_cols_with_time.p\", \"wb\"))"
      ]
    }
  ],
  "metadata": {
    "kernelspec": {
      "display_name": "Python 3",
      "language": "python",
      "name": "python3"
    },
    "language_info": {
      "codemirror_mode": {
        "name": "ipython",
        "version": 3
      },
      "file_extension": ".py",
      "mimetype": "text/x-python",
      "name": "python",
      "nbconvert_exporter": "python",
      "pygments_lexer": "ipython3",
      "version": "3.11.3"
    },
    "orig_nbformat": 4
  },
  "nbformat": 4,
  "nbformat_minor": 2
}
