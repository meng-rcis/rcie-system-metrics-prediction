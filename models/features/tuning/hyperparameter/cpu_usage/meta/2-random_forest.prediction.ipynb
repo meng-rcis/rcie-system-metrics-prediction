{
 "cells": [
  {
   "cell_type": "code",
   "execution_count": 11,
   "metadata": {},
   "outputs": [],
   "source": [
    "from sklearn.ensemble import RandomForestRegressor\n",
    "from sklearn.metrics import mean_squared_error\n",
    "import numpy as np\n",
    "\n",
    "import pandas as pd"
   ]
  },
  {
   "cell_type": "code",
   "execution_count": 18,
   "metadata": {},
   "outputs": [],
   "source": [
    "# Import data\n",
    "df = pd.read_csv('./source/dataset.csv', index_col=0)\n",
    "X, y = df[['RNN', 'LSTM', 'CNN', 'GRU']], df['Actual']\n",
    "y_raw = df['Raw']\n",
    "# Get 1000 samples \n",
    "X_train, y_train = X[:1000], y[:1000]\n",
    "X_test, y_test = X[1000:], y_raw[1000:]"
   ]
  },
  {
   "cell_type": "code",
   "execution_count": 13,
   "metadata": {},
   "outputs": [],
   "source": [
    "def iterate_prediction(clf, X_train, y_train, X_test, y_test, step=5):\n",
    "    # Train the model\n",
    "    clf.fit(X_train, y_train)\n",
    "    # Create prediction result dataframe [predicted, ...]\n",
    "    results = []\n",
    "\n",
    "    # Iterate prediction and train the model again in every 5 steps\n",
    "    for i in range(step, len(X_test) + 1, step):\n",
    "        # Predict the next steps\n",
    "        y_pred = clf.predict(X_test[:i])\n",
    "        # Store the prediction result\n",
    "        results.extend(y_pred[-step:])  # Only store the last 5 predictions\n",
    "        # Update the model\n",
    "        X_train = np.concatenate([X_train, X_test[:i]])\n",
    "        y_train = np.concatenate([y_train, y_test[:i]])\n",
    "        clf.fit(X_train, y_train)\n",
    "    \n",
    "    # Calculate the RMSE\n",
    "    rmse = calculate_rmse(y_test, results)\n",
    "    return (results, rmse)\n",
    "\n",
    "\n",
    "def calculate_rmse(y_test, y_pred):\n",
    "    return np.sqrt(mean_squared_error(y_test, y_pred))"
   ]
  },
  {
   "cell_type": "code",
   "execution_count": 14,
   "metadata": {},
   "outputs": [
    {
     "name": "stderr",
     "output_type": "stream",
     "text": [
      "c:\\Users\\dell\\AppData\\Local\\Programs\\Python\\Python311\\Lib\\site-packages\\sklearn\\base.py:432: UserWarning: X has feature names, but RandomForestRegressor was fitted without feature names\n",
      "  warnings.warn(\n",
      "c:\\Users\\dell\\AppData\\Local\\Programs\\Python\\Python311\\Lib\\site-packages\\sklearn\\base.py:432: UserWarning: X has feature names, but RandomForestRegressor was fitted without feature names\n",
      "  warnings.warn(\n",
      "c:\\Users\\dell\\AppData\\Local\\Programs\\Python\\Python311\\Lib\\site-packages\\sklearn\\base.py:432: UserWarning: X has feature names, but RandomForestRegressor was fitted without feature names\n",
      "  warnings.warn(\n",
      "c:\\Users\\dell\\AppData\\Local\\Programs\\Python\\Python311\\Lib\\site-packages\\sklearn\\base.py:432: UserWarning: X has feature names, but RandomForestRegressor was fitted without feature names\n",
      "  warnings.warn(\n",
      "c:\\Users\\dell\\AppData\\Local\\Programs\\Python\\Python311\\Lib\\site-packages\\sklearn\\base.py:432: UserWarning: X has feature names, but RandomForestRegressor was fitted without feature names\n",
      "  warnings.warn(\n",
      "c:\\Users\\dell\\AppData\\Local\\Programs\\Python\\Python311\\Lib\\site-packages\\sklearn\\base.py:432: UserWarning: X has feature names, but RandomForestRegressor was fitted without feature names\n",
      "  warnings.warn(\n",
      "c:\\Users\\dell\\AppData\\Local\\Programs\\Python\\Python311\\Lib\\site-packages\\sklearn\\base.py:432: UserWarning: X has feature names, but RandomForestRegressor was fitted without feature names\n",
      "  warnings.warn(\n",
      "c:\\Users\\dell\\AppData\\Local\\Programs\\Python\\Python311\\Lib\\site-packages\\sklearn\\base.py:432: UserWarning: X has feature names, but RandomForestRegressor was fitted without feature names\n",
      "  warnings.warn(\n",
      "c:\\Users\\dell\\AppData\\Local\\Programs\\Python\\Python311\\Lib\\site-packages\\sklearn\\base.py:432: UserWarning: X has feature names, but RandomForestRegressor was fitted without feature names\n",
      "  warnings.warn(\n",
      "c:\\Users\\dell\\AppData\\Local\\Programs\\Python\\Python311\\Lib\\site-packages\\sklearn\\base.py:432: UserWarning: X has feature names, but RandomForestRegressor was fitted without feature names\n",
      "  warnings.warn(\n",
      "c:\\Users\\dell\\AppData\\Local\\Programs\\Python\\Python311\\Lib\\site-packages\\sklearn\\base.py:432: UserWarning: X has feature names, but RandomForestRegressor was fitted without feature names\n",
      "  warnings.warn(\n",
      "c:\\Users\\dell\\AppData\\Local\\Programs\\Python\\Python311\\Lib\\site-packages\\sklearn\\base.py:432: UserWarning: X has feature names, but RandomForestRegressor was fitted without feature names\n",
      "  warnings.warn(\n",
      "c:\\Users\\dell\\AppData\\Local\\Programs\\Python\\Python311\\Lib\\site-packages\\sklearn\\base.py:432: UserWarning: X has feature names, but RandomForestRegressor was fitted without feature names\n",
      "  warnings.warn(\n",
      "c:\\Users\\dell\\AppData\\Local\\Programs\\Python\\Python311\\Lib\\site-packages\\sklearn\\base.py:432: UserWarning: X has feature names, but RandomForestRegressor was fitted without feature names\n",
      "  warnings.warn(\n"
     ]
    },
    {
     "name": "stdout",
     "output_type": "stream",
     "text": [
      "Base model RMSE:  0.04966304316013401\n"
     ]
    }
   ],
   "source": [
    "# Base model\n",
    "clf = RandomForestRegressor(random_state=0)\n",
    "results, rmse = iterate_prediction(clf, X_train, y_train, X_test, y_test, step=100)\n",
    "print('Base model RMSE: ', rmse)"
   ]
  },
  {
   "cell_type": "code",
   "execution_count": 95,
   "metadata": {},
   "outputs": [
    {
     "name": "stderr",
     "output_type": "stream",
     "text": [
      "c:\\Users\\dell\\AppData\\Local\\Programs\\Python\\Python311\\Lib\\site-packages\\sklearn\\ensemble\\_forest.py:413: FutureWarning: `max_features='auto'` has been deprecated in 1.1 and will be removed in 1.3. To keep the past behaviour, explicitly set `max_features=1.0` or remove this parameter as it is also the default value for RandomForestRegressors and ExtraTreesRegressors.\n",
      "  warn(\n",
      "c:\\Users\\dell\\AppData\\Local\\Programs\\Python\\Python311\\Lib\\site-packages\\sklearn\\ensemble\\_forest.py:413: FutureWarning: `max_features='auto'` has been deprecated in 1.1 and will be removed in 1.3. To keep the past behaviour, explicitly set `max_features=1.0` or remove this parameter as it is also the default value for RandomForestRegressors and ExtraTreesRegressors.\n",
      "  warn(\n"
     ]
    },
    {
     "name": "stdout",
     "output_type": "stream",
     "text": [
      "Tuned model RMSE:  0.047063465935930644\n"
     ]
    }
   ],
   "source": [
    "# Hyperparameter tuning\n",
    "# Best Parameters: OrderedDict([('bootstrap', True), ('criterion', 'friedman_mse'), ('max_depth', 27), ('max_features', 'auto'), ('max_leaf_nodes', 17), ('min_impurity_decrease', 0.00035269496460264014), ('min_samples_leaf', 2), ('min_samples_split', 5), ('n_estimators', 110)])\n",
    "\n",
    "clf = RandomForestRegressor(\n",
    "    bootstrap=True,\n",
    "    criterion='friedman_mse',\n",
    "    max_depth=27,\n",
    "    max_features='auto',\n",
    "    max_leaf_nodes=13,\n",
    "    min_impurity_decrease=0.00035269496460264014,\n",
    "    min_samples_leaf=10,\n",
    "    min_samples_split=5,\n",
    "    n_estimators=545,\n",
    "    random_state=0,\n",
    "    verbose=0,\n",
    ")\n",
    "results, rmse = iterate_prediction(clf, X_train, y_train, X_test, y_test, step=1500)\n",
    "print('Tuned model RMSE: ', rmse)\n",
    "# Tuned model RMSE:  0.047063465935930644"
   ]
  },
  {
   "cell_type": "code",
   "execution_count": 97,
   "metadata": {},
   "outputs": [],
   "source": [
    "# Save the result to CSV\n",
    "df_pred = pd.DataFrame(results, columns=['Prediction'])\n",
    "df_pred.to_csv('./source/tuned_random_forest.csv', index=False)"
   ]
  },
  {
   "cell_type": "code",
   "execution_count": null,
   "metadata": {},
   "outputs": [
    {
     "name": "stdout",
     "output_type": "stream",
     "text": [
      "first 10 y_test:  Time\n",
      "2023-09-08 04:02:40    0.113369\n",
      "2023-09-08 04:02:45    0.125056\n",
      "2023-09-08 04:02:50    0.140664\n",
      "2023-09-08 04:02:55    0.146101\n",
      "2023-09-08 04:03:00    0.138480\n",
      "2023-09-08 04:03:05    0.128242\n",
      "2023-09-08 04:03:10    0.125827\n",
      "2023-09-08 04:03:15    0.132401\n",
      "2023-09-08 04:03:20    0.143752\n",
      "2023-09-08 04:03:25    0.155942\n",
      "Name: Actual, dtype: float64\n",
      "first 10 results:  [0.11299582887462649, 0.122433467133583, 0.14135958830491693, 0.14719729077633703, 0.15698268474867752, 0.12374000417937901, 0.1310137406698499, 0.13788535977607352, 0.1495079397434335, 0.16082462915146375]\n"
     ]
    }
   ],
   "source": [
    "# Find RMSE df_pred with y_test\n",
    "rmse = calculate_rmse(y_test, results)\n",
    "print(\"first 10 y_test: \", y_test[:10])\n",
    "print(\"first 10 results: \", results[:10])"
   ]
  },
  {
   "cell_type": "code",
   "execution_count": null,
   "metadata": {},
   "outputs": [],
   "source": []
  }
 ],
 "metadata": {
  "kernelspec": {
   "display_name": "Python 3",
   "language": "python",
   "name": "python3"
  },
  "language_info": {
   "codemirror_mode": {
    "name": "ipython",
    "version": 3
   },
   "file_extension": ".py",
   "mimetype": "text/x-python",
   "name": "python",
   "nbconvert_exporter": "python",
   "pygments_lexer": "ipython3",
   "version": "3.11.3"
  }
 },
 "nbformat": 4,
 "nbformat_minor": 2
}
