{
 "cells": [
  {
   "cell_type": "code",
   "execution_count": 41,
   "metadata": {},
   "outputs": [],
   "source": [
    "from sklearn.ensemble import RandomForestRegressor\n",
    "from sklearn.metrics import mean_squared_error\n",
    "import numpy as np\n",
    "\n",
    "import pandas as pd"
   ]
  },
  {
   "cell_type": "code",
   "execution_count": 42,
   "metadata": {},
   "outputs": [],
   "source": [
    "# Import data\n",
    "df = pd.read_csv('./source/dataset.csv', index_col=0)\n",
    "X, y = df[['RNN', 'GRU']], df['Actual']\n",
    "\n",
    "# Get 1000 samples \n",
    "X_train, y_train = X[:1000], y[:1000]\n",
    "X_test, y_test = X[1000:], y[1000:]"
   ]
  },
  {
   "cell_type": "code",
   "execution_count": 43,
   "metadata": {},
   "outputs": [],
   "source": [
    "def iterate_prediction(clf, X_train, y_train, X_test, y_test, step=5):\n",
    "    # Train the model\n",
    "    clf.fit(X_train, y_train)\n",
    "    # Create prediction result dataframe [predicted, ...]\n",
    "    results = []\n",
    "\n",
    "    # Iterate prediction and train the model again in every 5 steps\n",
    "    for i in range(step, len(X_test) + 1, step):\n",
    "        # Predict the next steps\n",
    "        y_pred = clf.predict(X_test[:i])\n",
    "        # Store the prediction result\n",
    "        results.extend(y_pred[-step:])  # Only store the last 5 predictions\n",
    "        # Update the model\n",
    "        X_train = np.concatenate([X_train, X_test[:i]])\n",
    "        y_train = np.concatenate([y_train, y_test[:i]])\n",
    "        clf.fit(X_train, y_train)\n",
    "    \n",
    "    # Calculate the RMSE\n",
    "    rmse = calculate_rmse(y_test, results)\n",
    "    return (results, rmse)\n",
    "\n",
    "\n",
    "def calculate_rmse(y_test, y_pred):\n",
    "    return np.sqrt(mean_squared_error(y_test, y_pred))"
   ]
  },
  {
   "cell_type": "code",
   "execution_count": 44,
   "metadata": {},
   "outputs": [
    {
     "name": "stderr",
     "output_type": "stream",
     "text": [
      "c:\\Users\\dell\\AppData\\Local\\Programs\\Python\\Python311\\Lib\\site-packages\\sklearn\\base.py:432: UserWarning: X has feature names, but RandomForestRegressor was fitted without feature names\n",
      "  warnings.warn(\n",
      "c:\\Users\\dell\\AppData\\Local\\Programs\\Python\\Python311\\Lib\\site-packages\\sklearn\\base.py:432: UserWarning: X has feature names, but RandomForestRegressor was fitted without feature names\n",
      "  warnings.warn(\n",
      "c:\\Users\\dell\\AppData\\Local\\Programs\\Python\\Python311\\Lib\\site-packages\\sklearn\\base.py:432: UserWarning: X has feature names, but RandomForestRegressor was fitted without feature names\n",
      "  warnings.warn(\n",
      "c:\\Users\\dell\\AppData\\Local\\Programs\\Python\\Python311\\Lib\\site-packages\\sklearn\\base.py:432: UserWarning: X has feature names, but RandomForestRegressor was fitted without feature names\n",
      "  warnings.warn(\n",
      "c:\\Users\\dell\\AppData\\Local\\Programs\\Python\\Python311\\Lib\\site-packages\\sklearn\\base.py:432: UserWarning: X has feature names, but RandomForestRegressor was fitted without feature names\n",
      "  warnings.warn(\n",
      "c:\\Users\\dell\\AppData\\Local\\Programs\\Python\\Python311\\Lib\\site-packages\\sklearn\\base.py:432: UserWarning: X has feature names, but RandomForestRegressor was fitted without feature names\n",
      "  warnings.warn(\n",
      "c:\\Users\\dell\\AppData\\Local\\Programs\\Python\\Python311\\Lib\\site-packages\\sklearn\\base.py:432: UserWarning: X has feature names, but RandomForestRegressor was fitted without feature names\n",
      "  warnings.warn(\n",
      "c:\\Users\\dell\\AppData\\Local\\Programs\\Python\\Python311\\Lib\\site-packages\\sklearn\\base.py:432: UserWarning: X has feature names, but RandomForestRegressor was fitted without feature names\n",
      "  warnings.warn(\n",
      "c:\\Users\\dell\\AppData\\Local\\Programs\\Python\\Python311\\Lib\\site-packages\\sklearn\\base.py:432: UserWarning: X has feature names, but RandomForestRegressor was fitted without feature names\n",
      "  warnings.warn(\n",
      "c:\\Users\\dell\\AppData\\Local\\Programs\\Python\\Python311\\Lib\\site-packages\\sklearn\\base.py:432: UserWarning: X has feature names, but RandomForestRegressor was fitted without feature names\n",
      "  warnings.warn(\n",
      "c:\\Users\\dell\\AppData\\Local\\Programs\\Python\\Python311\\Lib\\site-packages\\sklearn\\base.py:432: UserWarning: X has feature names, but RandomForestRegressor was fitted without feature names\n",
      "  warnings.warn(\n",
      "c:\\Users\\dell\\AppData\\Local\\Programs\\Python\\Python311\\Lib\\site-packages\\sklearn\\base.py:432: UserWarning: X has feature names, but RandomForestRegressor was fitted without feature names\n",
      "  warnings.warn(\n",
      "c:\\Users\\dell\\AppData\\Local\\Programs\\Python\\Python311\\Lib\\site-packages\\sklearn\\base.py:432: UserWarning: X has feature names, but RandomForestRegressor was fitted without feature names\n",
      "  warnings.warn(\n",
      "c:\\Users\\dell\\AppData\\Local\\Programs\\Python\\Python311\\Lib\\site-packages\\sklearn\\base.py:432: UserWarning: X has feature names, but RandomForestRegressor was fitted without feature names\n",
      "  warnings.warn(\n"
     ]
    },
    {
     "name": "stdout",
     "output_type": "stream",
     "text": [
      "Base model RMSE:  0.02628922376649094\n"
     ]
    }
   ],
   "source": [
    "# Base model\n",
    "clf = RandomForestRegressor(random_state=0)\n",
    "results, rmse = iterate_prediction(clf, X_train, y_train, X_test, y_test, step=100)\n",
    "print('Base model RMSE: ', rmse)"
   ]
  },
  {
   "cell_type": "code",
   "execution_count": 63,
   "metadata": {},
   "outputs": [
    {
     "name": "stdout",
     "output_type": "stream",
     "text": [
      "Tuned model RMSE:  0.024967464620108824\n"
     ]
    }
   ],
   "source": [
    "# Hyperparameter tuning\n",
    "# Best Parameters: OrderedDict([('bootstrap', False), ('criterion', 'friedman_mse'), ('max_depth', 6), ('max_features', 'sqrt'), ('max_leaf_nodes', 14), ('min_impurity_decrease', 0.0002966630673990501), ('min_samples_leaf', 6), ('min_samples_split', 15), ('n_estimators', 963)])\n",
    "\n",
    "clf = RandomForestRegressor(\n",
    "    bootstrap=False,\n",
    "    criterion='friedman_mse',\n",
    "    max_depth=6,\n",
    "    max_features='log2',\n",
    "    max_leaf_nodes=14,\n",
    "    min_impurity_decrease=0.0002966630673990501,\n",
    "    min_samples_leaf=6,\n",
    "    min_samples_split=15,\n",
    "    n_estimators=963,\n",
    "    random_state=0\n",
    ")\n",
    "results, rmse = iterate_prediction(clf, X_train, y_train, X_test, y_test, step=1500)\n",
    "print('Tuned model RMSE: ', rmse)\n",
    "\n",
    "# Save the result to CSV\n",
    "# df = pd.DataFrame(results, columns=['Prediction'])\n",
    "# df.to_csv('./source/random_forest.csv', index=False)"
   ]
  },
  {
   "cell_type": "markdown",
   "metadata": {},
   "source": [
    "Best\n",
    "\n",
    "clf = RandomForestRegressor(\n",
    "    bootstrap=False,\n",
    "    criterion='friedman_mse',\n",
    "    max_depth=6,\n",
    "    max_features='sqrt',\n",
    "    max_leaf_nodes=14,\n",
    "    min_impurity_decrease=0.0002966630673990501,\n",
    "    min_samples_leaf=6,\n",
    "    min_samples_split=15,\n",
    "    n_estimators=963,\n",
    "    random_state=0\n",
    ")\n",
    "\n",
    "Tuned model RMSE:  0.024877229636657863"
   ]
  }
 ],
 "metadata": {
  "kernelspec": {
   "display_name": "Python 3",
   "language": "python",
   "name": "python3"
  },
  "language_info": {
   "codemirror_mode": {
    "name": "ipython",
    "version": 3
   },
   "file_extension": ".py",
   "mimetype": "text/x-python",
   "name": "python",
   "nbconvert_exporter": "python",
   "pygments_lexer": "ipython3",
   "version": "3.11.3"
  }
 },
 "nbformat": 4,
 "nbformat_minor": 2
}
