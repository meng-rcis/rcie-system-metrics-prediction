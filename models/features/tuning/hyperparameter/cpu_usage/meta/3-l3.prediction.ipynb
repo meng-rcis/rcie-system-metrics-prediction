{
 "cells": [
  {
   "cell_type": "code",
   "execution_count": 1,
   "metadata": {},
   "outputs": [],
   "source": [
    "import sys\n",
    "sys.path.append('../../../../prediction')\n",
    "\n",
    "import numpy as np\n",
    "import pandas as pd\n",
    "\n",
    "from putils.observation import compute_rmse, compute_mae, compute_mape, load_data_from_tuned_folder"
   ]
  },
  {
   "cell_type": "code",
   "execution_count": 2,
   "metadata": {},
   "outputs": [
    {
     "name": "stdout",
     "output_type": "stream",
     "text": [
      "final weights: {'LINEAR_REGRESSION': 0.3428161609296413, 'RANDOM_FOREST': 0.3321966271666997, 'FEEDFORWARD_NEURAL_NETWORK': 0.32498721190365903}\n"
     ]
    }
   ],
   "source": [
    "# Get data from df\n",
    "df = load_data_from_tuned_folder('l2_updated')\n",
    "df = df.drop(columns=[\"Time\", \"Actual\"])\n",
    "alpha = 100\n",
    "\n",
    "# Dict of models with their initial weights (1 / number of models)\n",
    "weights = {}\n",
    "for column in df.columns:\n",
    "    if column != \"L3_WEIGHTED_AVERAGE\" and column != \"Raw\":\n",
    "        weights[column] = 1 / (len(df.columns) - 1) # -1 because the column \"Raw\" is ignored\n",
    "\n",
    "# Create a new column for the average value\n",
    "df[\"L3_WEIGHTED_AVERAGE\"] = None\n",
    "\n",
    "# Loop through each row and compute the weighted average\n",
    "count = 0\n",
    "for index, row in df.iterrows():\n",
    "    # Find the average value with weight of the row \n",
    "    total = 0\n",
    "    for column in df.columns:\n",
    "        if column != \"L3_WEIGHTED_AVERAGE\" and column != \"Raw\":\n",
    "            total += row[column] * weights[column]\n",
    "\n",
    "    # Add the average value to the row\n",
    "    df.loc[index, \"L3_WEIGHTED_AVERAGE\"] = total\n",
    "    # Update the weights every 5 rows\n",
    "    if count % 5 == 0:\n",
    "        # Compute RMSE of each model from 0 to count - 1\n",
    "        rmses = {}\n",
    "        for column in df.columns:\n",
    "            if column != \"L3_WEIGHTED_AVERAGE\" and column != \"Raw\":\n",
    "                rmses[column] = compute_rmse(df[\"Raw\"][:count], df[column][:count])\n",
    "        # Compute the sum of exponential RMSEs [exp(alpha * -rmse)]\n",
    "        rmse_sum = sum([np.exp(alpha * -rmse) for rmse in rmses.values()])\n",
    "        # Update the weights\n",
    "        for column in df.columns:\n",
    "            if column != \"L3_WEIGHTED_AVERAGE\" and column != \"Raw\":\n",
    "                result = np.exp(alpha * -rmses[column]) / rmse_sum\n",
    "                # Check if nan\n",
    "                if np.isnan(result) == False:\n",
    "                    weights[column] = result\n",
    "    # Increment count\n",
    "    count += 1\n",
    "\n",
    "print(f\"final weights: {weights}\")\n",
    "\n",
    "# Save the data into new file\n",
    "df.to_csv(\"l3_tunned_random_forest.csv\")"
   ]
  }
 ],
 "metadata": {
  "kernelspec": {
   "display_name": "Python 3",
   "language": "python",
   "name": "python3"
  },
  "language_info": {
   "codemirror_mode": {
    "name": "ipython",
    "version": 3
   },
   "file_extension": ".py",
   "mimetype": "text/x-python",
   "name": "python",
   "nbconvert_exporter": "python",
   "pygments_lexer": "ipython3",
   "version": "3.11.3"
  }
 },
 "nbformat": 4,
 "nbformat_minor": 2
}
