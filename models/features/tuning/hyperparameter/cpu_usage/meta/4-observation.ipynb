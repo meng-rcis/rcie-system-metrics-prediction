{
 "cells": [
  {
   "cell_type": "code",
   "execution_count": 1,
   "metadata": {},
   "outputs": [],
   "source": [
    "# Import libraries\n",
    "import sys\n",
    "sys.path.append('../../../../prediction')\n",
    "\n",
    "import numpy as np\n",
    "import pandas as pd\n",
    "import matplotlib.pyplot as plt\n",
    "\n",
    "from putils.observation import compute_rmse, compute_mae, compute_mape, load_data_from_tuned_folder"
   ]
  },
  {
   "cell_type": "code",
   "execution_count": 2,
   "metadata": {},
   "outputs": [],
   "source": [
    "# Define variables\n",
    "IS_FILTERED = True\n",
    "ARCHIVED = None\n",
    "\n",
    "SHOW_HEADER = True\n",
    "SHOW_LAST_APPEARANCE = None"
   ]
  },
  {
   "cell_type": "code",
   "execution_count": 3,
   "metadata": {},
   "outputs": [],
   "source": [
    "# Load data\n",
    "dfs = {\n",
    "    \"l1\": load_data_from_tuned_folder(\"base/l1\"),\n",
    "    \"l2\": load_data_from_tuned_folder(\"base/l2\"),\n",
    "    \"l3\": load_data_from_tuned_folder(\"base/l3\"),\n",
    "}\n",
    "\n",
    "weight_file = \"l3_tunned_random_forest.csv\"\n",
    "dfs[\"l3_tunned_random_forest\"] = pd.read_csv(weight_file)\n",
    "\n",
    "# Make data have the same length with L3\n",
    "dfs[\"l1\"] = dfs[\"l1\"].tail(len(dfs[\"l3\"]))\n",
    "dfs[\"l2\"] = dfs[\"l2\"].tail(len(dfs[\"l3\"]))\n",
    "# dfs[\"l3_tunned_random_forest\"] = dfs[\"l3_tunned_random_forest\"].tail(len(dfs[\"l3\"]))\n",
    "\n",
    "# Indicate which columns to ignore\n",
    "IGNORED_COLS = [\"Time\", \"Actual\", 'FormattedTime'] # No need to include \"FormattedTime\" because it is used as index\n",
    "if IS_FILTERED: IGNORED_COLS.append(\"Raw\")"
   ]
  },
  {
   "cell_type": "code",
   "execution_count": 4,
   "metadata": {},
   "outputs": [
    {
     "name": "stdout",
     "output_type": "stream",
     "text": [
      "Layer l1\n",
      "ARIMA - RMSE: 0.068163725, MAE: 0.051023036, MAPE: 39.00%\n",
      "SARIMA - RMSE: 0.077243303, MAE: 0.056241316, MAPE: 42.39%\n",
      "RNN - RMSE: 0.046954682, MAE: 0.036349370, MAPE: 28.67%\n",
      "LSTM - RMSE: 0.050082839, MAE: 0.038600911, MAPE: 30.61%\n",
      "CNN - RMSE: 0.052547761, MAE: 0.040761443, MAPE: 32.43%\n",
      "GRU - RMSE: 0.049179534, MAE: 0.037919911, MAPE: 30.01%\n",
      "TCN - RMSE: 0.058259708, MAE: 0.045834703, MAPE: 35.98%\n",
      "------------------\n",
      "Layer l2\n",
      "LINEAR_REGRESSION - RMSE: 0.046750790, MAE: 0.036166652, MAPE: 28.90%\n",
      "RANDOM_FOREST - RMSE: 0.047368381, MAE: 0.036731771, MAPE: 29.41%\n",
      "FEEDFORWARD_NEURAL_NETWORK - RMSE: 0.047280571, MAE: 0.036693709, MAPE: 29.34%\n",
      "------------------\n",
      "Layer l3\n",
      "Predicted - RMSE: 0.046904628, MAE: 0.036337791, MAPE: 29.11%\n",
      "------------------\n",
      "Layer l3_tunned_random_forest\n",
      "LINEAR_REGRESSION - RMSE: 0.046750790, MAE: 0.036166652, MAPE: 28.90%\n",
      "RANDOM_FOREST - RMSE: 0.047063466, MAE: 0.036494309, MAPE: 29.18%\n",
      "FEEDFORWARD_NEURAL_NETWORK - RMSE: 0.047280571, MAE: 0.036693709, MAPE: 29.34%\n",
      "L3_WEIGHTED_AVERAGE - RMSE: 0.046845830, MAE: 0.036302478, MAPE: 29.06%\n",
      "------------------\n"
     ]
    }
   ],
   "source": [
    "# Compute RMSE, MAE, and MAPE for each model\n",
    "for key, df in dfs.items():\n",
    "    print(\"Layer\", key)\n",
    "    for column in df.columns:\n",
    "        if column not in IGNORED_COLS:\n",
    "            actual = df[\"Raw\"] if IS_FILTERED else df[\"Actual\"]\n",
    "            rmse = compute_rmse(actual, df[column])\n",
    "            mape = compute_mape(actual, df[column])\n",
    "            mae = compute_mae(actual, df[column])\n",
    "            print(f\"{column} - RMSE: {rmse:.9f}, MAE: {mae:.9f}, MAPE: {mape:.2f}%\")\n",
    "    print(\"------------------\")"
   ]
  }
 ],
 "metadata": {
  "kernelspec": {
   "display_name": "Python 3",
   "language": "python",
   "name": "python3"
  },
  "language_info": {
   "codemirror_mode": {
    "name": "ipython",
    "version": 3
   },
   "file_extension": ".py",
   "mimetype": "text/x-python",
   "name": "python",
   "nbconvert_exporter": "python",
   "pygments_lexer": "ipython3",
   "version": "3.11.3"
  }
 },
 "nbformat": 4,
 "nbformat_minor": 2
}
