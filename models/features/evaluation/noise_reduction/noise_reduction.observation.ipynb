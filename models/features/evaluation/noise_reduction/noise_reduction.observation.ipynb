{
 "cells": [
  {
   "cell_type": "markdown",
   "metadata": {},
   "source": [
    "## Noise Reduction Observation"
   ]
  },
  {
   "cell_type": "code",
   "execution_count": 173,
   "metadata": {},
   "outputs": [],
   "source": [
    "import pandas as pd\n",
    "import matplotlib.pyplot as plt\n",
    "import numpy as np"
   ]
  },
  {
   "cell_type": "code",
   "execution_count": 174,
   "metadata": {},
   "outputs": [],
   "source": [
    "def compute_rmse(actual, predicted):\n",
    "    return np.sqrt(((actual - predicted) ** 2).mean())"
   ]
  },
  {
   "cell_type": "code",
   "execution_count": 175,
   "metadata": {},
   "outputs": [],
   "source": [
    "def calculate_rmse(dataframe, start_index=0, end_index=None, compared_model_performance=False):\n",
    "    \"\"\"\n",
    "    Calculate the RMSE for 'Without Butterworth vs Actual' and 'With Butterworth vs Actual'\n",
    "\n",
    "    :param dataframe: The pandas dataframe containing the values\n",
    "    :param start_index: The starting index of the range to calculate RMSE\n",
    "    :param end_index: The ending index of the range to calculate RMSE\n",
    "    :return: RMSE values for 'Without Butterworth vs Actual' and 'With Butterworth vs Actual'\n",
    "    \"\"\"\n",
    "    # If end_index is not provided, use the length of the dataframe\n",
    "    if end_index is None:\n",
    "        end_index = len(dataframe)\n",
    "\n",
    "    # Slicing the data for the specified range\n",
    "    sliced_data = dataframe.iloc[start_index:end_index]\n",
    "\n",
    "    # Extracting columns for calculations\n",
    "    without_butterworth = sliced_data.iloc[:, 0]\n",
    "    with_butterworth = sliced_data.iloc[:, 1]\n",
    "    actual_values = sliced_data.iloc[:, 2]\n",
    "    filtered_values = sliced_data.iloc[:, 3] if compared_model_performance else actual_values\n",
    "\n",
    "    # Calculating RMSE\n",
    "    rmse_without = compute_rmse(actual_values, without_butterworth)\n",
    "    rmse_with = compute_rmse(filtered_values, with_butterworth)\n",
    "\n",
    "    return rmse_without, rmse_with\n"
   ]
  },
  {
   "cell_type": "code",
   "execution_count": 176,
   "metadata": {},
   "outputs": [],
   "source": [
    "start_index = 0\n",
    "end_index = 150\n",
    "compared_model_performance = False\n",
    "names = ['arima', 'ets', 'rnn', 'lstm', 'gru']"
   ]
  },
  {
   "cell_type": "code",
   "execution_count": 177,
   "metadata": {},
   "outputs": [
    {
     "name": "stdout",
     "output_type": "stream",
     "text": [
      "ARIMA\n",
      "Without Butterworth: 0.05584388712442865\n",
      "With Butterworth: 0.05073564224831812\n",
      "-------------------\n",
      "ETS\n",
      "Without Butterworth: 0.04969654834820723\n",
      "With Butterworth: 0.05888768325625992\n",
      "-------------------\n",
      "RNN\n",
      "Without Butterworth: 0.051395581506277\n",
      "With Butterworth: 0.04435684474687683\n",
      "-------------------\n",
      "LSTM\n",
      "Without Butterworth: 0.05236242120464084\n",
      "With Butterworth: 0.04722659374647306\n",
      "-------------------\n",
      "GRU\n",
      "Without Butterworth: 0.05156895742391092\n",
      "With Butterworth: 0.045049417042749895\n",
      "-------------------\n"
     ]
    }
   ],
   "source": [
    "for name in names:\n",
    "    df = pd.read_csv('source/' + name + '.csv')\n",
    "    rmse_without, rmse_with = calculate_rmse(df, start_index, end_index, compared_model_performance)\n",
    "    print(name.upper())\n",
    "    print(f\"Without Butterworth:\", rmse_without)\n",
    "    print(f\"With Butterworth:\", rmse_with)\n",
    "    print(\"-------------------\")"
   ]
  }
 ],
 "metadata": {
  "kernelspec": {
   "display_name": "Python 3",
   "language": "python",
   "name": "python3"
  },
  "language_info": {
   "codemirror_mode": {
    "name": "ipython",
    "version": 3
   },
   "file_extension": ".py",
   "mimetype": "text/x-python",
   "name": "python",
   "nbconvert_exporter": "python",
   "pygments_lexer": "ipython3",
   "version": "3.11.3"
  }
 },
 "nbformat": 4,
 "nbformat_minor": 2
}
