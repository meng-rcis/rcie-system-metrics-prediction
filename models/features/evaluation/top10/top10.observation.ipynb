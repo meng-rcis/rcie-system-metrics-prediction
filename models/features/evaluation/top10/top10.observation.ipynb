{
 "cells": [
  {
   "cell_type": "code",
   "execution_count": 4,
   "metadata": {},
   "outputs": [],
   "source": [
    "import pandas as pd\n",
    "import numpy as np\n",
    "from sklearn.metrics import mean_squared_error"
   ]
  },
  {
   "cell_type": "code",
   "execution_count": 5,
   "metadata": {},
   "outputs": [],
   "source": [
    "# Function to calculate overall RMSE and top x% RMSE\n",
    "def calculate_rmse(df, top_percent=10, start_row=None, end_row=None):\n",
    "    # Filter the rows if a range is provided\n",
    "    if start_row is not None and end_row is not None:\n",
    "        df = df.iloc[start_row:end_row]\n",
    "\n",
    "    # Remove rows with NaN values\n",
    "    df = df.dropna(subset=['Predicted', 'Actual', 'Raw'])\n",
    "\n",
    "    # Calculate overall RMSE\n",
    "    overall_rmse = np.sqrt(mean_squared_error(df['Predicted'], df['Raw']))\n",
    "\n",
    "    # Calculate RMSE for the top x% of the highest 'Raw' data points\n",
    "    top_percent_threshold = np.percentile(df['Raw'], 100-top_percent) \n",
    "    print(f\"Top {top_percent}% threshold: {top_percent_threshold}\")\n",
    "    \n",
    "    top_percent_data = df[df['Raw'] >= top_percent_threshold]\n",
    "    top_rmse = np.sqrt(mean_squared_error(top_percent_data['Predicted'], top_percent_data['Raw']))\n",
    "    \n",
    "    return overall_rmse, top_rmse"
   ]
  },
  {
   "cell_type": "code",
   "execution_count": 6,
   "metadata": {},
   "outputs": [
    {
     "name": "stdout",
     "output_type": "stream",
     "text": [
      "Top 20% threshold: 0.22240000000000001\n",
      "Overall RMSE for l3-cutoff-005: 0.05313209438809719\n",
      "Top 20% RMSE for l3-cutoff-005: 0.07562412234376661\n",
      "\n",
      "Top 20% threshold: 0.224\n",
      "Overall RMSE for l3-cutoff-01: 0.045828484298954676\n",
      "Top 20% RMSE for l3-cutoff-01: 0.07273187362399709\n",
      "\n",
      "Top 20% threshold: 0.24080000000000001\n",
      "Overall RMSE for l3-cutoff-02: 0.050754842387351146\n",
      "Top 20% RMSE for l3-cutoff-02: 0.06650885120046622\n",
      "\n",
      "Top 20% threshold: 0.22240000000000001\n",
      "Overall RMSE for l3-cutoff-03: 0.0538750874853876\n",
      "Top 20% RMSE for l3-cutoff-03: 0.07784078560900304\n",
      "\n",
      "Top 20% threshold: 0.22240000000000001\n",
      "Overall RMSE for l3-cutoff-04: 0.057998510173104374\n",
      "Top 20% RMSE for l3-cutoff-04: 0.09212075121423789\n",
      "\n",
      "Top 20% threshold: 0.22240000000000001\n",
      "Overall RMSE for l3-cutoff-05: 0.05951853410729308\n",
      "Top 20% RMSE for l3-cutoff-05: 0.09147402434572985\n",
      "\n"
     ]
    }
   ],
   "source": [
    "files = [\"l3-cutoff-005\", \"l3-cutoff-01\", \"l3-cutoff-02\", \"l3-cutoff-03\", \"l3-cutoff-04\", \"l3-cutoff-05\"]\n",
    "top_percent = 20\n",
    "\n",
    "# Load the CSV file\n",
    "for file in files:\n",
    "    file_path = f'../../source/l3_prediction_dataset/butterworth/{file}.csv'\n",
    "    df = pd.read_csv(file_path)\n",
    "\n",
    "    overall_rmse, top_rmse = calculate_rmse(df, top_percent, start_row=None, end_row=None)\n",
    "\n",
    "    print(f\"Overall RMSE for {file}: {overall_rmse}\")\n",
    "    print(f\"Top {top_percent}% RMSE for {file}: {top_rmse}\\n\")"
   ]
  }
 ],
 "metadata": {
  "kernelspec": {
   "display_name": "Python 3",
   "language": "python",
   "name": "python3"
  },
  "language_info": {
   "codemirror_mode": {
    "name": "ipython",
    "version": 3
   },
   "file_extension": ".py",
   "mimetype": "text/x-python",
   "name": "python",
   "nbconvert_exporter": "python",
   "pygments_lexer": "ipython3",
   "version": "3.11.3"
  }
 },
 "nbformat": 4,
 "nbformat_minor": 2
}
