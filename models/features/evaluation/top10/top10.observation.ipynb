{
 "cells": [
  {
   "cell_type": "code",
   "execution_count": 7,
   "metadata": {},
   "outputs": [],
   "source": [
    "import pandas as pd\n",
    "import numpy as np\n",
    "from sklearn.metrics import mean_squared_error"
   ]
  },
  {
   "cell_type": "code",
   "execution_count": 8,
   "metadata": {},
   "outputs": [],
   "source": [
    "# Function to calculate overall RMSE and top x% RMSE\n",
    "def calculate_rmse(df, top_percent=10, start_row=None, end_row=None, override_threshold=None):\n",
    "    # Filter the rows if a range is provided\n",
    "    if start_row is not None and end_row is not None:\n",
    "        df = df.iloc[start_row:end_row]\n",
    "\n",
    "    # Remove rows with NaN values\n",
    "    df = df.dropna(subset=['Predicted', 'Actual', 'Raw'])\n",
    "\n",
    "    # Calculate overall RMSE\n",
    "    overall_rmse = np.sqrt(mean_squared_error(df['Predicted'], df['Raw']))\n",
    "\n",
    "    # Calculate RMSE for the top x% of the highest 'Raw' data points\n",
    "    top_percent_threshold = np.percentile(df['Raw'], 100-top_percent) if override_threshold is None else override_threshold \n",
    "    print(f\"Threshold: {top_percent_threshold}\")\n",
    "    \n",
    "    top_percent_data = df[df['Raw'] >= top_percent_threshold]\n",
    "    top_rmse = np.sqrt(mean_squared_error(top_percent_data['Predicted'], top_percent_data['Raw']))\n",
    "    \n",
    "    return overall_rmse, top_rmse"
   ]
  },
  {
   "cell_type": "code",
   "execution_count": 9,
   "metadata": {},
   "outputs": [
    {
     "name": "stdout",
     "output_type": "stream",
     "text": [
      "Threshold: 0.25\n",
      "Overall RMSE for l3-cutoff-005: 0.05313209438809719\n",
      "Top 0% RMSE for l3-cutoff-005: 0.08229585914596002\n",
      "\n",
      "Threshold: 0.25\n",
      "Overall RMSE for l3-cutoff-01: 0.045828484298954676\n",
      "Top 0% RMSE for l3-cutoff-01: 0.07912585004180664\n",
      "\n",
      "Threshold: 0.25\n",
      "Overall RMSE for l3-cutoff-02: 0.050754842387351146\n",
      "Top 0% RMSE for l3-cutoff-02: 0.06601860916877725\n",
      "\n",
      "Threshold: 0.25\n",
      "Overall RMSE for l3-cutoff-03: 0.0538750874853876\n",
      "Top 0% RMSE for l3-cutoff-03: 0.0825766942173343\n",
      "\n",
      "Threshold: 0.25\n",
      "Overall RMSE for l3-cutoff-04: 0.057998510173104374\n",
      "Top 0% RMSE for l3-cutoff-04: 0.10536812105179869\n",
      "\n",
      "Threshold: 0.25\n",
      "Overall RMSE for l3-cutoff-05: 0.05951853410729308\n",
      "Top 0% RMSE for l3-cutoff-05: 0.10636169182504353\n",
      "\n"
     ]
    }
   ],
   "source": [
    "files = [\"l3-cutoff-005\", \"l3-cutoff-01\", \"l3-cutoff-02\", \"l3-cutoff-03\", \"l3-cutoff-04\", \"l3-cutoff-05\"]\n",
    "top_percent = 0\n",
    "override_threshold = 0.25\n",
    "\n",
    "for file in files:\n",
    "    file_path = f'../../source/l3_prediction_dataset/butterworth/{file}.csv'\n",
    "    df = pd.read_csv(file_path)\n",
    "\n",
    "    overall_rmse, top_rmse = calculate_rmse(df, top_percent, start_row=None, end_row=None, override_threshold=override_threshold)\n",
    "\n",
    "    print(f\"Overall RMSE for {file}: {overall_rmse}\")\n",
    "    \n",
    "    if override_threshold is not None:\n",
    "        print(f\"RMSE for {file} with threshold {override_threshold}: {top_rmse}\\n\")\n",
    "    else:\n",
    "        print(f\"Top {top_percent}% RMSE for {file}: {top_rmse}\\n\")"
   ]
  }
 ],
 "metadata": {
  "kernelspec": {
   "display_name": "Python 3",
   "language": "python",
   "name": "python3"
  },
  "language_info": {
   "codemirror_mode": {
    "name": "ipython",
    "version": 3
   },
   "file_extension": ".py",
   "mimetype": "text/x-python",
   "name": "python",
   "nbconvert_exporter": "python",
   "pygments_lexer": "ipython3",
   "version": "3.11.3"
  }
 },
 "nbformat": 4,
 "nbformat_minor": 2
}
