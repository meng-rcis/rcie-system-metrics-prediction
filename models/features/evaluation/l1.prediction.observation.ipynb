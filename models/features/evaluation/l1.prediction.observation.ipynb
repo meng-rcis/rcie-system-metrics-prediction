{
 "cells": [
  {
   "cell_type": "markdown",
   "metadata": {},
   "source": [
    "## L1 Models Prediction Observation"
   ]
  },
  {
   "cell_type": "code",
   "execution_count": 6,
   "metadata": {},
   "outputs": [],
   "source": [
    "import pandas as pd\n",
    "import matplotlib.pyplot as plt\n",
    "import numpy as np"
   ]
  },
  {
   "cell_type": "code",
   "execution_count": 7,
   "metadata": {},
   "outputs": [],
   "source": [
    "def compute_rmse(actual, predicted):\n",
    "    return np.sqrt(((actual - predicted) ** 2).mean())\n",
    "\n",
    "def compute_mape(actual, predicted):\n",
    "    return 100 * np.mean(np.abs((actual - predicted) / actual))\n",
    "\n",
    "def compute_mae(actual, predicted):\n",
    "    return np.mean(np.abs(actual - predicted))"
   ]
  },
  {
   "cell_type": "code",
   "execution_count": 8,
   "metadata": {},
   "outputs": [],
   "source": [
    "# Define the data file\n",
    "IS_FILTERED = True\n",
    "ARCHIVED = None\n",
    "\n",
    "SHOW_HEADER = True\n",
    "\n",
    "# Import the data\n",
    "datafile = 'prediction_result_filtered.csv' if IS_FILTERED else 'prediction_result.csv'\n",
    "archived = 'archive/' + str(ARCHIVED) + '/' if ARCHIVED else ''\n",
    "df = pd.read_csv('../source/l1_prediction_dataset/' + archived + datafile)\n",
    "df['Time'] = pd.to_datetime(df['Time'])\n",
    "df['FormattedTime'] = df['Time'].dt.strftime('%H:%M:%S')\n",
    "df = df.sort_values(by='FormattedTime')\n",
    "\n",
    "# Indicate which columns to ignore\n",
    "IGNORED_COLS = ['Time', 'FormattedTime', 'Actual'] \n",
    "if IS_FILTERED: IGNORED_COLS.append('Raw')"
   ]
  },
  {
   "cell_type": "code",
   "execution_count": 9,
   "metadata": {},
   "outputs": [
    {
     "name": "stdout",
     "output_type": "stream",
     "text": [
      "ARIMA - RMSE: 0.0817, MAE: 0.0604, MAPE: 47.28%\n",
      "ETS - RMSE: 0.1246, MAE: 0.0877, MAPE: 66.75%\n",
      "LSTM - RMSE: 0.0573, MAE: 0.0442, MAPE: 35.68%\n",
      "CNN - RMSE: 0.0580, MAE: 0.0446, MAPE: 36.06%\n",
      "GRU - RMSE: 0.0556, MAE: 0.0429, MAPE: 34.67%\n"
     ]
    }
   ],
   "source": [
    "# Compute RMSE and MAPE for each model\n",
    "for column in df.columns:\n",
    "    if column not in IGNORED_COLS:\n",
    "        actual = df['Raw'] if IS_FILTERED else df['Actual']\n",
    "        rmse = compute_rmse(actual, df[column])\n",
    "        mape = compute_mape(actual, df[column])\n",
    "        mae = compute_mae(actual, df[column])\n",
    "        print(f\"{column} - RMSE: {rmse:.4f}, MAE: {mae:.4f}, MAPE: {mape:.2f}%\")"
   ]
  },
  {
   "cell_type": "code",
   "execution_count": 10,
   "metadata": {},
   "outputs": [],
   "source": [
    "# Plot the data\n",
    "fig, axes = plt.subplots(\n",
    "    nrows=len(df.columns) - len(IGNORED_COLS), \n",
    "    figsize=(10, 6 * (len(df.columns) - len(IGNORED_COLS)))\n",
    "    )\n",
    "\n",
    "# Ensure axes is always a list or array\n",
    "if not isinstance(axes, np.ndarray):\n",
    "    axes = [axes]\n",
    "\n",
    "ax_idx = 0  # Separate index for accessing axes\n",
    "header = (str(ARCHIVED) if ARCHIVED is not None else 'Current') + \" - \"\n",
    "header = header if SHOW_HEADER else ''\n",
    "\n",
    "for column in df.columns:\n",
    "    if column not in IGNORED_COLS:\n",
    "        actual_label = 'Reduced Noise' if IS_FILTERED else 'Raw'\n",
    "        actual_color = 'green' if IS_FILTERED else 'orange'\n",
    "        axes[ax_idx].plot(df['FormattedTime'], df[column], label=column)\n",
    "        if IS_FILTERED: axes[ax_idx].plot(df['FormattedTime'], df['Raw'], label='Raw', linestyle='-.', color='orange')  # Added this line to plot the Raw values\n",
    "        axes[ax_idx].plot(df['FormattedTime'], df['Actual'], label=actual_label, linestyle='--', color=actual_color)\n",
    "\n",
    "        # Sparse Tick Labels logic\n",
    "        n = 12  # Display every n-th label \n",
    "        for index, label in enumerate(axes[ax_idx].xaxis.get_ticklabels()):\n",
    "            if index % n != 0:\n",
    "                label.set_visible(False)\n",
    "\n",
    "        # Rotate the visible x-axis labels\n",
    "        axes[ax_idx].tick_params(axis='x', rotation=45)\n",
    "\n",
    "        axes[ax_idx].legend()\n",
    "        # axes[ax_idx].grid(True) # Uncomment this line to show grid lines\n",
    "        title = f\"{header}{column} vs Raw\"\n",
    "        if IS_FILTERED: title += ' vs Reduced Noise'\n",
    "        axes[ax_idx].set_title(title)\n",
    "        ax_idx += 1  # Increment ax_idx\n",
    "\n",
    "plt.tight_layout()\n",
    "plt.show()"
   ]
  }
 ],
 "metadata": {
  "kernelspec": {
   "display_name": "Python 3",
   "language": "python",
   "name": "python3"
  },
  "language_info": {
   "codemirror_mode": {
    "name": "ipython",
    "version": 3
   },
   "file_extension": ".py",
   "mimetype": "text/x-python",
   "name": "python",
   "nbconvert_exporter": "python",
   "pygments_lexer": "ipython3",
   "version": "3.10.10"
  },
  "orig_nbformat": 4
 },
 "nbformat": 4,
 "nbformat_minor": 2
}
