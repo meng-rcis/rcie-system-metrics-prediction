{
 "cells": [
  {
   "cell_type": "code",
   "execution_count": 5,
   "metadata": {},
   "outputs": [],
   "source": [
    "# Import libraries\n",
    "import sys\n",
    "sys.path.append('../../../prediction')\n",
    "\n",
    "import numpy as np\n",
    "import pandas as pd\n",
    "\n",
    "from putils.observation import compute_rmse, compute_mae, compute_mape, load_data_from_tuned_folder"
   ]
  },
  {
   "cell_type": "code",
   "execution_count": 6,
   "metadata": {},
   "outputs": [],
   "source": [
    "dfs = {\n",
    "    \"l1\": load_data_from_tuned_folder(\"l1\"),\n",
    "    \"l2\": load_data_from_tuned_folder(\"l2\"),\n",
    "    \"l3\": load_data_from_tuned_folder(\"l3\"),\n",
    "}\n",
    "\n",
    "# Make data have the same length with L3\n",
    "dfs[\"l2\"] = dfs[\"l2\"].tail(len(dfs[\"l3\"]))\n",
    "dfs[\"l1\"] = dfs[\"l1\"].tail(len(dfs[\"l3\"]))\n",
    "\n",
    "# Indicate which columns to ignore\n",
    "IS_FILTERED = True\n",
    "IGNORED_COLS = [\"Time\", \"Actual\", 'FormattedTime'] # No need to include \"FormattedTime\" because it is used as index\n",
    "if IS_FILTERED: IGNORED_COLS.append(\"Raw\")"
   ]
  },
  {
   "cell_type": "code",
   "execution_count": 7,
   "metadata": {},
   "outputs": [],
   "source": [
    "def predict(initial_batch_size, observations, jump):\n",
    "    df2 = dfs[\"l2\"]\n",
    "    df2 = df2.drop(columns=[\"Time\", \"Actual\"])\n",
    "    selected_model = \"\"\n",
    "    \n",
    "    # Get X (cols: ['LINEAR_REGRESSION','RANDOM_FOREST','FEEDFORWARD_NEURAL_NETWORK']) and y (col: Raw)\n",
    "    X = df2[['LINEAR_REGRESSION','RANDOM_FOREST','FEEDFORWARD_NEURAL_NETWORK']]\n",
    "    y = df2[\"Raw\"]\n",
    "    results = []\n",
    "\n",
    "    # Find average (results) of each X for first 25 rows\n",
    "    for i in range(initial_batch_size):\n",
    "        # Find total by summing up all values in each column X\n",
    "        total = 0\n",
    "        for col in X.columns:\n",
    "            total += X[col].iloc[i]\n",
    "        # Find average by dividing total by number of columns\n",
    "        average = total / len(X.columns)\n",
    "        # Append average to results\n",
    "        results.append(average)\n",
    "\n",
    "    # Loop through the rest of the rows every 5 rows\n",
    "    for i in range(initial_batch_size, len(X), jump):\n",
    "        # Get the next 5 rows\n",
    "        next_rows = X.iloc[i:i+jump] if i+jump < len(X) else X.iloc[i:]\n",
    "        # Find RMSE for each model in X from i - observations to i\n",
    "        rmse = {}\n",
    "        for col in X.columns:\n",
    "            rmse[col] = compute_rmse(y.iloc[i-observations:i], X[col].iloc[i-observations:i]) if observations > 0 else compute_rmse(y.iloc[:i], X[col].iloc[:i])\n",
    "        # Find the model with the lowest RMSE\n",
    "        selected_model = min(rmse, key=rmse.get)\n",
    "        # Get the result of the selected model from i to i + jump\n",
    "        next_results = next_rows[selected_model]\n",
    "        for result in next_results:\n",
    "            results.append(result)\n",
    "\n",
    "    return y, results"
   ]
  },
  {
   "cell_type": "code",
   "execution_count": 9,
   "metadata": {},
   "outputs": [
    {
     "name": "stdout",
     "output_type": "stream",
     "text": [
      "Layer l1\n",
      "ARIMA - RMSE: 0.068164, MAE: 0.0510, MAPE: 39.00%\n",
      "SARIMA - RMSE: 0.077243, MAE: 0.0562, MAPE: 42.39%\n",
      "RNN - RMSE: 0.047964, MAE: 0.0372, MAPE: 29.49%\n",
      "LSTM - RMSE: 0.050083, MAE: 0.0386, MAPE: 30.61%\n",
      "CNN - RMSE: 0.052548, MAE: 0.0408, MAPE: 32.43%\n",
      "GRU - RMSE: 0.049180, MAE: 0.0379, MAPE: 30.01%\n",
      "TCN - RMSE: 0.058260, MAE: 0.0458, MAPE: 35.98%\n",
      "------------------\n",
      "Layer l2\n",
      "LINEAR_REGRESSION - RMSE: 0.047864, MAE: 0.0371, MAPE: 29.68%\n",
      "RANDOM_FOREST - RMSE: 0.048562, MAE: 0.0375, MAPE: 30.11%\n",
      "FEEDFORWARD_NEURAL_NETWORK - RMSE: 0.048194, MAE: 0.0374, MAPE: 30.16%\n",
      "------------------\n",
      "Layer l3\n",
      "Predicted - RMSE: 0.047931, MAE: 0.0372, MAPE: 29.85%\n",
      "------------------\n",
      "Simple Selecting RMSE: 0.047875\n"
     ]
    }
   ],
   "source": [
    "# Compute RMSE, MAE, and MAPE for each model\n",
    "for key, df in dfs.items():\n",
    "    print(\"Layer\", key)\n",
    "    for column in df.columns:\n",
    "        if column not in IGNORED_COLS:\n",
    "            actual = df[\"Raw\"] if IS_FILTERED else df[\"Actual\"]\n",
    "            rmse = compute_rmse(actual, df[column])\n",
    "            mape = compute_mape(actual, df[column])\n",
    "            mae = compute_mae(actual, df[column])\n",
    "            print(f\"{column} - RMSE: {rmse:.6f}, MAE: {mae:.4f}, MAPE: {mape:.2f}%\")\n",
    "    print(\"------------------\")\n",
    "\n",
    "observations = -1\n",
    "initial_batch_size = observations if observations > 0 else 1\n",
    "jump = 1\n",
    "\n",
    "y, results = predict(initial_batch_size, observations, jump)\n",
    "# Compare the results with the actual values\n",
    "rmse = compute_rmse(y, results)\n",
    "# Print the results\n",
    "\n",
    "print(f\"Simple Selecting RMSE: {rmse:.6f}\")"
   ]
  }
 ],
 "metadata": {
  "kernelspec": {
   "display_name": "Python 3",
   "language": "python",
   "name": "python3"
  },
  "language_info": {
   "codemirror_mode": {
    "name": "ipython",
    "version": 3
   },
   "file_extension": ".py",
   "mimetype": "text/x-python",
   "name": "python",
   "nbconvert_exporter": "python",
   "pygments_lexer": "ipython3",
   "version": "3.11.3"
  }
 },
 "nbformat": 4,
 "nbformat_minor": 2
}
