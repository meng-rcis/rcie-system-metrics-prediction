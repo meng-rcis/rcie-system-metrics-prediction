{
 "cells": [
  {
   "cell_type": "markdown",
   "metadata": {},
   "source": [
    "## Overall Prediction Observation\n"
   ]
  },
  {
   "cell_type": "code",
   "execution_count": 1,
   "metadata": {},
   "outputs": [],
   "source": [
    "# Define variables\n",
    "IS_FILTERED = True\n",
    "ARCHIVED = None\n",
    "\n",
    "SHOW_HEADER = True\n",
    "SHOW_LAST_APPEARANCE = None"
   ]
  },
  {
   "cell_type": "code",
   "execution_count": 2,
   "metadata": {},
   "outputs": [],
   "source": [
    "# Import libraries\n",
    "import sys\n",
    "sys.path.append('../../../prediction')\n",
    "\n",
    "from sklearn.tree import DecisionTreeRegressor\n",
    "from sklearn.metrics import mean_squared_error\n",
    "import numpy as np\n",
    "\n",
    "from putils.observation import load_data_from_tuned_folder"
   ]
  },
  {
   "cell_type": "code",
   "execution_count": 6,
   "metadata": {},
   "outputs": [
    {
     "name": "stdout",
     "output_type": "stream",
     "text": [
      "Number of rows in d1: 2500\n"
     ]
    },
    {
     "data": {
      "text/html": [
       "<div>\n",
       "<style scoped>\n",
       "    .dataframe tbody tr th:only-of-type {\n",
       "        vertical-align: middle;\n",
       "    }\n",
       "\n",
       "    .dataframe tbody tr th {\n",
       "        vertical-align: top;\n",
       "    }\n",
       "\n",
       "    .dataframe thead th {\n",
       "        text-align: right;\n",
       "    }\n",
       "</style>\n",
       "<table border=\"1\" class=\"dataframe\">\n",
       "  <thead>\n",
       "    <tr style=\"text-align: right;\">\n",
       "      <th></th>\n",
       "      <th>ARIMA</th>\n",
       "      <th>SARIMA</th>\n",
       "      <th>RNN</th>\n",
       "      <th>LSTM</th>\n",
       "      <th>CNN</th>\n",
       "      <th>GRU</th>\n",
       "      <th>TCN</th>\n",
       "      <th>Raw</th>\n",
       "    </tr>\n",
       "    <tr>\n",
       "      <th>FormattedTime</th>\n",
       "      <th></th>\n",
       "      <th></th>\n",
       "      <th></th>\n",
       "      <th></th>\n",
       "      <th></th>\n",
       "      <th></th>\n",
       "      <th></th>\n",
       "      <th></th>\n",
       "    </tr>\n",
       "  </thead>\n",
       "  <tbody>\n",
       "    <tr>\n",
       "      <th>02:39:20</th>\n",
       "      <td>7390.726635</td>\n",
       "      <td>7368.670382</td>\n",
       "      <td>7580.1430</td>\n",
       "      <td>7154.3604</td>\n",
       "      <td>7500.4854</td>\n",
       "      <td>7422.9053</td>\n",
       "      <td>6899.3740</td>\n",
       "      <td>9210.0</td>\n",
       "    </tr>\n",
       "    <tr>\n",
       "      <th>02:39:25</th>\n",
       "      <td>7536.177200</td>\n",
       "      <td>7360.831983</td>\n",
       "      <td>7940.8857</td>\n",
       "      <td>7429.4300</td>\n",
       "      <td>7648.6570</td>\n",
       "      <td>7372.8213</td>\n",
       "      <td>7276.6245</td>\n",
       "      <td>5120.0</td>\n",
       "    </tr>\n",
       "    <tr>\n",
       "      <th>02:39:30</th>\n",
       "      <td>7639.647900</td>\n",
       "      <td>7125.751017</td>\n",
       "      <td>7616.6800</td>\n",
       "      <td>7356.2964</td>\n",
       "      <td>7692.3640</td>\n",
       "      <td>7103.8940</td>\n",
       "      <td>7587.7847</td>\n",
       "      <td>7500.0</td>\n",
       "    </tr>\n",
       "    <tr>\n",
       "      <th>02:39:35</th>\n",
       "      <td>7713.254942</td>\n",
       "      <td>6812.833747</td>\n",
       "      <td>7147.9985</td>\n",
       "      <td>7058.5435</td>\n",
       "      <td>7004.3210</td>\n",
       "      <td>6729.4400</td>\n",
       "      <td>6163.3755</td>\n",
       "      <td>7660.0</td>\n",
       "    </tr>\n",
       "    <tr>\n",
       "      <th>02:39:40</th>\n",
       "      <td>7765.617558</td>\n",
       "      <td>6630.417978</td>\n",
       "      <td>6494.2670</td>\n",
       "      <td>6823.2515</td>\n",
       "      <td>6639.0327</td>\n",
       "      <td>6596.7530</td>\n",
       "      <td>6795.9990</td>\n",
       "      <td>6520.0</td>\n",
       "    </tr>\n",
       "  </tbody>\n",
       "</table>\n",
       "</div>"
      ],
      "text/plain": [
       "                     ARIMA       SARIMA        RNN       LSTM        CNN   \n",
       "FormattedTime                                                              \n",
       "02:39:20       7390.726635  7368.670382  7580.1430  7154.3604  7500.4854  \\\n",
       "02:39:25       7536.177200  7360.831983  7940.8857  7429.4300  7648.6570   \n",
       "02:39:30       7639.647900  7125.751017  7616.6800  7356.2964  7692.3640   \n",
       "02:39:35       7713.254942  6812.833747  7147.9985  7058.5435  7004.3210   \n",
       "02:39:40       7765.617558  6630.417978  6494.2670  6823.2515  6639.0327   \n",
       "\n",
       "                     GRU        TCN     Raw  \n",
       "FormattedTime                                \n",
       "02:39:20       7422.9053  6899.3740  9210.0  \n",
       "02:39:25       7372.8213  7276.6245  5120.0  \n",
       "02:39:30       7103.8940  7587.7847  7500.0  \n",
       "02:39:35       6729.4400  6163.3755  7660.0  \n",
       "02:39:40       6596.7530  6795.9990  6520.0  "
      ]
     },
     "execution_count": 6,
     "metadata": {},
     "output_type": "execute_result"
    }
   ],
   "source": [
    "# Load data\n",
    "dfs = {\n",
    "    \"l1\": load_data_from_tuned_folder(\"l1\", last_appearance=SHOW_LAST_APPEARANCE),\n",
    "}\n",
    "\n",
    "# Indicate which columns to ignore\n",
    "IGNORED_COLS = [\"Time\", \"Actual\"] # No need to include \"FormattedTime\" because it is used as index\n",
    "if IS_FILTERED: IGNORED_COLS.append(\"Raw\")\n",
    "\n",
    "# Get data from d1\n",
    "d1 = dfs[\"l1\"]\n",
    "d1 = d1.drop(columns=[\"Time\", \"Actual\"])\n",
    "\n",
    "# Print the number of rows in d1\n",
    "print(\"Number of rows in d1:\", len(d1))\n",
    "\n",
    "d1.head()"
   ]
  },
  {
   "cell_type": "code",
   "execution_count": 4,
   "metadata": {},
   "outputs": [],
   "source": [
    "# Assuming compute_rmse is not defined, you can define it as follows:\n",
    "def compute_rmse(y_true, y_pred):\n",
    "    return np.sqrt(mean_squared_error(y_true, y_pred))\n",
    "\n",
    "def train_test_model(sizeof_x_train: int):\n",
    "    # Split data: first of sizeof_x_train for training, the rest for testing\n",
    "    X = d1.drop(columns=[\"Raw\"])\n",
    "    y = d1[\"Raw\"]\n",
    "    X_train, X_test = X[:sizeof_x_train], X[sizeof_x_train:]\n",
    "    y_train, y_test = y[:sizeof_x_train], y[sizeof_x_train:]\n",
    "\n",
    "    # Train model using DecisionTreeRegressor for continuous target variable\n",
    "    model = DecisionTreeRegressor()\n",
    "    model.fit(X_train, y_train)\n",
    "\n",
    "    # Predict\n",
    "    y_pred = model.predict(X_test)\n",
    "\n",
    "    # Compute RMSE\n",
    "    rmse = compute_rmse(y_test, y_pred)\n",
    "\n",
    "    # Print RMSE\n",
    "    print(f\"RMSE: {rmse:.4f}\")"
   ]
  },
  {
   "cell_type": "code",
   "execution_count": 5,
   "metadata": {},
   "outputs": [
    {
     "name": "stdout",
     "output_type": "stream",
     "text": [
      "RMSE: 4052.4605\n"
     ]
    }
   ],
   "source": [
    "train_test_model(1000)"
   ]
  }
 ],
 "metadata": {
  "kernelspec": {
   "display_name": "Python 3",
   "language": "python",
   "name": "python3"
  },
  "language_info": {
   "codemirror_mode": {
    "name": "ipython",
    "version": 3
   },
   "file_extension": ".py",
   "mimetype": "text/x-python",
   "name": "python",
   "nbconvert_exporter": "python",
   "pygments_lexer": "ipython3",
   "version": "3.11.3"
  },
  "orig_nbformat": 4
 },
 "nbformat": 4,
 "nbformat_minor": 2
}
