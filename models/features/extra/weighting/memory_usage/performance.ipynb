{
 "cells": [
  {
   "cell_type": "markdown",
   "metadata": {},
   "source": [
    "## Overall Prediction Observation\n"
   ]
  },
  {
   "cell_type": "code",
   "execution_count": 21,
   "metadata": {},
   "outputs": [],
   "source": [
    "# Define variables\n",
    "IS_FILTERED = True\n",
    "ARCHIVED = None\n",
    "\n",
    "SHOW_HEADER = True\n",
    "SHOW_LAST_APPEARANCE = None"
   ]
  },
  {
   "cell_type": "code",
   "execution_count": 22,
   "metadata": {},
   "outputs": [],
   "source": [
    "# Import libraries\n",
    "import sys\n",
    "sys.path.append('../../prediction')\n",
    "\n",
    "import numpy as np\n",
    "import matplotlib.pyplot as plt\n",
    "\n",
    "from putils.observation import compute_rmse, compute_mae, compute_mape, load_data_from_tuned_folder"
   ]
  },
  {
   "cell_type": "code",
   "execution_count": 23,
   "metadata": {},
   "outputs": [],
   "source": [
    "# Load data\n",
    "dfs = {\n",
    "    \"l1\": load_data_from_tuned_folder(\"l1\", last_appearance=SHOW_LAST_APPEARANCE),\n",
    "    \"l2\": load_data_from_tuned_folder(\"l2\", last_appearance=SHOW_LAST_APPEARANCE),\n",
    "    \"l3\": load_data_from_tuned_folder(\"l3\", last_appearance=SHOW_LAST_APPEARANCE),\n",
    "}\n",
    "\n",
    "# Make L1 and L2 data have the same length with L3 if SHOW_LAST_APPEARANCE = None\n",
    "if SHOW_LAST_APPEARANCE is None:\n",
    "    dfs[\"l1\"] = dfs[\"l1\"].tail(len(dfs[\"l3\"]))\n",
    "    dfs[\"l2\"] = dfs[\"l2\"].tail(len(dfs[\"l3\"]))\n",
    "\n",
    "# Indicate which columns to ignore\n",
    "IGNORED_COLS = [\"Time\", \"Actual\"] # No need to include \"FormattedTime\" because it is used as index\n",
    "if IS_FILTERED: IGNORED_COLS.append(\"Raw\")"
   ]
  },
  {
   "cell_type": "code",
   "execution_count": 24,
   "metadata": {},
   "outputs": [
    {
     "name": "stdout",
     "output_type": "stream",
     "text": [
      "Layer l1\n",
      "ARIMA - RMSE: 0.0228, MAE: 0.0153, MAPE: 2.80%\n",
      "RNN - RMSE: 0.0149, MAE: 0.0103, MAPE: 1.88%\n",
      "LSTM - RMSE: 0.0155, MAE: 0.0106, MAPE: 1.94%\n",
      "CNN - RMSE: 0.0159, MAE: 0.0108, MAPE: 1.97%\n",
      "GRU - RMSE: 0.0152, MAE: 0.0105, MAPE: 1.92%\n",
      "------------------\n",
      "Layer l2\n",
      "LINEAR_REGRESSION - RMSE: 0.0149, MAE: 0.0103, MAPE: 1.87%\n",
      "RANDOM_FOREST - RMSE: 0.0153, MAE: 0.0105, MAPE: 1.90%\n",
      "FEEDFORWARD_NEURAL_NETWORK - RMSE: 0.0149, MAE: 0.0103, MAPE: 1.87%\n",
      "------------------\n",
      "Layer l3\n",
      "Predicted - RMSE: 0.0149, MAE: 0.0103, MAPE: 1.87%\n",
      "------------------\n"
     ]
    }
   ],
   "source": [
    "# Compute RMSE, MAE, and MAPE for each model\n",
    "for key, df in dfs.items():\n",
    "    print(\"Layer\", key)\n",
    "    for column in df.columns:\n",
    "        if column not in IGNORED_COLS:\n",
    "            actual = df[\"Raw\"] if IS_FILTERED else df[\"Actual\"]\n",
    "            rmse = compute_rmse(actual, df[column])\n",
    "            mape = compute_mape(actual, df[column])\n",
    "            mae = compute_mae(actual, df[column])\n",
    "            print(f\"{column} - RMSE: {rmse:.4f}, MAE: {mae:.4f}, MAPE: {mape:.2f}%\")\n",
    "    print(\"------------------\")"
   ]
  },
  {
   "cell_type": "code",
   "execution_count": 25,
   "metadata": {},
   "outputs": [],
   "source": [
    "# # Plot the data\n",
    "# header = (str(ARCHIVED) if ARCHIVED is not None else \"Current\") + \" - \"\n",
    "# header = header if SHOW_HEADER else \"\"\n",
    "\n",
    "# for key, df in dfs.items():\n",
    "#     # Plot the data\n",
    "#     fig, axes = plt.subplots(\n",
    "#         nrows=len(df.columns) - len(IGNORED_COLS),\n",
    "#         figsize=(10, 6 * (len(df.columns) - len(IGNORED_COLS))),\n",
    "#     )\n",
    "\n",
    "#     # Ensure axes is always a list or array\n",
    "#     if not isinstance(axes, np.ndarray):\n",
    "#         axes = [axes]\n",
    "\n",
    "#     ax_idx = 0  # Separate index for accessing axes\n",
    "\n",
    "#     for column in df.columns:\n",
    "#         if column not in IGNORED_COLS:\n",
    "#             actual_label = \"Reduced Noise\" if IS_FILTERED else \"Raw\"\n",
    "#             actual_color = \"green\" if IS_FILTERED else \"orange\"\n",
    "#             axes[ax_idx].plot(df.index, df[column], label=column)\n",
    "#             if IS_FILTERED:\n",
    "#                 axes[ax_idx].plot(\n",
    "#                     df.index,\n",
    "#                     df[\"Raw\"],\n",
    "#                     label=\"Raw\",\n",
    "#                     linestyle=\"-.\",\n",
    "#                     color=\"orange\",\n",
    "#                 )  # Added this line to plot the Raw values\n",
    "#             axes[ax_idx].plot(\n",
    "#                 df.index,\n",
    "#                 df[\"Actual\"],\n",
    "#                 label=actual_label,\n",
    "#                 linestyle=\"--\",\n",
    "#                 color=actual_color,\n",
    "#             )\n",
    "\n",
    "#             # Sparse Tick Labels logic\n",
    "#             n = 12  # Display every n-th label\n",
    "#             for index, label in enumerate(axes[ax_idx].xaxis.get_ticklabels()):\n",
    "#                 if index % n != 0:\n",
    "#                     label.set_visible(False)\n",
    "\n",
    "#             # Rotate the visible x-axis labels\n",
    "#             axes[ax_idx].tick_params(axis=\"x\", rotation=45)\n",
    "\n",
    "#             axes[ax_idx].legend()\n",
    "#             # axes[ax_idx].grid(True) # Uncomment this line to show grid lines\n",
    "#             title = f\"{header}Layer {key}: {column} vs Raw\"\n",
    "#             if IS_FILTERED:\n",
    "#                 title += \" vs Reduced Noise\"\n",
    "#             axes[ax_idx].set_title(title)\n",
    "#             ax_idx += 1  # Increment ax_idx\n",
    "\n",
    "#     plt.tight_layout()\n",
    "#     plt.show()\n",
    "#     print(\"------------------\")"
   ]
  }
 ],
 "metadata": {
  "kernelspec": {
   "display_name": "Python 3",
   "language": "python",
   "name": "python3"
  },
  "language_info": {
   "codemirror_mode": {
    "name": "ipython",
    "version": 3
   },
   "file_extension": ".py",
   "mimetype": "text/x-python",
   "name": "python",
   "nbconvert_exporter": "python",
   "pygments_lexer": "ipython3",
   "version": "3.11.3"
  },
  "orig_nbformat": 4
 },
 "nbformat": 4,
 "nbformat_minor": 2
}
