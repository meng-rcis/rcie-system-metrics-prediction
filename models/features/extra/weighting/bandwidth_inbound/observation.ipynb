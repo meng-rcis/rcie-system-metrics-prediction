{
 "cells": [
  {
   "cell_type": "code",
   "execution_count": 9,
   "metadata": {},
   "outputs": [],
   "source": [
    "# Import libraries\n",
    "import sys\n",
    "sys.path.append('../../../prediction')\n",
    "\n",
    "import numpy as np\n",
    "import pandas as pd\n",
    "import matplotlib.pyplot as plt\n",
    "\n",
    "from putils.observation import compute_rmse, compute_mae, compute_mape, load_data_from_tuned_folder"
   ]
  },
  {
   "cell_type": "code",
   "execution_count": 10,
   "metadata": {},
   "outputs": [],
   "source": [
    "# Define variables\n",
    "IS_FILTERED = True\n",
    "ARCHIVED = None\n",
    "\n",
    "SHOW_HEADER = True\n",
    "SHOW_LAST_APPEARANCE = None"
   ]
  },
  {
   "cell_type": "code",
   "execution_count": 11,
   "metadata": {},
   "outputs": [],
   "source": [
    "# Load data\n",
    "dfs = {\n",
    "    \"l1\": load_data_from_tuned_folder(\"l1\"),\n",
    "    \"l2\": load_data_from_tuned_folder(\"l2\"),\n",
    "    \"l3\": load_data_from_tuned_folder(\"l3\"),\n",
    "}\n",
    "\n",
    "weight_file = \"l1_weighted_average.csv\"\n",
    "dfs[\"l1_weighted_average\"] = pd.read_csv(weight_file)\n",
    "\n",
    "# Make data have the same length with L3\n",
    "dfs[\"l1\"] = dfs[\"l1\"].tail(len(dfs[\"l3\"]))\n",
    "dfs[\"l2\"] = dfs[\"l2\"].tail(len(dfs[\"l3\"]))\n",
    "# dfs[\"l1_weighted_average\"] = dfs[\"l1_weighted_average\"].tail(len(dfs[\"l3\"]))\n",
    "\n",
    "# Indicate which columns to ignore\n",
    "IGNORED_COLS = [\"Time\", \"Actual\", 'FormattedTime'] # No need to include \"FormattedTime\" because it is used as index\n",
    "if IS_FILTERED: IGNORED_COLS.append(\"Raw\")"
   ]
  },
  {
   "cell_type": "code",
   "execution_count": 12,
   "metadata": {},
   "outputs": [
    {
     "name": "stdout",
     "output_type": "stream",
     "text": [
      "Layer l1\n",
      "ARIMA - RMSE: 3657.4930, MAE: 2828.5929, MAPE: 59.27%\n",
      "SARIMA - RMSE: 3570142765.4344, MAE: 206705187.0240, MAPE: 6620079.09%\n",
      "RNN - RMSE: 2787.2507, MAE: 2179.4873, MAPE: 48.13%\n",
      "LSTM - RMSE: 2826.7991, MAE: 2221.6232, MAPE: 49.28%\n",
      "CNN - RMSE: 2897.4217, MAE: 2289.3315, MAPE: 50.15%\n",
      "GRU - RMSE: 2795.2381, MAE: 2187.4274, MAPE: 48.44%\n",
      "TCN - RMSE: 3069.8012, MAE: 2440.4078, MAPE: 53.72%\n",
      "------------------\n",
      "Layer l2\n",
      "LINEAR_REGRESSION - RMSE: 2775.2838, MAE: 2169.9336, MAPE: 48.06%\n",
      "RANDOM_FOREST - RMSE: 2800.6491, MAE: 2192.6197, MAPE: 48.35%\n",
      "FEEDFORWARD_NEURAL_NETWORK - RMSE: 2779.8037, MAE: 2173.5007, MAPE: 47.93%\n",
      "------------------\n",
      "Layer l3\n",
      "Predicted - RMSE: 2777.5877, MAE: 2173.0116, MAPE: 48.02%\n",
      "------------------\n",
      "Layer l1_weighted_average\n",
      "ARIMA - RMSE: 3657.4930, MAE: 2828.5929, MAPE: 59.27%\n",
      "RNN - RMSE: 2787.2507, MAE: 2179.4873, MAPE: 48.13%\n",
      "LSTM - RMSE: 2826.7991, MAE: 2221.6232, MAPE: 49.28%\n",
      "CNN - RMSE: 2897.4217, MAE: 2289.3315, MAPE: 50.15%\n",
      "GRU - RMSE: 2795.2381, MAE: 2187.4274, MAPE: 48.44%\n",
      "TCN - RMSE: 3069.8012, MAE: 2440.4078, MAPE: 53.72%\n",
      "Average - RMSE: 2852.7154, MAE: 2246.7925, MAPE: 49.63%\n",
      "------------------\n"
     ]
    }
   ],
   "source": [
    "# Compute RMSE, MAE, and MAPE for each model\n",
    "for key, df in dfs.items():\n",
    "    print(\"Layer\", key)\n",
    "    for column in df.columns:\n",
    "        if column not in IGNORED_COLS:\n",
    "            actual = df[\"Raw\"] if IS_FILTERED else df[\"Actual\"]\n",
    "            rmse = compute_rmse(actual, df[column])\n",
    "            mape = compute_mape(actual, df[column])\n",
    "            mae = compute_mae(actual, df[column])\n",
    "            print(f\"{column} - RMSE: {rmse:.4f}, MAE: {mae:.4f}, MAPE: {mape:.2f}%\")\n",
    "    print(\"------------------\")"
   ]
  }
 ],
 "metadata": {
  "kernelspec": {
   "display_name": "Python 3",
   "language": "python",
   "name": "python3"
  },
  "language_info": {
   "codemirror_mode": {
    "name": "ipython",
    "version": 3
   },
   "file_extension": ".py",
   "mimetype": "text/x-python",
   "name": "python",
   "nbconvert_exporter": "python",
   "pygments_lexer": "ipython3",
   "version": "3.11.3"
  }
 },
 "nbformat": 4,
 "nbformat_minor": 2
}
