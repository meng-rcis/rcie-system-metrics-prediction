{
 "cells": [
  {
   "cell_type": "code",
   "execution_count": 1,
   "metadata": {},
   "outputs": [],
   "source": [
    "# Import libraries\n",
    "import sys\n",
    "sys.path.append('../../../prediction')\n",
    "\n",
    "import numpy as np\n",
    "import pandas as pd\n",
    "import matplotlib.pyplot as plt\n",
    "\n",
    "from putils.observation import compute_rmse, compute_mae, compute_mape, load_data_from_tuned_folder"
   ]
  },
  {
   "cell_type": "code",
   "execution_count": 2,
   "metadata": {},
   "outputs": [],
   "source": [
    "# Define variables\n",
    "IS_FILTERED = True\n",
    "ARCHIVED = None\n",
    "\n",
    "SHOW_HEADER = True\n",
    "SHOW_LAST_APPEARANCE = None"
   ]
  },
  {
   "cell_type": "code",
   "execution_count": 3,
   "metadata": {},
   "outputs": [],
   "source": [
    "# Load data\n",
    "dfs = {\n",
    "    \"l1\": load_data_from_tuned_folder(\"l1\"),\n",
    "    \"l2\": load_data_from_tuned_folder(\"l2\"),\n",
    "    \"l3\": load_data_from_tuned_folder(\"l3\"),\n",
    "}\n",
    "\n",
    "weight_file = \"l1_weighted_average.csv\"\n",
    "dfs[\"l1_weighted_average\"] = pd.read_csv(weight_file)\n",
    "\n",
    "# Make data have the same length with L3\n",
    "dfs[\"l1\"] = dfs[\"l1\"].tail(len(dfs[\"l3\"]))\n",
    "dfs[\"l2\"] = dfs[\"l2\"].tail(len(dfs[\"l3\"]))\n",
    "# dfs[\"l1_weighted_average\"] = dfs[\"l1_weighted_average\"].tail(len(dfs[\"l3\"]))\n",
    "\n",
    "# Indicate which columns to ignore\n",
    "IGNORED_COLS = [\"Time\", \"Actual\", 'FormattedTime'] # No need to include \"FormattedTime\" because it is used as index\n",
    "if IS_FILTERED: IGNORED_COLS.append(\"Raw\")"
   ]
  },
  {
   "cell_type": "code",
   "execution_count": 4,
   "metadata": {},
   "outputs": [
    {
     "name": "stdout",
     "output_type": "stream",
     "text": [
      "Layer l1\n",
      "ARIMA - RMSE: 1049.1569, MAE: 746.8066, MAPE: 67.70%\n",
      "SARIMA - RMSE: 1049.1745, MAE: 745.4478, MAPE: 67.46%\n",
      "ETS - RMSE: 1459.6899, MAE: 1024.6374, MAPE: 94.28%\n",
      "RNN - RMSE: 642.3348, MAE: 495.1957, MAPE: 49.11%\n",
      "LSTM - RMSE: 665.7295, MAE: 516.6156, MAPE: 50.66%\n",
      "CNN - RMSE: 741.9941, MAE: 576.8489, MAPE: 58.00%\n",
      "GRU - RMSE: 649.1460, MAE: 501.2780, MAPE: 49.63%\n",
      "TCN - RMSE: 847.4626, MAE: 667.0838, MAPE: 66.95%\n",
      "------------------\n",
      "Layer l2\n",
      "LINEAR_REGRESSION - RMSE: 637.3582, MAE: 489.8354, MAPE: 47.91%\n",
      "RANDOM_FOREST - RMSE: 649.3304, MAE: 498.4929, MAPE: 48.91%\n",
      "FEEDFORWARD_NEURAL_NETWORK - RMSE: 650.6872, MAE: 498.2397, MAPE: 48.63%\n",
      "------------------\n",
      "Layer l3\n",
      "Predicted - RMSE: 640.2040, MAE: 491.5452, MAPE: 48.15%\n",
      "------------------\n",
      "Layer l1_weighted_average\n",
      "ARIMA - RMSE: 1049.1569, MAE: 746.8066, MAPE: 67.70%\n",
      "SARIMA - RMSE: 1049.1745, MAE: 745.4478, MAPE: 67.46%\n",
      "ETS - RMSE: 1459.6899, MAE: 1024.6374, MAPE: 94.28%\n",
      "RNN - RMSE: 642.3348, MAE: 495.1957, MAPE: 49.11%\n",
      "LSTM - RMSE: 665.7295, MAE: 516.6156, MAPE: 50.66%\n",
      "CNN - RMSE: 741.9941, MAE: 576.8489, MAPE: 58.00%\n",
      "GRU - RMSE: 649.1460, MAE: 501.2780, MAPE: 49.63%\n",
      "TCN - RMSE: 847.4626, MAE: 667.0838, MAPE: 66.95%\n",
      "Average - RMSE: 655.9325, MAE: 508.6267, MAPE: 50.65%\n",
      "------------------\n"
     ]
    }
   ],
   "source": [
    "# Compute RMSE, MAE, and MAPE for each model\n",
    "for key, df in dfs.items():\n",
    "    print(\"Layer\", key)\n",
    "    for column in df.columns:\n",
    "        if column not in IGNORED_COLS:\n",
    "            actual = df[\"Raw\"] if IS_FILTERED else df[\"Actual\"]\n",
    "            rmse = compute_rmse(actual, df[column])\n",
    "            mape = compute_mape(actual, df[column])\n",
    "            mae = compute_mae(actual, df[column])\n",
    "            print(f\"{column} - RMSE: {rmse:.4f}, MAE: {mae:.4f}, MAPE: {mape:.2f}%\")\n",
    "    print(\"------------------\")"
   ]
  }
 ],
 "metadata": {
  "kernelspec": {
   "display_name": "Python 3",
   "language": "python",
   "name": "python3"
  },
  "language_info": {
   "codemirror_mode": {
    "name": "ipython",
    "version": 3
   },
   "file_extension": ".py",
   "mimetype": "text/x-python",
   "name": "python",
   "nbconvert_exporter": "python",
   "pygments_lexer": "ipython3",
   "version": "3.11.3"
  }
 },
 "nbformat": 4,
 "nbformat_minor": 2
}
