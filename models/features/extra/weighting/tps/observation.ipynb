{
 "cells": [
  {
   "cell_type": "code",
   "execution_count": 5,
   "metadata": {},
   "outputs": [],
   "source": [
    "# Import libraries\n",
    "import sys\n",
    "sys.path.append('../../../prediction')\n",
    "\n",
    "import numpy as np\n",
    "import pandas as pd\n",
    "import matplotlib.pyplot as plt\n",
    "\n",
    "from putils.observation import compute_rmse, compute_mae, compute_mape, load_data_from_tuned_folder"
   ]
  },
  {
   "cell_type": "code",
   "execution_count": 6,
   "metadata": {},
   "outputs": [],
   "source": [
    "# Define variables\n",
    "IS_FILTERED = True\n",
    "ARCHIVED = None\n",
    "\n",
    "SHOW_HEADER = True\n",
    "SHOW_LAST_APPEARANCE = None"
   ]
  },
  {
   "cell_type": "code",
   "execution_count": 7,
   "metadata": {},
   "outputs": [],
   "source": [
    "# Load data\n",
    "dfs = {\n",
    "    \"l1\": load_data_from_tuned_folder(\"l1\"),\n",
    "    \"l2\": load_data_from_tuned_folder(\"l2\"),\n",
    "    \"l3\": load_data_from_tuned_folder(\"l3\"),\n",
    "}\n",
    "\n",
    "weight_file = \"l1_weighted_average.csv\"\n",
    "dfs[\"l1_weighted_average\"] = pd.read_csv(weight_file)\n",
    "\n",
    "# Make data have the same length with L3\n",
    "dfs[\"l1\"] = dfs[\"l1\"].tail(len(dfs[\"l3\"]))\n",
    "dfs[\"l2\"] = dfs[\"l2\"].tail(len(dfs[\"l3\"]))\n",
    "# dfs[\"l1_weighted_average\"] = dfs[\"l1_weighted_average\"].tail(len(dfs[\"l3\"]))\n",
    "\n",
    "# Indicate which columns to ignore\n",
    "IGNORED_COLS = [\"Time\", \"Actual\", 'FormattedTime'] # No need to include \"FormattedTime\" because it is used as index\n",
    "if IS_FILTERED: IGNORED_COLS.append(\"Raw\")"
   ]
  },
  {
   "cell_type": "code",
   "execution_count": 8,
   "metadata": {},
   "outputs": [
    {
     "name": "stdout",
     "output_type": "stream",
     "text": [
      "Layer l1\n",
      "ARIMA - RMSE: 0.8338, MAE: 0.6441, MAPE: 29.69%\n",
      "SARIMA - RMSE: 0.8313, MAE: 0.6404, MAPE: 29.55%\n",
      "RNN - RMSE: 0.6364, MAE: 0.5036, MAPE: 23.89%\n",
      "LSTM - RMSE: 0.6459, MAE: 0.5119, MAPE: 24.22%\n",
      "CNN - RMSE: 0.6737, MAE: 0.5341, MAPE: 25.44%\n",
      "GRU - RMSE: 0.6405, MAE: 0.5078, MAPE: 24.15%\n",
      "TCN - RMSE: 0.7071, MAE: 0.5650, MAPE: 26.81%\n",
      "------------------\n",
      "Layer l2\n",
      "LINEAR_REGRESSION - RMSE: 0.6346, MAE: 0.5019, MAPE: 23.70%\n",
      "RANDOM_FOREST - RMSE: 0.6383, MAE: 0.5045, MAPE: 23.85%\n",
      "FEEDFORWARD_NEURAL_NETWORK - RMSE: 0.6384, MAE: 0.5046, MAPE: 23.67%\n",
      "------------------\n",
      "Layer l3\n",
      "Predicted - RMSE: 0.6348, MAE: 0.5022, MAPE: 23.68%\n",
      "------------------\n",
      "Layer l1_weighted_average\n",
      "ARIMA - RMSE: 0.8338, MAE: 0.6441, MAPE: 29.69%\n",
      "SARIMA - RMSE: 0.8313, MAE: 0.6404, MAPE: 29.55%\n",
      "RNN - RMSE: 0.6364, MAE: 0.5036, MAPE: 23.89%\n",
      "LSTM - RMSE: 0.6459, MAE: 0.5119, MAPE: 24.22%\n",
      "CNN - RMSE: 0.6737, MAE: 0.5341, MAPE: 25.44%\n",
      "GRU - RMSE: 0.6405, MAE: 0.5078, MAPE: 24.15%\n",
      "TCN - RMSE: 0.7071, MAE: 0.5650, MAPE: 26.81%\n",
      "Average - RMSE: 0.6377, MAE: 0.5053, MAPE: 23.99%\n",
      "------------------\n"
     ]
    }
   ],
   "source": [
    "# Compute RMSE, MAE, and MAPE for each model\n",
    "for key, df in dfs.items():\n",
    "    print(\"Layer\", key)\n",
    "    for column in df.columns:\n",
    "        if column not in IGNORED_COLS:\n",
    "            actual = df[\"Raw\"] if IS_FILTERED else df[\"Actual\"]\n",
    "            rmse = compute_rmse(actual, df[column])\n",
    "            mape = compute_mape(actual, df[column])\n",
    "            mae = compute_mae(actual, df[column])\n",
    "            print(f\"{column} - RMSE: {rmse:.4f}, MAE: {mae:.4f}, MAPE: {mape:.2f}%\")\n",
    "    print(\"------------------\")"
   ]
  }
 ],
 "metadata": {
  "kernelspec": {
   "display_name": "Python 3",
   "language": "python",
   "name": "python3"
  },
  "language_info": {
   "codemirror_mode": {
    "name": "ipython",
    "version": 3
   },
   "file_extension": ".py",
   "mimetype": "text/x-python",
   "name": "python",
   "nbconvert_exporter": "python",
   "pygments_lexer": "ipython3",
   "version": "3.11.3"
  }
 },
 "nbformat": 4,
 "nbformat_minor": 2
}
