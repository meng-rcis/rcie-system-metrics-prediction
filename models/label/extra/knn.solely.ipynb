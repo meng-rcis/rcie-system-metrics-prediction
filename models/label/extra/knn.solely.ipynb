{
  "cells": [
    {
      "attachments": {},
      "cell_type": "markdown",
      "metadata": {},
      "source": [
        "### Logistic Regression - Label Classification"
      ]
    },
    {
      "cell_type": "code",
      "execution_count": 1,
      "metadata": {},
      "outputs": [],
      "source": [
        "import sys\n",
        "sys.path.append('../../../')\n",
        "\n",
        "# Import libraries\n",
        "from utils.score import fold_cross_validate\n",
        "from utils.print import print_cross_validation_scores\n",
        "from constant.columns import FEATURES, LABEL\n",
        "\n",
        "import pandas as pd\n",
        "from sklearn.neighbors import KNeighborsClassifier\n",
        "from sklearn.model_selection import train_test_split"
      ]
    },
    {
      "cell_type": "code",
      "execution_count": 2,
      "metadata": {},
      "outputs": [],
      "source": [
        "# Import data\n",
        "df = pd.read_csv('../source/dataset.csv')"
      ]
    },
    {
      "attachments": {},
      "cell_type": "markdown",
      "metadata": {},
      "source": [
        "#### Cross validation checking each metrics performance"
      ]
    },
    {
      "cell_type": "code",
      "execution_count": 3,
      "metadata": {},
      "outputs": [
        {
          "name": "stdout",
          "output_type": "stream",
          "text": [
            "Feature: cpu_usage\n",
            "MACRO:\n",
            "Precision: 0.4646 (0.0172)\n",
            "Recall: 0.4986 (0.0029)\n",
            "F1 score: 0.4808 (0.0093)\n",
            "---------------------------------\n",
            "Feature: memory_usage\n",
            "MACRO:\n",
            "Precision: 0.4644 (0.0172)\n",
            "Recall: 0.4944 (0.0068)\n",
            "F1 score: 0.4787 (0.0085)\n",
            "---------------------------------\n",
            "Feature: bandwidth_inbound\n",
            "MACRO:\n",
            "Precision: 0.4645 (0.0173)\n",
            "Recall: 0.4971 (0.0047)\n",
            "F1 score: 0.4801 (0.0099)\n",
            "---------------------------------\n",
            "Feature: bandwidth_outbound\n",
            "MACRO:\n",
            "Precision: 0.4646 (0.0171)\n",
            "Recall: 0.4993 (0.0021)\n",
            "F1 score: 0.4812 (0.0090)\n",
            "---------------------------------\n",
            "Feature: tps\n",
            "MACRO:\n",
            "Precision: 0.5848 (0.1783)\n",
            "Recall: 0.5350 (0.0594)\n",
            "F1 score: 0.5393 (0.0866)\n",
            "---------------------------------\n",
            "Feature: response_time\n",
            "MACRO:\n",
            "Precision: 0.6894 (0.2134)\n",
            "Recall: 0.5964 (0.1475)\n",
            "F1 score: 0.5986 (0.1251)\n",
            "---------------------------------\n",
            "Feature: ['cpu_usage', 'memory_usage', 'bandwidth_inbound', 'bandwidth_outbound', 'tps', 'response_time']\n",
            "MACRO:\n",
            "Precision: 0.6107 (0.1953)\n",
            "Recall: 0.5455 (0.0809)\n",
            "F1 score: 0.5473 (0.0885)\n",
            "---------------------------------\n"
          ]
        }
      ],
      "source": [
        "for feature in FEATURES:\n",
        "    X, y = df[[feature]], df[LABEL]\n",
        "    X_train, X_test, y_train, y_test = train_test_split(X, y, test_size=0.5, shuffle=False)\n",
        "    clf_cv = KNeighborsClassifier()\n",
        "    scores = fold_cross_validate(clf_cv, X_test, y_test)\n",
        "\n",
        "    # Print scores\n",
        "    print(\"Feature:\", feature)\n",
        "    print_cross_validation_scores(scores, is_micro_required=False)\n",
        "\n",
        "X, y = df[FEATURES], df[LABEL]\n",
        "X_train, X_test, y_train, y_test = train_test_split(X, y, test_size=0.5, shuffle=False)\n",
        "clf_cv = KNeighborsClassifier()\n",
        "scores = fold_cross_validate(clf_cv, X_test, y_test)\n",
        "\n",
        "# Print scores\n",
        "print(\"Feature:\", FEATURES)\n",
        "print_cross_validation_scores(scores, is_micro_required=False)\n"
      ]
    }
  ],
  "metadata": {
    "kernelspec": {
      "display_name": "Python 3",
      "language": "python",
      "name": "python3"
    },
    "language_info": {
      "codemirror_mode": {
        "name": "ipython",
        "version": 3
      },
      "file_extension": ".py",
      "mimetype": "text/x-python",
      "name": "python",
      "nbconvert_exporter": "python",
      "pygments_lexer": "ipython3",
      "version": "3.11.3"
    },
    "orig_nbformat": 4
  },
  "nbformat": 4,
  "nbformat_minor": 2
}
