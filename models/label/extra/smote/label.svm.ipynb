{
  "cells": [
    {
      "attachments": {},
      "cell_type": "markdown",
      "metadata": {},
      "source": [
        "### Support Vector Machine (SVM) - Label Classification"
      ]
    },
    {
      "cell_type": "code",
      "execution_count": 10,
      "metadata": {},
      "outputs": [],
      "source": [
        "import sys\n",
        "sys.path.append('../../../../')\n",
        "\n",
        "# Import libraries\n",
        "from utils.score import fold_cross_validate\n",
        "from utils.print import print_cross_validation_scores\n",
        "from constant.columns import FEATURES, LABEL, SIZE, TARGET_Y, MODE, IS_SINGLE_INPUT\n",
        "\n",
        "import pandas as pd\n",
        "from sklearn import svm\n",
        "from sklearn.model_selection import train_test_split"
      ]
    },
    {
      "cell_type": "code",
      "execution_count": 11,
      "metadata": {},
      "outputs": [
        {
          "name": "stdout",
          "output_type": "stream",
          "text": [
            "WINDOW_SIZE: 10_10\n"
          ]
        },
        {
          "ename": "KeyError",
          "evalue": "\"['cpu_usage_5', 'cpu_usage_6', 'cpu_usage_7', 'cpu_usage_8', 'cpu_usage_9', 'memory_usage_5', 'memory_usage_6', 'memory_usage_7', 'memory_usage_8', 'memory_usage_9', 'bandwidth_inbound_5', 'bandwidth_inbound_6', 'bandwidth_inbound_7', 'bandwidth_inbound_8', 'bandwidth_inbound_9', 'bandwidth_outbound_5', 'bandwidth_outbound_6', 'bandwidth_outbound_7', 'bandwidth_outbound_8', 'bandwidth_outbound_9', 'tps_5', 'tps_6', 'tps_7', 'tps_8', 'tps_9', 'response_time_5', 'response_time_6', 'response_time_7', 'response_time_8', 'response_time_9'] not in index\"",
          "output_type": "error",
          "traceback": [
            "\u001b[1;31m---------------------------------------------------------------------------\u001b[0m",
            "\u001b[1;31mKeyError\u001b[0m                                  Traceback (most recent call last)",
            "Cell \u001b[1;32mIn[11], line 21\u001b[0m\n\u001b[0;32m     19\u001b[0m \u001b[38;5;66;03m# Read dataset\u001b[39;00m\n\u001b[0;32m     20\u001b[0m df \u001b[38;5;241m=\u001b[39m pd\u001b[38;5;241m.\u001b[39mread_csv(\u001b[38;5;124mf\u001b[39m\u001b[38;5;124m'\u001b[39m\u001b[38;5;124m./source/dataset_smote.csv\u001b[39m\u001b[38;5;124m'\u001b[39m)\n\u001b[1;32m---> 21\u001b[0m X, y \u001b[38;5;241m=\u001b[39m \u001b[43mdf\u001b[49m\u001b[43m[\u001b[49m\u001b[43mfeat\u001b[49m\u001b[43m]\u001b[49m, df[LABEL]\n\u001b[0;32m     23\u001b[0m \u001b[38;5;66;03m# Split the dataset\u001b[39;00m\n\u001b[0;32m     24\u001b[0m X_train, X_test, y_train, y_test \u001b[38;5;241m=\u001b[39m train_test_split(X, y, test_size\u001b[38;5;241m=\u001b[39m\u001b[38;5;241m0.5\u001b[39m)\n",
            "File \u001b[1;32mc:\\Users\\dell\\AppData\\Local\\Programs\\Python\\Python311\\Lib\\site-packages\\pandas\\core\\frame.py:3767\u001b[0m, in \u001b[0;36mDataFrame.__getitem__\u001b[1;34m(self, key)\u001b[0m\n\u001b[0;32m   3765\u001b[0m     \u001b[38;5;28;01mif\u001b[39;00m is_iterator(key):\n\u001b[0;32m   3766\u001b[0m         key \u001b[38;5;241m=\u001b[39m \u001b[38;5;28mlist\u001b[39m(key)\n\u001b[1;32m-> 3767\u001b[0m     indexer \u001b[38;5;241m=\u001b[39m \u001b[38;5;28;43mself\u001b[39;49m\u001b[38;5;241;43m.\u001b[39;49m\u001b[43mcolumns\u001b[49m\u001b[38;5;241;43m.\u001b[39;49m\u001b[43m_get_indexer_strict\u001b[49m\u001b[43m(\u001b[49m\u001b[43mkey\u001b[49m\u001b[43m,\u001b[49m\u001b[43m \u001b[49m\u001b[38;5;124;43m\"\u001b[39;49m\u001b[38;5;124;43mcolumns\u001b[39;49m\u001b[38;5;124;43m\"\u001b[39;49m\u001b[43m)\u001b[49m[\u001b[38;5;241m1\u001b[39m]\n\u001b[0;32m   3769\u001b[0m \u001b[38;5;66;03m# take() does not accept boolean indexers\u001b[39;00m\n\u001b[0;32m   3770\u001b[0m \u001b[38;5;28;01mif\u001b[39;00m \u001b[38;5;28mgetattr\u001b[39m(indexer, \u001b[38;5;124m\"\u001b[39m\u001b[38;5;124mdtype\u001b[39m\u001b[38;5;124m\"\u001b[39m, \u001b[38;5;28;01mNone\u001b[39;00m) \u001b[38;5;241m==\u001b[39m \u001b[38;5;28mbool\u001b[39m:\n",
            "File \u001b[1;32mc:\\Users\\dell\\AppData\\Local\\Programs\\Python\\Python311\\Lib\\site-packages\\pandas\\core\\indexes\\base.py:5876\u001b[0m, in \u001b[0;36mIndex._get_indexer_strict\u001b[1;34m(self, key, axis_name)\u001b[0m\n\u001b[0;32m   5873\u001b[0m \u001b[38;5;28;01melse\u001b[39;00m:\n\u001b[0;32m   5874\u001b[0m     keyarr, indexer, new_indexer \u001b[38;5;241m=\u001b[39m \u001b[38;5;28mself\u001b[39m\u001b[38;5;241m.\u001b[39m_reindex_non_unique(keyarr)\n\u001b[1;32m-> 5876\u001b[0m \u001b[38;5;28;43mself\u001b[39;49m\u001b[38;5;241;43m.\u001b[39;49m\u001b[43m_raise_if_missing\u001b[49m\u001b[43m(\u001b[49m\u001b[43mkeyarr\u001b[49m\u001b[43m,\u001b[49m\u001b[43m \u001b[49m\u001b[43mindexer\u001b[49m\u001b[43m,\u001b[49m\u001b[43m \u001b[49m\u001b[43maxis_name\u001b[49m\u001b[43m)\u001b[49m\n\u001b[0;32m   5878\u001b[0m keyarr \u001b[38;5;241m=\u001b[39m \u001b[38;5;28mself\u001b[39m\u001b[38;5;241m.\u001b[39mtake(indexer)\n\u001b[0;32m   5879\u001b[0m \u001b[38;5;28;01mif\u001b[39;00m \u001b[38;5;28misinstance\u001b[39m(key, Index):\n\u001b[0;32m   5880\u001b[0m     \u001b[38;5;66;03m# GH 42790 - Preserve name from an Index\u001b[39;00m\n",
            "File \u001b[1;32mc:\\Users\\dell\\AppData\\Local\\Programs\\Python\\Python311\\Lib\\site-packages\\pandas\\core\\indexes\\base.py:5938\u001b[0m, in \u001b[0;36mIndex._raise_if_missing\u001b[1;34m(self, key, indexer, axis_name)\u001b[0m\n\u001b[0;32m   5935\u001b[0m     \u001b[38;5;28;01mraise\u001b[39;00m \u001b[38;5;167;01mKeyError\u001b[39;00m(\u001b[38;5;124mf\u001b[39m\u001b[38;5;124m\"\u001b[39m\u001b[38;5;124mNone of [\u001b[39m\u001b[38;5;132;01m{\u001b[39;00mkey\u001b[38;5;132;01m}\u001b[39;00m\u001b[38;5;124m] are in the [\u001b[39m\u001b[38;5;132;01m{\u001b[39;00maxis_name\u001b[38;5;132;01m}\u001b[39;00m\u001b[38;5;124m]\u001b[39m\u001b[38;5;124m\"\u001b[39m)\n\u001b[0;32m   5937\u001b[0m not_found \u001b[38;5;241m=\u001b[39m \u001b[38;5;28mlist\u001b[39m(ensure_index(key)[missing_mask\u001b[38;5;241m.\u001b[39mnonzero()[\u001b[38;5;241m0\u001b[39m]]\u001b[38;5;241m.\u001b[39munique())\n\u001b[1;32m-> 5938\u001b[0m \u001b[38;5;28;01mraise\u001b[39;00m \u001b[38;5;167;01mKeyError\u001b[39;00m(\u001b[38;5;124mf\u001b[39m\u001b[38;5;124m\"\u001b[39m\u001b[38;5;132;01m{\u001b[39;00mnot_found\u001b[38;5;132;01m}\u001b[39;00m\u001b[38;5;124m not in index\u001b[39m\u001b[38;5;124m\"\u001b[39m)\n",
            "\u001b[1;31mKeyError\u001b[0m: \"['cpu_usage_5', 'cpu_usage_6', 'cpu_usage_7', 'cpu_usage_8', 'cpu_usage_9', 'memory_usage_5', 'memory_usage_6', 'memory_usage_7', 'memory_usage_8', 'memory_usage_9', 'bandwidth_inbound_5', 'bandwidth_inbound_6', 'bandwidth_inbound_7', 'bandwidth_inbound_8', 'bandwidth_inbound_9', 'bandwidth_outbound_5', 'bandwidth_outbound_6', 'bandwidth_outbound_7', 'bandwidth_outbound_8', 'bandwidth_outbound_9', 'tps_5', 'tps_6', 'tps_7', 'tps_8', 'tps_9', 'response_time_5', 'response_time_6', 'response_time_7', 'response_time_8', 'response_time_9'] not in index\""
          ]
        }
      ],
      "source": [
        "# Import data\n",
        "feat = FEATURES\n",
        "if IS_SINGLE_INPUT ==  False:\n",
        "    WINDOW_SIZE = f\"{SIZE}_{TARGET_Y}\"\n",
        "    if MODE == 1:\n",
        "        WINDOW_SIZE = f\"{SIZE}_{TARGET_Y}_normalize\"\n",
        "    if MODE == 2:\n",
        "        WINDOW_SIZE = f\"{SIZE}_{TARGET_Y}_normalize_std\"\n",
        "\n",
        "    print(f'WINDOW_SIZE: {WINDOW_SIZE}')\n",
        "    # Get features with window size\n",
        "    expanded_features = []\n",
        "    for feature in FEATURES:\n",
        "        for i in range(SIZE):\n",
        "            expanded_features.append(f'{feature}_{i}')\n",
        "    \n",
        "    feat = expanded_features\n",
        "\n",
        "# Read dataset\n",
        "df = pd.read_csv(f'./source/dataset_smote.csv')\n",
        "X, y = df[feat], df[LABEL]\n",
        "\n",
        "# Split the dataset\n",
        "X_train, X_test, y_train, y_test = train_test_split(X, y, test_size=0.5)"
      ]
    },
    {
      "attachments": {},
      "cell_type": "markdown",
      "metadata": {},
      "source": [
        "#### Cross Validation"
      ]
    },
    {
      "cell_type": "code",
      "execution_count": null,
      "metadata": {},
      "outputs": [
        {
          "name": "stdout",
          "output_type": "stream",
          "text": [
            "MACRO:\n",
            "Precision: 0.8327 (0.0242)\n",
            "Recall: 0.8276 (0.0246)\n",
            "F1 score: 0.8272 (0.0258)\n",
            "---------------------------------\n",
            "MICRO:\n",
            "Precision: 0.8288 (0.0259)\n",
            "Recall: 0.8288 (0.0259)\n",
            "F1 score: 0.8288 (0.0259)\n",
            "---------------------------------\n"
          ]
        }
      ],
      "source": [
        "# Define the model\n",
        "clf_cv = svm.SVC()\n",
        "scores = fold_cross_validate(clf_cv, X_test, y_test)\n",
        "\n",
        "# Print scores\n",
        "print_cross_validation_scores(scores)"
      ]
    }
  ],
  "metadata": {
    "kernelspec": {
      "display_name": "Python 3",
      "language": "python",
      "name": "python3"
    },
    "language_info": {
      "codemirror_mode": {
        "name": "ipython",
        "version": 3
      },
      "file_extension": ".py",
      "mimetype": "text/x-python",
      "name": "python",
      "nbconvert_exporter": "python",
      "pygments_lexer": "ipython3",
      "version": "3.11.3"
    },
    "orig_nbformat": 4
  },
  "nbformat": 4,
  "nbformat_minor": 2
}
