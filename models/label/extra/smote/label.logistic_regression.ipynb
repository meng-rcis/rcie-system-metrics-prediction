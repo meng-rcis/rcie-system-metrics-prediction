{
  "cells": [
    {
      "attachments": {},
      "cell_type": "markdown",
      "metadata": {},
      "source": [
        "### Logistic Regression - Label Classification"
      ]
    },
    {
      "cell_type": "code",
      "execution_count": 2,
      "metadata": {},
      "outputs": [],
      "source": [
        "import sys\n",
        "sys.path.append('../../../../')\n",
        "\n",
        "# Import libraries\n",
        "from utils.score import fold_cross_validate\n",
        "from utils.print import print_cross_validation_scores\n",
        "from constant.columns import FEATURES, LABEL, SIZE, TARGET_Y, MODE, IS_SINGLE_INPUT\n",
        "\n",
        "import pandas as pd\n",
        "from sklearn.linear_model import LogisticRegression\n",
        "from sklearn.model_selection import train_test_split"
      ]
    },
    {
      "cell_type": "code",
      "execution_count": 3,
      "metadata": {},
      "outputs": [
        {
          "name": "stdout",
          "output_type": "stream",
          "text": [
            "WINDOW_SIZE: 10_10\n"
          ]
        }
      ],
      "source": [
        "# Import data\n",
        "feat = FEATURES\n",
        "if IS_SINGLE_INPUT ==  False:\n",
        "    WINDOW_SIZE = f\"{SIZE}_{TARGET_Y}\"\n",
        "    if MODE == 1:\n",
        "        WINDOW_SIZE = f\"{SIZE}_{TARGET_Y}_normalize\"\n",
        "    if MODE == 2:\n",
        "        WINDOW_SIZE = f\"{SIZE}_{TARGET_Y}_normalize_std\"\n",
        "\n",
        "    print(f'WINDOW_SIZE: {WINDOW_SIZE}')\n",
        "    # Get features with window size\n",
        "    expanded_features = []\n",
        "    for feature in FEATURES:\n",
        "        for i in range(SIZE):\n",
        "            expanded_features.append(f'{feature}_{i}')\n",
        "    \n",
        "    feat = expanded_features\n",
        "\n",
        "# # Read dataset\n",
        "# df = pd.read_csv(f'./source/dataset_smote.csv')\n",
        "# X, y = df[feat], df[LABEL]\n",
        "\n",
        "# # Split the dataset\n",
        "# X_train, X_test, y_train, y_test = train_test_split(X, y, test_size=0.5)\n",
        "    \n",
        "# Read dataset\n",
        "df = pd.read_csv(f'./source/dataset_smote.csv')\n",
        "X_train, y_train = df[feat], df[LABEL]\n",
        "\n",
        "# Read test dataset\n",
        "df_test = pd.read_csv(f'./source/dataset_test.csv')\n",
        "X_test, y_test = df_test[feat], df_test[LABEL]"
      ]
    },
    {
      "attachments": {},
      "cell_type": "markdown",
      "metadata": {},
      "source": [
        "#### Cross Validation"
      ]
    },
    {
      "cell_type": "code",
      "execution_count": 4,
      "metadata": {},
      "outputs": [
        {
          "name": "stdout",
          "output_type": "stream",
          "text": [
            "Macro-averaged F1 score: 0.6427893738140418\n"
          ]
        },
        {
          "name": "stderr",
          "output_type": "stream",
          "text": [
            "c:\\Users\\dell\\AppData\\Local\\Programs\\Python\\Python311\\Lib\\site-packages\\sklearn\\utils\\validation.py:1143: DataConversionWarning: A column-vector y was passed when a 1d array was expected. Please change the shape of y to (n_samples, ), for example using ravel().\n",
            "  y = column_or_1d(y, warn=True)\n",
            "c:\\Users\\dell\\AppData\\Local\\Programs\\Python\\Python311\\Lib\\site-packages\\sklearn\\linear_model\\_logistic.py:458: ConvergenceWarning: lbfgs failed to converge (status=1):\n",
            "STOP: TOTAL NO. of ITERATIONS REACHED LIMIT.\n",
            "\n",
            "Increase the number of iterations (max_iter) or scale the data as shown in:\n",
            "    https://scikit-learn.org/stable/modules/preprocessing.html\n",
            "Please also refer to the documentation for alternative solver options:\n",
            "    https://scikit-learn.org/stable/modules/linear_model.html#logistic-regression\n",
            "  n_iter_i = _check_optimize_result(\n"
          ]
        }
      ],
      "source": [
        "from sklearn.metrics import f1_score\n",
        "\n",
        "# Define the model\n",
        "clf_cv = LogisticRegression()\n",
        "\n",
        "# Train the model with SMOTE data\n",
        "clf_cv.fit(X_train, y_train)\n",
        "\n",
        "# Use the trained model to make predictions on the test set\n",
        "y_pred = clf_cv.predict(X_test)\n",
        "\n",
        "# Calculate the macro-averaged F1 score\n",
        "f1_macro = f1_score(y_test, y_pred, average='macro')\n",
        "\n",
        "# Print the macro-averaged F1 score\n",
        "print(f\"Macro-averaged F1 score: {f1_macro}\")"
      ]
    },
    {
      "cell_type": "code",
      "execution_count": 44,
      "metadata": {},
      "outputs": [],
      "source": [
        "# # Define the optimized model (previous research)\n",
        "# clf_cv = LogisticRegression(penalty=\"l1\", C=1, solver=\"liblinear\", max_iter=100, class_weight=None, fit_intercept=False, multi_class=\"auto\")\n",
        "# scores = fold_cross_validate(clf_cv, X_test, y_test)\n",
        "\n",
        "# # Print scores\n",
        "# print_cross_validation_scores(scores)"
      ]
    }
  ],
  "metadata": {
    "kernelspec": {
      "display_name": "Python 3",
      "language": "python",
      "name": "python3"
    },
    "language_info": {
      "codemirror_mode": {
        "name": "ipython",
        "version": 3
      },
      "file_extension": ".py",
      "mimetype": "text/x-python",
      "name": "python",
      "nbconvert_exporter": "python",
      "pygments_lexer": "ipython3",
      "version": "3.11.3"
    },
    "orig_nbformat": 4
  },
  "nbformat": 4,
  "nbformat_minor": 2
}
