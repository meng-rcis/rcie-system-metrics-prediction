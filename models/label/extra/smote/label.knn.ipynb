{
 "cells": [
  {
   "cell_type": "markdown",
   "metadata": {},
   "source": [
    "### K-Nearest Neighbors (KNN) - Label Classification"
   ]
  },
  {
   "cell_type": "code",
   "execution_count": 10,
   "metadata": {},
   "outputs": [],
   "source": [
    "import sys\n",
    "sys.path.append('../../../../')\n",
    "\n",
    "# Import all required libraries\n",
    "from utils.score import fold_cross_validate\n",
    "from utils.print import print_cross_validation_scores\n",
    "from constant.columns import FEATURES, LABEL, SIZE, TARGET_Y, MODE, IS_SINGLE_INPUT\n",
    "\n",
    "import pandas as pd\n",
    "from sklearn.neighbors import KNeighborsClassifier\n",
    "from sklearn.model_selection import train_test_split"
   ]
  },
  {
   "cell_type": "code",
   "execution_count": 11,
   "metadata": {},
   "outputs": [
    {
     "name": "stdout",
     "output_type": "stream",
     "text": [
      "WINDOW_SIZE: 10_10\n"
     ]
    }
   ],
   "source": [
    "# Import data\n",
    "feat = FEATURES\n",
    "if IS_SINGLE_INPUT ==  False:\n",
    "    WINDOW_SIZE = f\"{SIZE}_{TARGET_Y}\"\n",
    "    if MODE == 1:\n",
    "        WINDOW_SIZE = f\"{SIZE}_{TARGET_Y}_normalize\"\n",
    "    if MODE == 2:\n",
    "        WINDOW_SIZE = f\"{SIZE}_{TARGET_Y}_normalize_std\"\n",
    "\n",
    "    print(f'WINDOW_SIZE: {WINDOW_SIZE}')\n",
    "    # Get features with window size\n",
    "    expanded_features = []\n",
    "    for feature in FEATURES:\n",
    "        for i in range(SIZE):\n",
    "            expanded_features.append(f'{feature}_{i}')\n",
    "    \n",
    "    feat = expanded_features\n",
    "\n",
    "# Read dataset\n",
    "df = pd.read_csv(f'./source/dataset_smote.csv')\n",
    "X, y = df[feat], df[LABEL]\n",
    "\n",
    "# Split the dataset\n",
    "X_train, X_test, y_train, y_test = train_test_split(X, y, test_size=0.5)"
   ]
  },
  {
   "cell_type": "markdown",
   "metadata": {},
   "source": [
    "#### Cross Validation"
   ]
  },
  {
   "cell_type": "code",
   "execution_count": 12,
   "metadata": {},
   "outputs": [
    {
     "name": "stdout",
     "output_type": "stream",
     "text": [
      "MACRO:\n",
      "Precision: 0.8827 (0.0312)\n",
      "Recall: 0.8485 (0.0297)\n",
      "F1 score: 0.8455 (0.0388)\n",
      "---------------------------------\n",
      "MICRO:\n",
      "Precision: 0.8496 (0.0395)\n",
      "Recall: 0.8496 (0.0395)\n",
      "F1 score: 0.8496 (0.0395)\n",
      "---------------------------------\n"
     ]
    }
   ],
   "source": [
    "# Define the model\n",
    "clf_cv = KNeighborsClassifier()\n",
    "scores = fold_cross_validate(clf_cv, X_test, y_test)\n",
    "\n",
    "# Print scores\n",
    "print_cross_validation_scores(scores)"
   ]
  }
 ],
 "metadata": {
  "kernelspec": {
   "display_name": "Python 3",
   "language": "python",
   "name": "python3"
  },
  "language_info": {
   "codemirror_mode": {
    "name": "ipython",
    "version": 3
   },
   "file_extension": ".py",
   "mimetype": "text/x-python",
   "name": "python",
   "nbconvert_exporter": "python",
   "pygments_lexer": "ipython3",
   "version": "3.11.3"
  },
  "orig_nbformat": 4
 },
 "nbformat": 4,
 "nbformat_minor": 2
}
