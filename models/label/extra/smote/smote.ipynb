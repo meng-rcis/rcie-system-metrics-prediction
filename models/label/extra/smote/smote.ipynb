{
 "cells": [
  {
   "cell_type": "code",
   "execution_count": 1,
   "metadata": {},
   "outputs": [],
   "source": [
    "import sys\n",
    "sys.path.append('../../../../')\n",
    "\n",
    "# Import libraries\n",
    "import pandas as pd\n",
    "from imblearn.over_sampling import SMOTE\n",
    "from constant.columns import FEATURES, LABEL"
   ]
  },
  {
   "cell_type": "code",
   "execution_count": null,
   "metadata": {},
   "outputs": [],
   "source": [
    "# Import data\n",
    "sm = SMOTE(random_state=42)\n",
    "\n",
    "# Read dataset\n",
    "df = pd.read_csv(f'./source/dataset.csv')\n",
    "X, y = sm.fit_resample(df[FEATURES], df[LABEL])\n",
    "\n",
    "# Save dataset\n",
    "headers = FEATURES + LABEL\n",
    "Xy = pd.concat([X, y], axis=1)\n",
    "Xy.to_csv('./source/dataset_smote.csv', index=False, header=headers)"
   ]
  }
 ],
 "metadata": {
  "kernelspec": {
   "display_name": "Python 3",
   "language": "python",
   "name": "python3"
  },
  "language_info": {
   "codemirror_mode": {
    "name": "ipython",
    "version": 3
   },
   "file_extension": ".py",
   "mimetype": "text/x-python",
   "name": "python",
   "nbconvert_exporter": "python",
   "pygments_lexer": "ipython3",
   "version": "3.11.3"
  }
 },
 "nbformat": 4,
 "nbformat_minor": 2
}
