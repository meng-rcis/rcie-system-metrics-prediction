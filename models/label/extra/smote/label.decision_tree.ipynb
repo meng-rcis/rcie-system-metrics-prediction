{
 "cells": [
  {
   "cell_type": "markdown",
   "metadata": {},
   "source": [
    "### Decision Tree - Label Classification"
   ]
  },
  {
   "cell_type": "code",
   "execution_count": 5,
   "metadata": {},
   "outputs": [],
   "source": [
    "import sys\n",
    "sys.path.append('../../../../')\n",
    "\n",
    "# Import libraries\n",
    "from utils.score import fold_cross_validate\n",
    "from utils.print import print_cross_validation_scores\n",
    "from constant.columns import FEATURES, LABEL, SIZE, TARGET_Y, MODE, IS_SINGLE_INPUT\n",
    "\n",
    "import pandas as pd\n",
    "from sklearn.tree import DecisionTreeClassifier\n",
    "from sklearn.model_selection import train_test_split"
   ]
  },
  {
   "cell_type": "code",
   "execution_count": 6,
   "metadata": {},
   "outputs": [
    {
     "name": "stdout",
     "output_type": "stream",
     "text": [
      "WINDOW_SIZE: 10_10\n"
     ]
    }
   ],
   "source": [
    "# Import data\n",
    "feat = FEATURES\n",
    "if IS_SINGLE_INPUT ==  False:\n",
    "    WINDOW_SIZE = f\"{SIZE}_{TARGET_Y}\"\n",
    "    if MODE == 1:\n",
    "        WINDOW_SIZE = f\"{SIZE}_{TARGET_Y}_normalize\"\n",
    "    if MODE == 2:\n",
    "        WINDOW_SIZE = f\"{SIZE}_{TARGET_Y}_normalize_std\"\n",
    "\n",
    "    print(f'WINDOW_SIZE: {WINDOW_SIZE}')\n",
    "    # Get features with window size\n",
    "    expanded_features = []\n",
    "    for feature in FEATURES:\n",
    "        for i in range(SIZE):\n",
    "            expanded_features.append(f'{feature}_{i}')\n",
    "    \n",
    "    feat = expanded_features\n",
    "\n",
    "# Read dataset\n",
    "df = pd.read_csv(f'./source/dataset_smote.csv')\n",
    "X, y = df[feat], df[LABEL]\n",
    "\n",
    "# Split the dataset\n",
    "X_train, X_test, y_train, y_test = train_test_split(X, y, test_size=0.5)"
   ]
  },
  {
   "cell_type": "markdown",
   "metadata": {},
   "source": [
    "#### Cross Validation"
   ]
  },
  {
   "cell_type": "code",
   "execution_count": 7,
   "metadata": {},
   "outputs": [
    {
     "name": "stdout",
     "output_type": "stream",
     "text": [
      "MACRO:\n",
      "Precision: 0.9023 (0.0295)\n",
      "Recall: 0.9010 (0.0264)\n",
      "F1 score: 0.8993 (0.0278)\n",
      "---------------------------------\n",
      "MICRO:\n",
      "Precision: 0.8997 (0.0280)\n",
      "Recall: 0.8997 (0.0280)\n",
      "F1 score: 0.8997 (0.0280)\n",
      "---------------------------------\n"
     ]
    }
   ],
   "source": [
    "# Define the model\n",
    "clf_cv = DecisionTreeClassifier()\n",
    "scores = fold_cross_validate(clf_cv, X_test, y_test)\n",
    "\n",
    "# Print scores\n",
    "print_cross_validation_scores(scores)"
   ]
  },
  {
   "cell_type": "markdown",
   "metadata": {},
   "source": [
    "### Hyperparameter Tuning"
   ]
  },
  {
   "cell_type": "code",
   "execution_count": 8,
   "metadata": {},
   "outputs": [],
   "source": [
    "# from skopt import BayesSearchCV\n",
    "# from skopt.space import Real, Categorical, Integer\n",
    "# from sklearn.tree import DecisionTreeClassifier\n",
    "\n",
    "# # Define the hyperparameter space\n",
    "# search_space = {\n",
    "#     'max_depth': Integer(3, 100),  # Depth of the tree\n",
    "#     'min_samples_split': Integer(2, 100),  # Minimum number of samples required to split a node\n",
    "#     'min_samples_leaf': Integer(1, 100),  # Minimum number of samples required at a leaf node\n",
    "#     'criterion': Categorical(['gini', 'entropy']),  # Function to measure the quality of a split\n",
    "#     'max_features': Categorical(['auto', 'sqrt', 'log2', None]),  # Number of features to consider for best split\n",
    "# }\n",
    "\n",
    "# # Create a DecisionTreeClassifier instance\n",
    "# dt = DecisionTreeClassifier()\n",
    "\n",
    "# # Set up the BayesSearchCV\n",
    "# bayes_search = BayesSearchCV(\n",
    "#     estimator=dt,\n",
    "#     search_spaces=search_space,\n",
    "#     n_iter=100,  # Number of iterations\n",
    "#     scoring='f1_macro',  # Use F1 macro score\n",
    "#     n_jobs=-1,  # Use all CPU cores\n",
    "#     cv=10,       # 10-fold cross-validation\n",
    "# )\n",
    "\n",
    "# # Perform the search\n",
    "# bayes_search.fit(X_train, y_train)\n",
    "\n",
    "# # Best parameters and score\n",
    "# best_params = bayes_search.best_params_\n",
    "# best_score = bayes_search.best_score_\n",
    "\n",
    "# # Print the best parameters and score\n",
    "# print(\"Best parameters:\", best_params)\n",
    "# print(\"Best score:\", best_score)"
   ]
  }
 ],
 "metadata": {
  "kernelspec": {
   "display_name": "Python 3",
   "language": "python",
   "name": "python3"
  },
  "language_info": {
   "codemirror_mode": {
    "name": "ipython",
    "version": 3
   },
   "file_extension": ".py",
   "mimetype": "text/x-python",
   "name": "python",
   "nbconvert_exporter": "python",
   "pygments_lexer": "ipython3",
   "version": "3.11.3"
  },
  "orig_nbformat": 4
 },
 "nbformat": 4,
 "nbformat_minor": 2
}
