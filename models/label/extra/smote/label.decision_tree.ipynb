{
 "cells": [
  {
   "cell_type": "markdown",
   "metadata": {},
   "source": [
    "### Decision Tree - Label Classification"
   ]
  },
  {
   "cell_type": "code",
   "execution_count": 7,
   "metadata": {},
   "outputs": [],
   "source": [
    "import sys\n",
    "sys.path.append('../../../../')\n",
    "\n",
    "# Import libraries\n",
    "from utils.score import fold_cross_validate\n",
    "from utils.print import print_cross_validation_scores\n",
    "from constant.columns import FEATURES, LABEL, SIZE, TARGET_Y, MODE, IS_SINGLE_INPUT\n",
    "\n",
    "import pandas as pd\n",
    "from sklearn.tree import DecisionTreeClassifier\n",
    "from sklearn.model_selection import train_test_split"
   ]
  },
  {
   "cell_type": "code",
   "execution_count": 8,
   "metadata": {},
   "outputs": [
    {
     "name": "stdout",
     "output_type": "stream",
     "text": [
      "WINDOW_SIZE: 10_10\n"
     ]
    }
   ],
   "source": [
    "# Import data\n",
    "feat = FEATURES\n",
    "if IS_SINGLE_INPUT ==  False:\n",
    "    WINDOW_SIZE = f\"{SIZE}_{TARGET_Y}\"\n",
    "    if MODE == 1:\n",
    "        WINDOW_SIZE = f\"{SIZE}_{TARGET_Y}_normalize\"\n",
    "    if MODE == 2:\n",
    "        WINDOW_SIZE = f\"{SIZE}_{TARGET_Y}_normalize_std\"\n",
    "\n",
    "    print(f'WINDOW_SIZE: {WINDOW_SIZE}')\n",
    "    # Get features with window size\n",
    "    expanded_features = []\n",
    "    for feature in FEATURES:\n",
    "        for i in range(SIZE):\n",
    "            expanded_features.append(f'{feature}_{i}')\n",
    "    \n",
    "    feat = expanded_features\n",
    "\n",
    "# Read dataset\n",
    "df = pd.read_csv(f'./source/dataset_smote.csv')\n",
    "X, y = df[feat], df[LABEL]\n",
    "\n",
    "# Split the dataset\n",
    "X_train, X_test, y_train, y_test = train_test_split(X, y, test_size=0.5)"
   ]
  },
  {
   "cell_type": "markdown",
   "metadata": {},
   "source": [
    "#### Cross Validation"
   ]
  },
  {
   "cell_type": "code",
   "execution_count": 57,
   "metadata": {},
   "outputs": [
    {
     "name": "stdout",
     "output_type": "stream",
     "text": [
      "MACRO:\n",
      "Precision: 0.8856 (0.0241)\n",
      "Recall: 0.8802 (0.0249)\n",
      "F1 score: 0.8812 (0.0245)\n",
      "---------------------------------\n",
      "MICRO:\n",
      "Precision: 0.8825 (0.0234)\n",
      "Recall: 0.8825 (0.0234)\n",
      "F1 score: 0.8825 (0.0234)\n",
      "---------------------------------\n"
     ]
    }
   ],
   "source": [
    "# Define the model\n",
    "clf_cv = DecisionTreeClassifier()\n",
    "scores = fold_cross_validate(clf_cv, X_test, y_test)\n",
    "\n",
    "# Print scores\n",
    "print_cross_validation_scores(scores)"
   ]
  },
  {
   "cell_type": "markdown",
   "metadata": {},
   "source": [
    "### Hyperparameter Tuning"
   ]
  },
  {
   "cell_type": "code",
   "execution_count": 320,
   "metadata": {},
   "outputs": [
    {
     "name": "stdout",
     "output_type": "stream",
     "text": [
      "MACRO:\n",
      "Precision: 0.9012 (0.0282)\n",
      "Recall: 0.8968 (0.0303)\n",
      "F1 score: 0.8979 (0.0294)\n",
      "---------------------------------\n",
      "MICRO:\n",
      "Precision: 0.8990 (0.0283)\n",
      "Recall: 0.8990 (0.0283)\n",
      "F1 score: 0.8990 (0.0283)\n",
      "---------------------------------\n"
     ]
    }
   ],
   "source": [
    "# Best parameters: OrderedDict([('criterion', 'entropy'), ('max_depth', 166), ('max_features', None), ('max_leaf_nodes', 687), ('min_impurity_decrease', 0), ('min_samples_leaf', 1), ('min_samples_split', 2)])\n",
    "# Best score: 0.898899854454981\n",
    "clf_cv = DecisionTreeClassifier(\n",
    "    criterion='gini',\n",
    "    max_depth=129,\n",
    "    max_features=None,\n",
    "    max_leaf_nodes=637,\n",
    "    min_impurity_decrease=0,\n",
    "    min_samples_leaf=1,\n",
    "    min_samples_split=2\n",
    ")\n",
    "scores = fold_cross_validate(clf_cv, X_test, y_test)\n",
    "\n",
    "# Print scores\n",
    "print_cross_validation_scores(scores)"
   ]
  },
  {
   "cell_type": "code",
   "execution_count": 208,
   "metadata": {},
   "outputs": [
    {
     "name": "stderr",
     "output_type": "stream",
     "text": [
      "c:\\Users\\dell\\AppData\\Local\\Programs\\Python\\Python311\\Lib\\site-packages\\skopt\\optimizer\\optimizer.py:449: UserWarning: The objective has been evaluated at this point before.\n",
      "  warnings.warn(\"The objective has been evaluated \"\n",
      "c:\\Users\\dell\\AppData\\Local\\Programs\\Python\\Python311\\Lib\\site-packages\\skopt\\optimizer\\optimizer.py:449: UserWarning: The objective has been evaluated at this point before.\n",
      "  warnings.warn(\"The objective has been evaluated \"\n",
      "c:\\Users\\dell\\AppData\\Local\\Programs\\Python\\Python311\\Lib\\site-packages\\skopt\\optimizer\\optimizer.py:449: UserWarning: The objective has been evaluated at this point before.\n",
      "  warnings.warn(\"The objective has been evaluated \"\n",
      "c:\\Users\\dell\\AppData\\Local\\Programs\\Python\\Python311\\Lib\\site-packages\\skopt\\optimizer\\optimizer.py:449: UserWarning: The objective has been evaluated at this point before.\n",
      "  warnings.warn(\"The objective has been evaluated \"\n",
      "c:\\Users\\dell\\AppData\\Local\\Programs\\Python\\Python311\\Lib\\site-packages\\skopt\\optimizer\\optimizer.py:449: UserWarning: The objective has been evaluated at this point before.\n",
      "  warnings.warn(\"The objective has been evaluated \"\n",
      "c:\\Users\\dell\\AppData\\Local\\Programs\\Python\\Python311\\Lib\\site-packages\\skopt\\optimizer\\optimizer.py:449: UserWarning: The objective has been evaluated at this point before.\n",
      "  warnings.warn(\"The objective has been evaluated \"\n",
      "c:\\Users\\dell\\AppData\\Local\\Programs\\Python\\Python311\\Lib\\site-packages\\skopt\\optimizer\\optimizer.py:449: UserWarning: The objective has been evaluated at this point before.\n",
      "  warnings.warn(\"The objective has been evaluated \"\n",
      "c:\\Users\\dell\\AppData\\Local\\Programs\\Python\\Python311\\Lib\\site-packages\\skopt\\optimizer\\optimizer.py:449: UserWarning: The objective has been evaluated at this point before.\n",
      "  warnings.warn(\"The objective has been evaluated \"\n",
      "c:\\Users\\dell\\AppData\\Local\\Programs\\Python\\Python311\\Lib\\site-packages\\skopt\\optimizer\\optimizer.py:449: UserWarning: The objective has been evaluated at this point before.\n",
      "  warnings.warn(\"The objective has been evaluated \"\n",
      "c:\\Users\\dell\\AppData\\Local\\Programs\\Python\\Python311\\Lib\\site-packages\\skopt\\optimizer\\optimizer.py:449: UserWarning: The objective has been evaluated at this point before.\n",
      "  warnings.warn(\"The objective has been evaluated \"\n",
      "c:\\Users\\dell\\AppData\\Local\\Programs\\Python\\Python311\\Lib\\site-packages\\skopt\\optimizer\\optimizer.py:449: UserWarning: The objective has been evaluated at this point before.\n",
      "  warnings.warn(\"The objective has been evaluated \"\n",
      "c:\\Users\\dell\\AppData\\Local\\Programs\\Python\\Python311\\Lib\\site-packages\\skopt\\optimizer\\optimizer.py:449: UserWarning: The objective has been evaluated at this point before.\n",
      "  warnings.warn(\"The objective has been evaluated \"\n",
      "c:\\Users\\dell\\AppData\\Local\\Programs\\Python\\Python311\\Lib\\site-packages\\skopt\\optimizer\\optimizer.py:449: UserWarning: The objective has been evaluated at this point before.\n",
      "  warnings.warn(\"The objective has been evaluated \"\n",
      "c:\\Users\\dell\\AppData\\Local\\Programs\\Python\\Python311\\Lib\\site-packages\\skopt\\optimizer\\optimizer.py:449: UserWarning: The objective has been evaluated at this point before.\n",
      "  warnings.warn(\"The objective has been evaluated \"\n",
      "c:\\Users\\dell\\AppData\\Local\\Programs\\Python\\Python311\\Lib\\site-packages\\skopt\\optimizer\\optimizer.py:449: UserWarning: The objective has been evaluated at this point before.\n",
      "  warnings.warn(\"The objective has been evaluated \"\n",
      "c:\\Users\\dell\\AppData\\Local\\Programs\\Python\\Python311\\Lib\\site-packages\\skopt\\optimizer\\optimizer.py:449: UserWarning: The objective has been evaluated at this point before.\n",
      "  warnings.warn(\"The objective has been evaluated \"\n",
      "c:\\Users\\dell\\AppData\\Local\\Programs\\Python\\Python311\\Lib\\site-packages\\skopt\\optimizer\\optimizer.py:449: UserWarning: The objective has been evaluated at this point before.\n",
      "  warnings.warn(\"The objective has been evaluated \"\n",
      "c:\\Users\\dell\\AppData\\Local\\Programs\\Python\\Python311\\Lib\\site-packages\\skopt\\optimizer\\optimizer.py:449: UserWarning: The objective has been evaluated at this point before.\n",
      "  warnings.warn(\"The objective has been evaluated \"\n",
      "c:\\Users\\dell\\AppData\\Local\\Programs\\Python\\Python311\\Lib\\site-packages\\skopt\\optimizer\\optimizer.py:449: UserWarning: The objective has been evaluated at this point before.\n",
      "  warnings.warn(\"The objective has been evaluated \"\n",
      "c:\\Users\\dell\\AppData\\Local\\Programs\\Python\\Python311\\Lib\\site-packages\\skopt\\optimizer\\optimizer.py:449: UserWarning: The objective has been evaluated at this point before.\n",
      "  warnings.warn(\"The objective has been evaluated \"\n",
      "c:\\Users\\dell\\AppData\\Local\\Programs\\Python\\Python311\\Lib\\site-packages\\skopt\\optimizer\\optimizer.py:449: UserWarning: The objective has been evaluated at this point before.\n",
      "  warnings.warn(\"The objective has been evaluated \"\n",
      "c:\\Users\\dell\\AppData\\Local\\Programs\\Python\\Python311\\Lib\\site-packages\\skopt\\optimizer\\optimizer.py:449: UserWarning: The objective has been evaluated at this point before.\n",
      "  warnings.warn(\"The objective has been evaluated \"\n",
      "c:\\Users\\dell\\AppData\\Local\\Programs\\Python\\Python311\\Lib\\site-packages\\skopt\\optimizer\\optimizer.py:449: UserWarning: The objective has been evaluated at this point before.\n",
      "  warnings.warn(\"The objective has been evaluated \"\n",
      "c:\\Users\\dell\\AppData\\Local\\Programs\\Python\\Python311\\Lib\\site-packages\\skopt\\optimizer\\optimizer.py:449: UserWarning: The objective has been evaluated at this point before.\n",
      "  warnings.warn(\"The objective has been evaluated \"\n",
      "c:\\Users\\dell\\AppData\\Local\\Programs\\Python\\Python311\\Lib\\site-packages\\skopt\\optimizer\\optimizer.py:449: UserWarning: The objective has been evaluated at this point before.\n",
      "  warnings.warn(\"The objective has been evaluated \"\n",
      "c:\\Users\\dell\\AppData\\Local\\Programs\\Python\\Python311\\Lib\\site-packages\\skopt\\optimizer\\optimizer.py:449: UserWarning: The objective has been evaluated at this point before.\n",
      "  warnings.warn(\"The objective has been evaluated \"\n"
     ]
    },
    {
     "name": "stdout",
     "output_type": "stream",
     "text": [
      "Best parameters: OrderedDict([('criterion', 'entropy'), ('max_depth', 166), ('max_features', None), ('max_leaf_nodes', 687), ('min_impurity_decrease', 0), ('min_samples_leaf', 1), ('min_samples_split', 2)])\n",
      "Best score: 0.898899854454981\n"
     ]
    }
   ],
   "source": [
    "from skopt import BayesSearchCV\n",
    "from skopt.space import Categorical, Integer\n",
    "from sklearn.tree import DecisionTreeClassifier\n",
    "\n",
    "# Define the hyperparameter space\n",
    "search_space = {\n",
    "    'max_depth': Integer(3, 500),  # Depth of the tree\n",
    "    'min_samples_split': Integer(2, 100),  # Minimum number of samples required to split a node\n",
    "    'min_samples_leaf': Integer(1, 100),  # Minimum number of samples required at a leaf node\n",
    "    'criterion': Categorical(['gini', 'entropy']),  # Function to measure the quality of a split\n",
    "    'max_features': Categorical(['auto', 'sqrt', 'log2', None]),  # Number of features to consider for best split\n",
    "    'max_leaf_nodes': Integer(10, 1000, prior='uniform'),  # Maximum number of leaf nodes\n",
    "    'min_impurity_decrease': Integer(0, 5, prior='uniform'),  # Minimum impurity decrease required for a split to happen\n",
    "}\n",
    "\n",
    "# Create a DecisionTreeClassifier instance\n",
    "dt = DecisionTreeClassifier()\n",
    "\n",
    "# Set up the BayesSearchCV\n",
    "bayes_search = BayesSearchCV(\n",
    "    estimator=dt,\n",
    "    search_spaces=search_space,\n",
    "    n_iter=150,  # Number of iterations\n",
    "    scoring='f1_macro',  # Use F1 macro score\n",
    "    n_jobs=-1,  # Use all CPU cores\n",
    "    cv=10,       # 10-fold cross-validation\n",
    ")\n",
    "\n",
    "# Perform the search\n",
    "bayes_search.fit(X_train, y_train)\n",
    "\n",
    "# Best parameters and score\n",
    "best_params = bayes_search.best_params_\n",
    "best_score = bayes_search.best_score_\n",
    "\n",
    "# Print the best parameters and score\n",
    "print(\"Best parameters:\", best_params)\n",
    "print(\"Best score:\", best_score)"
   ]
  }
 ],
 "metadata": {
  "kernelspec": {
   "display_name": "Python 3",
   "language": "python",
   "name": "python3"
  },
  "language_info": {
   "codemirror_mode": {
    "name": "ipython",
    "version": 3
   },
   "file_extension": ".py",
   "mimetype": "text/x-python",
   "name": "python",
   "nbconvert_exporter": "python",
   "pygments_lexer": "ipython3",
   "version": "3.11.3"
  },
  "orig_nbformat": 4
 },
 "nbformat": 4,
 "nbformat_minor": 2
}
