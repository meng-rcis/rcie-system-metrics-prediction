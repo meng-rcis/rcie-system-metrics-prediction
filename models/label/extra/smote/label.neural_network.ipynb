{
  "cells": [
    {
      "attachments": {},
      "cell_type": "markdown",
      "metadata": {},
      "source": [
        "## Neural Network"
      ]
    },
    {
      "cell_type": "code",
      "execution_count": 21,
      "metadata": {},
      "outputs": [],
      "source": [
        "import sys\n",
        "sys.path.append('../../../../')\n",
        "\n",
        "# Import libraries\n",
        "from utils.score import fold_cross_validate\n",
        "from utils.print import print_cross_validation_scores\n",
        "from constant.columns import FEATURES, LABEL, SIZE, TARGET_Y, MODE, IS_SINGLE_INPUT\n",
        "\n",
        "import pandas as pd\n",
        "import keras as keras\n",
        "from keras import activations, backend as K\n",
        "from keras.wrappers import scikit_learn\n",
        "from keras.models import Sequential\n",
        "from keras.layers import Dense\n",
        "from sklearn.base import BaseEstimator, ClassifierMixin\n",
        "from sklearn.model_selection import train_test_split"
      ]
    },
    {
      "cell_type": "code",
      "execution_count": 22,
      "metadata": {},
      "outputs": [
        {
          "name": "stdout",
          "output_type": "stream",
          "text": [
            "WINDOW_SIZE: 10_10\n"
          ]
        }
      ],
      "source": [
        "# Import data\n",
        "feat = FEATURES\n",
        "if IS_SINGLE_INPUT ==  False:\n",
        "    WINDOW_SIZE = f\"{SIZE}_{TARGET_Y}\"\n",
        "    if MODE == 1:\n",
        "        WINDOW_SIZE = f\"{SIZE}_{TARGET_Y}_normalize\"\n",
        "    if MODE == 2:\n",
        "        WINDOW_SIZE = f\"{SIZE}_{TARGET_Y}_normalize_std\"\n",
        "\n",
        "    print(f'WINDOW_SIZE: {WINDOW_SIZE}')\n",
        "    # Get features with window size\n",
        "    expanded_features = []\n",
        "    for feature in FEATURES:\n",
        "        for i in range(SIZE):\n",
        "            expanded_features.append(f'{feature}_{i}')\n",
        "    \n",
        "    feat = expanded_features\n",
        "\n",
        "# Read dataset\n",
        "df = pd.read_csv(f'./source/dataset_smote.csv')\n",
        "X, y = df[feat], df[LABEL]\n",
        "\n",
        "# Split the dataset\n",
        "X_train, X_test, y_train, y_test = train_test_split(X, y, test_size=0.5)"
      ]
    },
    {
      "attachments": {},
      "cell_type": "markdown",
      "metadata": {},
      "source": [
        "#### Cross Validation"
      ]
    },
    {
      "cell_type": "code",
      "execution_count": 23,
      "metadata": {},
      "outputs": [],
      "source": [
        "def f1_score(y_true, y_pred): \n",
        "    true_positives = K.sum(K.round(K.clip(y_true * y_pred, 0, 1)))\n",
        "    possible_positives = K.sum(K.round(K.clip(y_true, 0, 1)))\n",
        "    predicted_positives = K.sum(K.round(K.clip(y_pred, 0, 1)))\n",
        "    precision = true_positives / (predicted_positives + K.epsilon())\n",
        "    recall = true_positives / (possible_positives + K.epsilon())\n",
        "    f1_val = 2*(precision*recall)/(precision+recall+K.epsilon())\n",
        "    return f1_val\n",
        "\n",
        "# Define a sklearn-compatible classifier based on our Keras model\n",
        "class KerasBinaryClassifier(BaseEstimator, ClassifierMixin):\n",
        "    def __init__(self, model):\n",
        "        self.model = model\n",
        "    def fit(self, X, y):\n",
        "        self.model.compile(loss='binary_crossentropy', optimizer='adam')\n",
        "        self.model.fit(X, y, epochs=150, batch_size=10, verbose=0)\n",
        "        return self\n",
        "    def predict(self, X):\n",
        "        Y_pred = self.model.predict(X)\n",
        "        Y_pred = (Y_pred >= 0.5).astype(int)\n",
        "        return Y_pred.flatten()\n",
        "\n",
        "def create_model():\n",
        "    model = Sequential()\n",
        "    model.add(Dense(len(feat), input_dim=len(feat), activation=activations.relu))\n",
        "    model.add(Dense(1, activation=activations.sigmoid))\n",
        "    model.compile(loss='binary_crossentropy', optimizer='adam', metrics=['accuracy'])\n",
        "    return model"
      ]
    },
    {
      "cell_type": "code",
      "execution_count": 24,
      "metadata": {},
      "outputs": [
        {
          "name": "stderr",
          "output_type": "stream",
          "text": [
            "C:\\Users\\dell\\AppData\\Local\\Temp\\ipykernel_37668\\1000466164.py:2: DeprecationWarning: KerasClassifier is deprecated, use Sci-Keras (https://github.com/adriangb/scikeras) instead. See https://www.adriangb.com/scikeras/stable/migration.html for help migrating.\n",
            "  clf_cv = scikit_learn.KerasClassifier(build_fn=create_model, epochs=50, batch_size=32, verbose=0)\n"
          ]
        },
        {
          "name": "stdout",
          "output_type": "stream",
          "text": [
            "MACRO:\n",
            "Precision: 0.8496 (0.0341)\n",
            "Recall: 0.8302 (0.0534)\n",
            "F1 score: 0.8261 (0.0573)\n",
            "---------------------------------\n",
            "MICRO:\n",
            "Precision: 0.8302 (0.0524)\n",
            "Recall: 0.8302 (0.0524)\n",
            "F1 score: 0.8302 (0.0524)\n",
            "---------------------------------\n"
          ]
        }
      ],
      "source": [
        "# Define the model\n",
        "clf_cv = scikit_learn.KerasClassifier(build_fn=create_model, epochs=50, batch_size=32, verbose=0)\n",
        "scores = fold_cross_validate(clf_cv, X_test, y_test)\n",
        "\n",
        "# Print scores\n",
        "print_cross_validation_scores(scores)"
      ]
    }
  ],
  "metadata": {
    "kernelspec": {
      "display_name": "Python 3",
      "language": "python",
      "name": "python3"
    },
    "language_info": {
      "codemirror_mode": {
        "name": "ipython",
        "version": 3
      },
      "file_extension": ".py",
      "mimetype": "text/x-python",
      "name": "python",
      "nbconvert_exporter": "python",
      "pygments_lexer": "ipython3",
      "version": "3.11.3"
    },
    "orig_nbformat": 4
  },
  "nbformat": 4,
  "nbformat_minor": 2
}
