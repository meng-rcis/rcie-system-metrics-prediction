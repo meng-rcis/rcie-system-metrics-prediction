{
  "cells": [
    {
      "attachments": {},
      "cell_type": "markdown",
      "metadata": {},
      "source": [
        "### Logistic Regression - Label Classification"
      ]
    },
    {
      "cell_type": "code",
      "execution_count": 31,
      "metadata": {},
      "outputs": [],
      "source": [
        "import sys\n",
        "sys.path.append('../../../')\n",
        "\n",
        "# Import libraries\n",
        "from utils.score import fold_cross_validate\n",
        "from utils.print import print_cross_validation_scores\n",
        "from constant.columns import FEATURES, LABEL\n",
        "\n",
        "import pandas as pd\n",
        "from sklearn.tree import DecisionTreeClassifier\n",
        "from sklearn.model_selection import train_test_split"
      ]
    },
    {
      "cell_type": "code",
      "execution_count": 32,
      "metadata": {},
      "outputs": [],
      "source": [
        "# Import data\n",
        "df = pd.read_csv('../source/dataset.csv')"
      ]
    },
    {
      "attachments": {},
      "cell_type": "markdown",
      "metadata": {},
      "source": [
        "#### Cross validation checking each metrics performance"
      ]
    },
    {
      "cell_type": "code",
      "execution_count": 33,
      "metadata": {},
      "outputs": [
        {
          "name": "stdout",
          "output_type": "stream",
          "text": [
            "Feature: cpu_usage\n",
            "MACRO:\n",
            "Precision: 0.4758 (0.0398)\n",
            "Recall: 0.4771 (0.0296)\n",
            "F1 score: 0.4753 (0.0302)\n",
            "---------------------------------\n",
            "Feature: memory_usage\n",
            "MACRO:\n",
            "Precision: 0.4867 (0.0415)\n",
            "Recall: 0.5137 (0.0775)\n",
            "F1 score: 0.4919 (0.0433)\n",
            "---------------------------------\n",
            "Feature: bandwidth_inbound\n",
            "MACRO:\n",
            "Precision: 0.4781 (0.0417)\n",
            "Recall: 0.4957 (0.0768)\n",
            "F1 score: 0.4808 (0.0434)\n",
            "---------------------------------\n",
            "Feature: bandwidth_outbound\n",
            "MACRO:\n",
            "Precision: 0.4679 (0.0231)\n",
            "Recall: 0.4641 (0.0238)\n",
            "F1 score: 0.4655 (0.0194)\n",
            "---------------------------------\n",
            "Feature: tps\n",
            "MACRO:\n",
            "Precision: 0.5917 (0.1133)\n",
            "Recall: 0.5837 (0.1259)\n",
            "F1 score: 0.5785 (0.1106)\n",
            "---------------------------------\n",
            "Feature: response_time\n",
            "MACRO:\n",
            "Precision: 0.6813 (0.1771)\n",
            "Recall: 0.6487 (0.1327)\n",
            "F1 score: 0.6544 (0.1349)\n",
            "---------------------------------\n",
            "Feature: ['cpu_usage', 'memory_usage', 'bandwidth_inbound', 'bandwidth_outbound', 'tps', 'response_time']\n",
            "MACRO:\n",
            "Precision: 0.5897 (0.1072)\n",
            "Recall: 0.5962 (0.1060)\n",
            "F1 score: 0.5927 (0.1062)\n",
            "---------------------------------\n"
          ]
        }
      ],
      "source": [
        "for feature in FEATURES:\n",
        "    X, y = df[[feature]], df[LABEL]\n",
        "    X_train, X_test, y_train, y_test = train_test_split(X, y, test_size=0.5, shuffle=False)\n",
        "    clf_cv = DecisionTreeClassifier()\n",
        "    scores = fold_cross_validate(clf_cv, X_test, y_test)\n",
        "\n",
        "    # Print scores\n",
        "    print(\"Feature:\", feature)\n",
        "    print_cross_validation_scores(scores, is_micro_required=False)\n",
        "\n",
        "X, y = df[FEATURES], df[LABEL]\n",
        "X_train, X_test, y_train, y_test = train_test_split(X, y, test_size=0.5, shuffle=False)\n",
        "clf_cv = DecisionTreeClassifier()\n",
        "scores = fold_cross_validate(clf_cv, X_test, y_test)\n",
        "\n",
        "# Print scores\n",
        "print(\"Feature:\", FEATURES)\n",
        "print_cross_validation_scores(scores, is_micro_required=False)\n"
      ]
    }
  ],
  "metadata": {
    "kernelspec": {
      "display_name": "Python 3",
      "language": "python",
      "name": "python3"
    },
    "language_info": {
      "codemirror_mode": {
        "name": "ipython",
        "version": 3
      },
      "file_extension": ".py",
      "mimetype": "text/x-python",
      "name": "python",
      "nbconvert_exporter": "python",
      "pygments_lexer": "ipython3",
      "version": "3.11.3"
    },
    "orig_nbformat": 4
  },
  "nbformat": 4,
  "nbformat_minor": 2
}
