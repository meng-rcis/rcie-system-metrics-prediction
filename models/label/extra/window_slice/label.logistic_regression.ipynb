{
  "cells": [
    {
      "attachments": {},
      "cell_type": "markdown",
      "metadata": {},
      "source": [
        "### Logistic Regression - Label Classification"
      ]
    },
    {
      "cell_type": "code",
      "execution_count": 1,
      "metadata": {},
      "outputs": [],
      "source": [
        "import sys\n",
        "sys.path.append('../../../../')\n",
        "\n",
        "# Import libraries\n",
        "from utils.score import fold_cross_validate\n",
        "from utils.print import print_cross_validation_scores\n",
        "from constant.columns import FEATURES, LABEL, SIZE, TARGET_Y\n",
        "\n",
        "import pandas as pd\n",
        "from sklearn.linear_model import LogisticRegression\n",
        "from sklearn.model_selection import train_test_split"
      ]
    },
    {
      "cell_type": "code",
      "execution_count": 2,
      "metadata": {},
      "outputs": [],
      "source": [
        "# Import data\n",
        "WINDOW_SIZE = f\"{SIZE}_{TARGET_Y}\" # Windows size = 10 and Target = 5\n",
        "\n",
        "# Get features with window size\n",
        "expanded_features = []\n",
        "for feature in FEATURES:\n",
        "    for i in range(SIZE):\n",
        "        expanded_features.append(f'{feature}_{i}')\n",
        "\n",
        "# Read dataset\n",
        "df = pd.read_csv(f'./source/{WINDOW_SIZE}/dataset.csv')\n",
        "X, y = df[expanded_features], df[LABEL]\n",
        "\n",
        "# Split the dataset\n",
        "X_train, X_test, y_train, y_test = train_test_split(X, y, test_size=0.5, shuffle=False)"
      ]
    },
    {
      "attachments": {},
      "cell_type": "markdown",
      "metadata": {},
      "source": [
        "#### Cross Validation"
      ]
    },
    {
      "cell_type": "code",
      "execution_count": 3,
      "metadata": {},
      "outputs": [
        {
          "name": "stdout",
          "output_type": "stream",
          "text": [
            "MACRO:\n",
            "Precision: 0.6554 (0.1719)\n",
            "Recall: 0.6177 (0.1350)\n",
            "F1 score: 0.6216 (0.1360)\n",
            "---------------------------------\n",
            "MICRO:\n",
            "Precision: 0.9302 (0.0287)\n",
            "Recall: 0.9302 (0.0287)\n",
            "F1 score: 0.9302 (0.0287)\n",
            "---------------------------------\n"
          ]
        }
      ],
      "source": [
        "# Define the model\n",
        "clf_cv = LogisticRegression()\n",
        "scores = fold_cross_validate(clf_cv, X_test, y_test)\n",
        "\n",
        "# Print scores\n",
        "print_cross_validation_scores(scores)"
      ]
    },
    {
      "cell_type": "code",
      "execution_count": 4,
      "metadata": {},
      "outputs": [
        {
          "name": "stdout",
          "output_type": "stream",
          "text": [
            "MACRO:\n",
            "Precision: 0.6370 (0.0912)\n",
            "Recall: 0.7500 (0.1492)\n",
            "F1 score: 0.6545 (0.1105)\n",
            "---------------------------------\n",
            "MICRO:\n",
            "Precision: 0.8779 (0.0352)\n",
            "Recall: 0.8779 (0.0352)\n",
            "F1 score: 0.8779 (0.0352)\n",
            "---------------------------------\n"
          ]
        }
      ],
      "source": [
        "# Best Parameters with L2 Penalty: OrderedDict([('C', 643.1854566491933), ('class_weight', None), ('fit_intercept', False), ('max_iter', 197), ('penalty', 'none'), ('solver', 'newton-cg')])\n",
        "\n",
        "# Best Score: 0.6169671165606984\n",
        "\n",
        "clf_cv = LogisticRegression(\n",
        "    penalty=\"l2\",\n",
        "    C=143.1854566491933,\n",
        "    solver=\"newton-cg\",\n",
        "    max_iter=97,\n",
        "    class_weight='balanced',\n",
        "    fit_intercept=True,\n",
        "    multi_class=\"auto\"\n",
        ")\n",
        "scores = fold_cross_validate(clf_cv, X_test, y_test)\n",
        "\n",
        "# Print scores\n",
        "print_cross_validation_scores(scores)"
      ]
    }
  ],
  "metadata": {
    "kernelspec": {
      "display_name": "Python 3",
      "language": "python",
      "name": "python3"
    },
    "language_info": {
      "codemirror_mode": {
        "name": "ipython",
        "version": 3
      },
      "file_extension": ".py",
      "mimetype": "text/x-python",
      "name": "python",
      "nbconvert_exporter": "python",
      "pygments_lexer": "ipython3",
      "version": "3.11.3"
    },
    "orig_nbformat": 4
  },
  "nbformat": 4,
  "nbformat_minor": 2
}
