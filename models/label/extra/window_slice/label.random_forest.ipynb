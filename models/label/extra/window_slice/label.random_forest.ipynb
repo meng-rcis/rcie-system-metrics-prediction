{
  "cells": [
    {
      "attachments": {},
      "cell_type": "markdown",
      "metadata": {},
      "source": [
        "### Random Forest - Label Classification"
      ]
    },
    {
      "cell_type": "code",
      "execution_count": 4,
      "metadata": {},
      "outputs": [],
      "source": [
        "import sys\n",
        "sys.path.append('../../../../')\n",
        "\n",
        "# Import libraries\n",
        "import pandas as pd\n",
        "from utils.score import fold_cross_validate\n",
        "from utils.print import print_cross_validation_scores\n",
        "from constant.columns import FEATURES, LABEL, SIZE, TARGET_Y\n",
        "\n",
        "from sklearn.ensemble import RandomForestClassifier\n",
        "from sklearn.model_selection import train_test_split"
      ]
    },
    {
      "cell_type": "code",
      "execution_count": 5,
      "metadata": {},
      "outputs": [],
      "source": [
        "# Import data\n",
        "WINDOW_SIZE = f\"{SIZE}_{TARGET_Y}\" # Windows size = 10 and Target = 5\n",
        "\n",
        "# Get features with window size\n",
        "expanded_features = []\n",
        "for feature in FEATURES:\n",
        "    for i in range(SIZE):\n",
        "        expanded_features.append(f'{feature}_{i}')\n",
        "\n",
        "# Read dataset\n",
        "df = pd.read_csv(f'./source/{WINDOW_SIZE}/dataset.csv')\n",
        "X, y = df[expanded_features], df[LABEL]\n",
        "\n",
        "# Split the dataset\n",
        "X_train, X_test, y_train, y_test = train_test_split(X, y, test_size=0.5, shuffle=False)"
      ]
    },
    {
      "attachments": {},
      "cell_type": "markdown",
      "metadata": {},
      "source": [
        "#### Cross Validation"
      ]
    },
    {
      "cell_type": "code",
      "execution_count": 6,
      "metadata": {},
      "outputs": [
        {
          "name": "stdout",
          "output_type": "stream",
          "text": [
            "MACRO:\n",
            "Precision: 0.7359 (0.2110)\n",
            "Recall: 0.5909 (0.0909)\n",
            "F1 score: 0.6154 (0.1191)\n",
            "---------------------------------\n",
            "MICRO:\n",
            "Precision: 0.9483 (0.0199)\n",
            "Recall: 0.9483 (0.0199)\n",
            "F1 score: 0.9483 (0.0199)\n",
            "---------------------------------\n"
          ]
        }
      ],
      "source": [
        "# Define the model\n",
        "clf_cv = RandomForestClassifier()\n",
        "scores = fold_cross_validate(clf_cv, X, y)\n",
        "\n",
        "# Print scores\n",
        "print_cross_validation_scores(scores)"
      ]
    }
  ],
  "metadata": {
    "kernelspec": {
      "display_name": "Python 3",
      "language": "python",
      "name": "python3"
    },
    "language_info": {
      "codemirror_mode": {
        "name": "ipython",
        "version": 3
      },
      "file_extension": ".py",
      "mimetype": "text/x-python",
      "name": "python",
      "nbconvert_exporter": "python",
      "pygments_lexer": "ipython3",
      "version": "3.11.3"
    },
    "orig_nbformat": 4
  },
  "nbformat": 4,
  "nbformat_minor": 2
}
