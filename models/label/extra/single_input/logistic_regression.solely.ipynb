{
  "cells": [
    {
      "attachments": {},
      "cell_type": "markdown",
      "metadata": {},
      "source": [
        "### Logistic Regression - Label Classification"
      ]
    },
    {
      "cell_type": "code",
      "execution_count": 1,
      "metadata": {},
      "outputs": [],
      "source": [
        "import sys\n",
        "sys.path.append('../../../../')\n",
        "\n",
        "# Import libraries\n",
        "from utils.score import fold_cross_validate\n",
        "from utils.print import print_cross_validation_scores\n",
        "from constant.columns import FEATURES, LABEL\n",
        "\n",
        "import pandas as pd\n",
        "from sklearn.linear_model import LogisticRegression\n",
        "from sklearn.model_selection import train_test_split"
      ]
    },
    {
      "cell_type": "code",
      "execution_count": 2,
      "metadata": {},
      "outputs": [],
      "source": [
        "# Import data\n",
        "df = pd.read_csv('../../source/dataset.csv')"
      ]
    },
    {
      "attachments": {},
      "cell_type": "markdown",
      "metadata": {},
      "source": [
        "#### Cross validation checking each metrics performance"
      ]
    },
    {
      "cell_type": "code",
      "execution_count": 4,
      "metadata": {},
      "outputs": [
        {
          "name": "stdout",
          "output_type": "stream",
          "text": [
            "Feature: cpu_usage\n",
            "MACRO:\n",
            "Precision: 0.4647 (0.0171)\n",
            "Recall: 0.5000 (0.0000)\n",
            "F1 score: 0.4815 (0.0092)\n",
            "---------------------------------\n",
            "Feature: memory_usage\n",
            "MACRO:\n",
            "Precision: 0.4647 (0.0171)\n",
            "Recall: 0.5000 (0.0000)\n",
            "F1 score: 0.4815 (0.0092)\n",
            "---------------------------------\n",
            "Feature: bandwidth_inbound\n",
            "MACRO:\n",
            "Precision: 0.4647 (0.0171)\n",
            "Recall: 0.5000 (0.0000)\n",
            "F1 score: 0.4815 (0.0092)\n",
            "---------------------------------\n",
            "Feature: bandwidth_outbound\n",
            "MACRO:\n",
            "Precision: 0.4647 (0.0171)\n",
            "Recall: 0.5000 (0.0000)\n",
            "F1 score: 0.4815 (0.0092)\n",
            "---------------------------------\n",
            "Feature: tps\n",
            "MACRO:\n",
            "Precision: 0.4647 (0.0171)\n",
            "Recall: 0.5000 (0.0000)\n",
            "F1 score: 0.4815 (0.0092)\n",
            "---------------------------------\n",
            "Feature: response_time\n",
            "MACRO:\n",
            "Precision: 0.6504 (0.2047)\n",
            "Recall: 0.5973 (0.1081)\n",
            "F1 score: 0.6084 (0.1352)\n",
            "---------------------------------\n",
            "Feature: ['cpu_usage', 'memory_usage', 'bandwidth_inbound', 'bandwidth_outbound', 'tps', 'response_time']\n",
            "MACRO:\n",
            "Precision: 0.6360 (0.0603)\n",
            "Recall: 0.8214 (0.0909)\n",
            "F1 score: 0.6591 (0.0808)\n",
            "---------------------------------\n"
          ]
        }
      ],
      "source": [
        "for feature in FEATURES:\n",
        "    X, y = df[[feature]], df[LABEL]\n",
        "    X_train, X_test, y_train, y_test = train_test_split(X, y, test_size=0.5, shuffle=False)\n",
        "    clf_cv = LogisticRegression()\n",
        "    scores = fold_cross_validate(clf_cv, X_test, y_test)\n",
        "\n",
        "    # Print scores\n",
        "    print(\"Feature:\", feature)\n",
        "    print_cross_validation_scores(scores, is_micro_required=False)\n",
        "\n",
        "X, y = df[FEATURES], df[LABEL]\n",
        "X_train, X_test, y_train, y_test = train_test_split(X, y, test_size=0.5, shuffle=False)\n",
        "clf_cv = LogisticRegression(\n",
        "    penalty=\"l2\",\n",
        "    C=143.1854566491933,\n",
        "    solver=\"newton-cg\",\n",
        "    max_iter=97,\n",
        "    class_weight='balanced',\n",
        "    fit_intercept=True,\n",
        "    multi_class=\"auto\"\n",
        ")\n",
        "scores = fold_cross_validate(clf_cv, X_test, y_test)\n",
        "\n",
        "# Print scores\n",
        "print(\"Feature:\", FEATURES)\n",
        "print_cross_validation_scores(scores, is_micro_required=False)\n"
      ]
    }
  ],
  "metadata": {
    "kernelspec": {
      "display_name": "Python 3",
      "language": "python",
      "name": "python3"
    },
    "language_info": {
      "codemirror_mode": {
        "name": "ipython",
        "version": 3
      },
      "file_extension": ".py",
      "mimetype": "text/x-python",
      "name": "python",
      "nbconvert_exporter": "python",
      "pygments_lexer": "ipython3",
      "version": "3.11.3"
    },
    "orig_nbformat": 4
  },
  "nbformat": 4,
  "nbformat_minor": 2
}
