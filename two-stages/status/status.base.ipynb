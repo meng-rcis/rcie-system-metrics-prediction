{
  "cells": [
    {
      "cell_type": "code",
      "execution_count": 10,
      "metadata": {},
      "outputs": [],
      "source": [
        "# Load the CSV file\n",
        "base = '../../../rcie-system-metrics-data/'\n",
        "domain = '2023-06-12_11-33-10_rcie-api-default/'\n",
        "file = 'metrics-with-output-and-standardized-unit.csv'\n",
        "file_path = base + domain + file"
      ]
    },
    {
      "cell_type": "code",
      "execution_count": 11,
      "metadata": {},
      "outputs": [],
      "source": [
        "# Load libraries\n",
        "import pandas as pd\n",
        "import pickle\n",
        "from sklearn.model_selection import train_test_split\n",
        "from sklearn.preprocessing import MinMaxScaler"
      ]
    },
    {
      "cell_type": "code",
      "execution_count": 12,
      "metadata": {},
      "outputs": [
        {
          "data": {
            "text/html": [
              "<div>\n",
              "<style scoped>\n",
              "    .dataframe tbody tr th:only-of-type {\n",
              "        vertical-align: middle;\n",
              "    }\n",
              "\n",
              "    .dataframe tbody tr th {\n",
              "        vertical-align: top;\n",
              "    }\n",
              "\n",
              "    .dataframe thead th {\n",
              "        text-align: right;\n",
              "    }\n",
              "</style>\n",
              "<table border=\"1\" class=\"dataframe\">\n",
              "  <thead>\n",
              "    <tr style=\"text-align: right;\">\n",
              "      <th></th>\n",
              "      <th>time</th>\n",
              "      <th>timestamp</th>\n",
              "      <th>cpu_usage</th>\n",
              "      <th>memory_usage</th>\n",
              "      <th>bandwidth_inbound</th>\n",
              "      <th>bandwidth_outbound</th>\n",
              "      <th>tps</th>\n",
              "      <th>tps_error</th>\n",
              "      <th>response_time</th>\n",
              "      <th>status</th>\n",
              "    </tr>\n",
              "  </thead>\n",
              "  <tbody>\n",
              "    <tr>\n",
              "      <th>0</th>\n",
              "      <td>2023-06-12 11:33:10</td>\n",
              "      <td>1686544390000</td>\n",
              "      <td>0.006</td>\n",
              "      <td>0.374</td>\n",
              "      <td>8.73</td>\n",
              "      <td>6.42</td>\n",
              "      <td>0.2</td>\n",
              "      <td>0.0</td>\n",
              "      <td>15.1</td>\n",
              "      <td>0</td>\n",
              "    </tr>\n",
              "    <tr>\n",
              "      <th>1</th>\n",
              "      <td>2023-06-12 11:33:15</td>\n",
              "      <td>1686544395000</td>\n",
              "      <td>0.012</td>\n",
              "      <td>0.374</td>\n",
              "      <td>8.79</td>\n",
              "      <td>6.49</td>\n",
              "      <td>0.2</td>\n",
              "      <td>0.0</td>\n",
              "      <td>20.1</td>\n",
              "      <td>0</td>\n",
              "    </tr>\n",
              "    <tr>\n",
              "      <th>2</th>\n",
              "      <td>2023-06-12 11:33:20</td>\n",
              "      <td>1686544400000</td>\n",
              "      <td>0.008</td>\n",
              "      <td>0.374</td>\n",
              "      <td>8.77</td>\n",
              "      <td>6.46</td>\n",
              "      <td>0.2</td>\n",
              "      <td>0.0</td>\n",
              "      <td>14.3</td>\n",
              "      <td>0</td>\n",
              "    </tr>\n",
              "    <tr>\n",
              "      <th>3</th>\n",
              "      <td>2023-06-12 11:33:25</td>\n",
              "      <td>1686544405000</td>\n",
              "      <td>0.008</td>\n",
              "      <td>0.374</td>\n",
              "      <td>8.74</td>\n",
              "      <td>6.44</td>\n",
              "      <td>0.2</td>\n",
              "      <td>0.0</td>\n",
              "      <td>18.9</td>\n",
              "      <td>0</td>\n",
              "    </tr>\n",
              "    <tr>\n",
              "      <th>4</th>\n",
              "      <td>2023-06-12 11:33:30</td>\n",
              "      <td>1686544410000</td>\n",
              "      <td>0.008</td>\n",
              "      <td>0.374</td>\n",
              "      <td>8.88</td>\n",
              "      <td>6.53</td>\n",
              "      <td>0.2</td>\n",
              "      <td>0.0</td>\n",
              "      <td>17.5</td>\n",
              "      <td>0</td>\n",
              "    </tr>\n",
              "  </tbody>\n",
              "</table>\n",
              "</div>"
            ],
            "text/plain": [
              "                  time      timestamp  cpu_usage  memory_usage   \n",
              "0  2023-06-12 11:33:10  1686544390000      0.006         0.374  \\\n",
              "1  2023-06-12 11:33:15  1686544395000      0.012         0.374   \n",
              "2  2023-06-12 11:33:20  1686544400000      0.008         0.374   \n",
              "3  2023-06-12 11:33:25  1686544405000      0.008         0.374   \n",
              "4  2023-06-12 11:33:30  1686544410000      0.008         0.374   \n",
              "\n",
              "   bandwidth_inbound  bandwidth_outbound  tps  tps_error  response_time   \n",
              "0               8.73                6.42  0.2        0.0           15.1  \\\n",
              "1               8.79                6.49  0.2        0.0           20.1   \n",
              "2               8.77                6.46  0.2        0.0           14.3   \n",
              "3               8.74                6.44  0.2        0.0           18.9   \n",
              "4               8.88                6.53  0.2        0.0           17.5   \n",
              "\n",
              "   status  \n",
              "0       0  \n",
              "1       0  \n",
              "2       0  \n",
              "3       0  \n",
              "4       0  "
            ]
          },
          "execution_count": 12,
          "metadata": {},
          "output_type": "execute_result"
        }
      ],
      "source": [
        "col_names = [\"time\",\"timestamp\",\"cpu_usage\",\"memory_usage\",\"bandwidth_inbound\",\"bandwidth_outbound\",\"tps\",\"tps_error\",\"response_time\",\"status\"]\n",
        "\n",
        "# Load dataset\n",
        "pima = pd.read_csv(file_path, skiprows=1, header=None, names=col_names)\n",
        "pima.head()"
      ]
    },
    {
      "cell_type": "code",
      "execution_count": 13,
      "metadata": {},
      "outputs": [
        {
          "name": "stderr",
          "output_type": "stream",
          "text": [
            "C:\\Users\\dell\\AppData\\Local\\Temp\\ipykernel_3024\\2882514117.py:9: SettingWithCopyWarning: \n",
            "A value is trying to be set on a copy of a slice from a DataFrame.\n",
            "Try using .loc[row_indexer,col_indexer] = value instead\n",
            "\n",
            "See the caveats in the documentation: https://pandas.pydata.org/pandas-docs/stable/user_guide/indexing.html#returning-a-view-versus-a-copy\n",
            "  X[[\"bandwidth_inbound\",\"bandwidth_outbound\",\"tps\",\"response_time\"]] = scaler.fit_transform(X[[\"bandwidth_inbound\",\"bandwidth_outbound\",\"tps\",\"response_time\"]])\n"
          ]
        }
      ],
      "source": [
        "# Split dataset in features and target variable\n",
        "feature_cols = [\"cpu_usage\",\"memory_usage\",\"bandwidth_inbound\",\"bandwidth_outbound\",\"tps\",\"response_time\"]\n",
        "target_col = [\"status\"]\n",
        "X = pima[feature_cols] # Features\n",
        "y = pima[target_col] # Target variable\n",
        "\n",
        "# Standardize the data\n",
        "scaler = MinMaxScaler()\n",
        "X[[\"bandwidth_inbound\",\"bandwidth_outbound\",\"tps\",\"response_time\"]] = scaler.fit_transform(X[[\"bandwidth_inbound\",\"bandwidth_outbound\",\"tps\",\"response_time\"]])\n",
        "\n",
        "\n",
        "# Split data into training set and test set 80% training and 20% test by letting first 80% be training and last 20% be test\n",
        "X_train, X_test, y_train, y_test = train_test_split(X, y, test_size=0.2, shuffle=False)"
      ]
    },
    {
      "cell_type": "code",
      "execution_count": 14,
      "metadata": {},
      "outputs": [
        {
          "name": "stdout",
          "output_type": "stream",
          "text": [
            "[0 1]\n"
          ]
        },
        {
          "name": "stderr",
          "output_type": "stream",
          "text": [
            "c:\\Users\\dell\\AppData\\Local\\Programs\\Python\\Python311\\Lib\\site-packages\\sklearn\\preprocessing\\_label.py:116: DataConversionWarning: A column-vector y was passed when a 1d array was expected. Please change the shape of y to (n_samples, ), for example using ravel().\n",
            "  y = column_or_1d(y, warn=True)\n"
          ]
        }
      ],
      "source": [
        "from sklearn.preprocessing import LabelEncoder\n",
        "\n",
        "le = LabelEncoder()\n",
        "y_encoded = le.fit_transform(y)\n",
        "\n",
        "print(le.classes_)"
      ]
    },
    {
      "cell_type": "code",
      "execution_count": 15,
      "metadata": {},
      "outputs": [],
      "source": [
        "# Share the data\n",
        "pickle.dump(pima, open(\"./common/pima.p\", \"wb\"))\n",
        "pickle.dump(X, open(\"./common/feature_status.p\", \"wb\"))\n",
        "pickle.dump(y, open(\"./common/target_status.p\", \"wb\"))\n",
        "\n",
        "pickle.dump(X_train, open(\"./common/metrics_train.p\", \"wb\"))\n",
        "pickle.dump(X_test, open(\"./common/metrics_test.p\", \"wb\"))\n",
        "pickle.dump(y_train, open(\"./common/status_train.p\", \"wb\"))\n",
        "pickle.dump(y_test, open(\"./common/status_test.p\", \"wb\"))\n",
        "\n",
        "pickle.dump(feature_cols, open(\"./common/feature_cols.p\", \"wb\"))\n",
        "pickle.dump(target_col, open(\"./common/target_col.p\", \"wb\"))"
      ]
    }
  ],
  "metadata": {
    "kernelspec": {
      "display_name": "Python 3",
      "language": "python",
      "name": "python3"
    },
    "language_info": {
      "codemirror_mode": {
        "name": "ipython",
        "version": 3
      },
      "file_extension": ".py",
      "mimetype": "text/x-python",
      "name": "python",
      "nbconvert_exporter": "python",
      "pygments_lexer": "ipython3",
      "version": "3.11.3"
    },
    "orig_nbformat": 4
  },
  "nbformat": 4,
  "nbformat_minor": 2
}
