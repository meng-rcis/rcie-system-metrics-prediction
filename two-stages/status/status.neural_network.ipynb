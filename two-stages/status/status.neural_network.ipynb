{
 "cells": [
  {
   "attachments": {},
   "cell_type": "markdown",
   "metadata": {},
   "source": [
    "## Neural Network"
   ]
  },
  {
   "cell_type": "code",
   "execution_count": 22,
   "metadata": {},
   "outputs": [],
   "source": [
    "# Import all required libraries\n",
    "import pickle\n",
    "import pandas as pd\n",
    "import numpy as np\n",
    "import seaborn as sns\n",
    "import matplotlib.pyplot as plt\n",
    "\n",
    "from numpy import mean, std\n",
    "from keras import activations\n",
    "from keras.models import Sequential\n",
    "from keras.layers import Dense\n",
    "from sklearn.base import BaseEstimator, ClassifierMixin\n",
    "from keras.wrappers.scikit_learn import KerasClassifier\n",
    "from sklearn.model_selection import cross_validate, KFold\n",
    "from sklearn.metrics import accuracy_score, precision_score, recall_score, f1_score, confusion_matrix"
   ]
  },
  {
   "cell_type": "code",
   "execution_count": 23,
   "metadata": {},
   "outputs": [],
   "source": [
    "# Import feature and target columns\n",
    "X = pickle.load(open(\"./common/feature_status.p\", \"rb\"))\n",
    "y = pickle.load(open(\"./common/target_status.p\", \"rb\"))\n",
    "feature_cols = pickle.load(open(\"./common/feature_cols.p\", \"rb\"))"
   ]
  },
  {
   "attachments": {},
   "cell_type": "markdown",
   "metadata": {},
   "source": [
    "### Perform Cross Validation"
   ]
  },
  {
   "cell_type": "code",
   "execution_count": 24,
   "metadata": {},
   "outputs": [],
   "source": [
    "# Define a sklearn-compatible classifier based on our Keras model\n",
    "class KerasBinaryClassifier(BaseEstimator, ClassifierMixin):\n",
    "    def __init__(self, model):\n",
    "        self.model = model\n",
    "    def fit(self, X, y):\n",
    "        self.model.compile(loss='binary_crossentropy', optimizer='adam')\n",
    "        self.model.fit(X, y, epochs=150, batch_size=10, verbose=0)\n",
    "        return self\n",
    "    def predict(self, X):\n",
    "        Y_pred = self.model.predict(X)\n",
    "        Y_pred = (Y_pred >= 0.5).astype(int)\n",
    "        return Y_pred.flatten()"
   ]
  },
  {
   "cell_type": "code",
   "execution_count": 25,
   "metadata": {},
   "outputs": [],
   "source": [
    "# Function to create the model, required for KerasClassifier\n",
    "def create_model():\n",
    "    model = Sequential()\n",
    "    model.add(Dense(6, input_dim=len(feature_cols), activation=activations.relu))\n",
    "    # model.add(Dense(10, activation=activations.relu))\n",
    "    model.add(Dense(1, activation=activations.sigmoid))\n",
    "    \n",
    "    # compile the keras model\n",
    "    model.compile(loss='binary_crossentropy', optimizer='adam')\n",
    "    return model"
   ]
  },
  {
   "cell_type": "code",
   "execution_count": 26,
   "metadata": {},
   "outputs": [
    {
     "name": "stderr",
     "output_type": "stream",
     "text": [
      "C:\\Users\\dell\\AppData\\Local\\Temp\\ipykernel_18528\\1848178374.py:1: DeprecationWarning: KerasClassifier is deprecated, use Sci-Keras (https://github.com/adriangb/scikeras) instead. See https://www.adriangb.com/scikeras/stable/migration.html for help migrating.\n",
      "  clf_cv = KerasClassifier(build_fn=create_model, epochs=100, batch_size=32, verbose=0)\n"
     ]
    }
   ],
   "source": [
    "clf_cv = KerasClassifier(build_fn=create_model, epochs=100, batch_size=32, verbose=0)\n",
    "\n",
    "# Define metrics\n",
    "scoring = ['precision_macro', 'recall_macro', 'f1_macro', 'precision_micro', 'recall_micro', 'f1_micro']\n",
    "\n",
    "# Define the cross-validation procedure\n",
    "cv = KFold(n_splits=10, shuffle=False)\n",
    "\n",
    "# Evaluate the model using cross-validation\n",
    "scores = cross_validate(clf_cv, X, y, scoring=scoring, cv=cv, n_jobs=-1)"
   ]
  },
  {
   "cell_type": "code",
   "execution_count": 27,
   "metadata": {},
   "outputs": [
    {
     "name": "stdout",
     "output_type": "stream",
     "text": [
      "MACRO:\n",
      "Precision: 0.768 (0.236)\n",
      "Recall: 0.780 (0.208)\n",
      "F1 score: 0.753 (0.203)\n",
      "\n",
      "MICRO:\n",
      "Precision: 0.942 (0.071)\n",
      "Recall: 0.942 (0.071)\n",
      "F1 score: 0.942 (0.071)\n"
     ]
    }
   ],
   "source": [
    "# Print scores\n",
    "print('MACRO:')\n",
    "print('Precision: %.3f (%.3f)' % (mean(scores['test_precision_macro']), std(scores['test_precision_macro'])))\n",
    "print('Recall: %.3f (%.3f)' % (mean(scores['test_recall_macro']), std(scores['test_recall_macro'])))\n",
    "print('F1 score: %.3f (%.3f)' % (mean(scores['test_f1_macro']), std(scores['test_f1_macro'])))\n",
    "print()\n",
    "print('MICRO:')\n",
    "print('Precision: %.3f (%.3f)' % (mean(scores['test_precision_micro']), std(scores['test_precision_micro'])))\n",
    "print('Recall: %.3f (%.3f)' % (mean(scores['test_recall_micro']), std(scores['test_recall_micro'])))\n",
    "print('F1 score: %.3f (%.3f)' % (mean(scores['test_f1_micro']), std(scores['test_f1_micro'])))"
   ]
  },
  {
   "attachments": {},
   "cell_type": "markdown",
   "metadata": {},
   "source": [
    "### Train the model"
   ]
  },
  {
   "cell_type": "code",
   "execution_count": 28,
   "metadata": {},
   "outputs": [],
   "source": [
    "# Import training and testing data\n",
    "X_test = pickle.load(open(\"./common/metrics_test.p\", \"rb\"))\n",
    "X_train = pickle.load(open(\"./common/metrics_train.p\", \"rb\"))\n",
    "y_test = pickle.load(open(\"./common/status_test.p\", \"rb\"))\n",
    "y_train = pickle.load(open(\"./common/status_train.p\", \"rb\"))"
   ]
  },
  {
   "cell_type": "code",
   "execution_count": 29,
   "metadata": {},
   "outputs": [
    {
     "name": "stdout",
     "output_type": "stream",
     "text": [
      "Epoch 1/150\n"
     ]
    },
    {
     "name": "stderr",
     "output_type": "stream",
     "text": [
      "C:\\Users\\dell\\AppData\\Local\\Temp\\ipykernel_18528\\3781437085.py:2: DeprecationWarning: KerasClassifier is deprecated, use Sci-Keras (https://github.com/adriangb/scikeras) instead. See https://www.adriangb.com/scikeras/stable/migration.html for help migrating.\n",
      "  clf = KerasClassifier(build_fn=create_model, epochs=100, batch_size=32, verbose=0)\n"
     ]
    },
    {
     "name": "stdout",
     "output_type": "stream",
     "text": [
      "173/173 [==============================] - 1s 2ms/step - loss: 83.2222\n",
      "Epoch 2/150\n",
      "173/173 [==============================] - 0s 2ms/step - loss: 42.3831\n",
      "Epoch 3/150\n",
      "173/173 [==============================] - 0s 2ms/step - loss: 33.2223\n",
      "Epoch 4/150\n",
      "173/173 [==============================] - 0s 2ms/step - loss: 29.3836\n",
      "Epoch 5/150\n",
      "173/173 [==============================] - 0s 2ms/step - loss: 25.8490\n",
      "Epoch 6/150\n",
      "173/173 [==============================] - 0s 2ms/step - loss: 24.2045\n",
      "Epoch 7/150\n",
      "173/173 [==============================] - 0s 1ms/step - loss: 20.5608\n",
      "Epoch 8/150\n",
      "173/173 [==============================] - 0s 2ms/step - loss: 18.3365\n",
      "Epoch 9/150\n",
      "173/173 [==============================] - 0s 2ms/step - loss: 15.7287\n",
      "Epoch 10/150\n",
      "173/173 [==============================] - 0s 1ms/step - loss: 14.1454\n",
      "Epoch 11/150\n",
      "173/173 [==============================] - 0s 2ms/step - loss: 11.6451\n",
      "Epoch 12/150\n",
      "173/173 [==============================] - 0s 1ms/step - loss: 8.9037\n",
      "Epoch 13/150\n",
      "173/173 [==============================] - 0s 1ms/step - loss: 6.4309\n",
      "Epoch 14/150\n",
      "173/173 [==============================] - 0s 1ms/step - loss: 5.3960\n",
      "Epoch 15/150\n",
      "173/173 [==============================] - 0s 1ms/step - loss: 5.0616\n",
      "Epoch 16/150\n",
      "173/173 [==============================] - 0s 1ms/step - loss: 3.7826\n",
      "Epoch 17/150\n",
      "173/173 [==============================] - 0s 1ms/step - loss: 3.1685\n",
      "Epoch 18/150\n",
      "173/173 [==============================] - 0s 1ms/step - loss: 2.7989\n",
      "Epoch 19/150\n",
      "173/173 [==============================] - 0s 1ms/step - loss: 2.0769\n",
      "Epoch 20/150\n",
      "173/173 [==============================] - 1s 3ms/step - loss: 1.3264\n",
      "Epoch 21/150\n",
      "173/173 [==============================] - 0s 2ms/step - loss: 0.8454\n",
      "Epoch 22/150\n",
      "173/173 [==============================] - 0s 1ms/step - loss: 1.0566\n",
      "Epoch 23/150\n",
      "173/173 [==============================] - 0s 1ms/step - loss: 1.2403\n",
      "Epoch 24/150\n",
      "173/173 [==============================] - 0s 1ms/step - loss: 1.1189\n",
      "Epoch 25/150\n",
      "173/173 [==============================] - 0s 1ms/step - loss: 1.0432\n",
      "Epoch 26/150\n",
      "173/173 [==============================] - 0s 1ms/step - loss: 0.9275\n",
      "Epoch 27/150\n",
      "173/173 [==============================] - 0s 1ms/step - loss: 0.7987\n",
      "Epoch 28/150\n",
      "173/173 [==============================] - 0s 2ms/step - loss: 1.2371\n",
      "Epoch 29/150\n",
      "173/173 [==============================] - 0s 1ms/step - loss: 1.2315\n",
      "Epoch 30/150\n",
      "173/173 [==============================] - 0s 1ms/step - loss: 1.0768\n",
      "Epoch 31/150\n",
      "173/173 [==============================] - 0s 1ms/step - loss: 1.2130\n",
      "Epoch 32/150\n",
      "173/173 [==============================] - 0s 1ms/step - loss: 1.2802\n",
      "Epoch 33/150\n",
      "173/173 [==============================] - 0s 1ms/step - loss: 0.8502\n",
      "Epoch 34/150\n",
      "173/173 [==============================] - 0s 1ms/step - loss: 0.8566\n",
      "Epoch 35/150\n",
      "173/173 [==============================] - 0s 1ms/step - loss: 0.5895\n",
      "Epoch 36/150\n",
      "173/173 [==============================] - 0s 1ms/step - loss: 0.8114\n",
      "Epoch 37/150\n",
      "173/173 [==============================] - 0s 2ms/step - loss: 0.5194\n",
      "Epoch 38/150\n",
      "173/173 [==============================] - 0s 1ms/step - loss: 1.4898\n",
      "Epoch 39/150\n",
      "173/173 [==============================] - 0s 1ms/step - loss: 0.5847\n",
      "Epoch 40/150\n",
      "173/173 [==============================] - 0s 1ms/step - loss: 0.5694\n",
      "Epoch 41/150\n",
      "173/173 [==============================] - 0s 1ms/step - loss: 0.8935\n",
      "Epoch 42/150\n",
      "173/173 [==============================] - 0s 1ms/step - loss: 0.7087\n",
      "Epoch 43/150\n",
      "173/173 [==============================] - 0s 1ms/step - loss: 0.8069\n",
      "Epoch 44/150\n",
      "173/173 [==============================] - 0s 2ms/step - loss: 0.7438\n",
      "Epoch 45/150\n",
      "173/173 [==============================] - 0s 1ms/step - loss: 1.1856\n",
      "Epoch 46/150\n",
      "173/173 [==============================] - 0s 1ms/step - loss: 0.6520\n",
      "Epoch 47/150\n",
      "173/173 [==============================] - 0s 1ms/step - loss: 1.0034\n",
      "Epoch 48/150\n",
      "173/173 [==============================] - 0s 1ms/step - loss: 1.0579\n",
      "Epoch 49/150\n",
      "173/173 [==============================] - 0s 1ms/step - loss: 1.4210\n",
      "Epoch 50/150\n",
      "173/173 [==============================] - 0s 1ms/step - loss: 0.5768\n",
      "Epoch 51/150\n",
      "173/173 [==============================] - 0s 1ms/step - loss: 0.5917\n",
      "Epoch 52/150\n",
      "173/173 [==============================] - 0s 1ms/step - loss: 0.4153\n",
      "Epoch 53/150\n",
      "173/173 [==============================] - 0s 1ms/step - loss: 0.5560\n",
      "Epoch 54/150\n",
      "173/173 [==============================] - 0s 1ms/step - loss: 0.8816\n",
      "Epoch 55/150\n",
      "173/173 [==============================] - 0s 1ms/step - loss: 0.9320\n",
      "Epoch 56/150\n",
      "173/173 [==============================] - 0s 1ms/step - loss: 1.3626\n",
      "Epoch 57/150\n",
      "173/173 [==============================] - 0s 1ms/step - loss: 0.6482\n",
      "Epoch 58/150\n",
      "173/173 [==============================] - 0s 1ms/step - loss: 1.5030\n",
      "Epoch 59/150\n",
      "173/173 [==============================] - 0s 1ms/step - loss: 0.7284\n",
      "Epoch 60/150\n",
      "173/173 [==============================] - 0s 1ms/step - loss: 0.8075\n",
      "Epoch 61/150\n",
      "173/173 [==============================] - 0s 1ms/step - loss: 0.8813\n",
      "Epoch 62/150\n",
      "173/173 [==============================] - 0s 1ms/step - loss: 0.8624\n",
      "Epoch 63/150\n",
      "173/173 [==============================] - 0s 2ms/step - loss: 0.4376\n",
      "Epoch 64/150\n",
      "173/173 [==============================] - 0s 2ms/step - loss: 0.7220\n",
      "Epoch 65/150\n",
      "173/173 [==============================] - 0s 1ms/step - loss: 0.7502\n",
      "Epoch 66/150\n",
      "173/173 [==============================] - 0s 1ms/step - loss: 0.8222\n",
      "Epoch 67/150\n",
      "173/173 [==============================] - 0s 1ms/step - loss: 0.8702\n",
      "Epoch 68/150\n",
      "173/173 [==============================] - 0s 1ms/step - loss: 0.8363\n",
      "Epoch 69/150\n",
      "173/173 [==============================] - 0s 1ms/step - loss: 1.2647\n",
      "Epoch 70/150\n",
      "173/173 [==============================] - 0s 1ms/step - loss: 0.5462\n",
      "Epoch 71/150\n",
      "173/173 [==============================] - 0s 1ms/step - loss: 1.0495\n",
      "Epoch 72/150\n",
      "173/173 [==============================] - 0s 1ms/step - loss: 0.6692\n",
      "Epoch 73/150\n",
      "173/173 [==============================] - 0s 1ms/step - loss: 1.4688\n",
      "Epoch 74/150\n",
      "173/173 [==============================] - 0s 1ms/step - loss: 0.6090\n",
      "Epoch 75/150\n",
      "173/173 [==============================] - 0s 1ms/step - loss: 0.7287\n",
      "Epoch 76/150\n",
      "173/173 [==============================] - 0s 1ms/step - loss: 0.8386\n",
      "Epoch 77/150\n",
      "173/173 [==============================] - 0s 2ms/step - loss: 0.6236\n",
      "Epoch 78/150\n",
      "173/173 [==============================] - 0s 2ms/step - loss: 1.2025\n",
      "Epoch 79/150\n",
      "173/173 [==============================] - 0s 1ms/step - loss: 1.0795\n",
      "Epoch 80/150\n",
      "173/173 [==============================] - 0s 1ms/step - loss: 1.1275\n",
      "Epoch 81/150\n",
      "173/173 [==============================] - 0s 1ms/step - loss: 0.5006\n",
      "Epoch 82/150\n",
      "173/173 [==============================] - 0s 1ms/step - loss: 1.1257\n",
      "Epoch 83/150\n",
      "173/173 [==============================] - 0s 1ms/step - loss: 1.0158\n",
      "Epoch 84/150\n",
      "173/173 [==============================] - 0s 1ms/step - loss: 1.0106\n",
      "Epoch 85/150\n",
      "173/173 [==============================] - 0s 1ms/step - loss: 1.6138\n",
      "Epoch 86/150\n",
      "173/173 [==============================] - 0s 1ms/step - loss: 0.5613\n",
      "Epoch 87/150\n",
      "173/173 [==============================] - 0s 2ms/step - loss: 0.8391\n",
      "Epoch 88/150\n",
      "173/173 [==============================] - 0s 2ms/step - loss: 0.8238\n",
      "Epoch 89/150\n",
      "173/173 [==============================] - 0s 2ms/step - loss: 0.6440\n",
      "Epoch 90/150\n",
      "173/173 [==============================] - 0s 2ms/step - loss: 1.0116\n",
      "Epoch 91/150\n",
      "173/173 [==============================] - 0s 2ms/step - loss: 0.8572\n",
      "Epoch 92/150\n",
      "173/173 [==============================] - 0s 2ms/step - loss: 2.2657\n",
      "Epoch 93/150\n",
      "173/173 [==============================] - 0s 2ms/step - loss: 0.7109\n",
      "Epoch 94/150\n",
      "173/173 [==============================] - 0s 2ms/step - loss: 0.9765\n",
      "Epoch 95/150\n",
      "173/173 [==============================] - 0s 2ms/step - loss: 1.0796\n",
      "Epoch 96/150\n",
      "173/173 [==============================] - 0s 2ms/step - loss: 0.7363\n",
      "Epoch 97/150\n",
      "173/173 [==============================] - 0s 2ms/step - loss: 0.7284\n",
      "Epoch 98/150\n",
      "173/173 [==============================] - 0s 2ms/step - loss: 2.9095\n",
      "Epoch 99/150\n",
      "173/173 [==============================] - 0s 2ms/step - loss: 1.4099\n",
      "Epoch 100/150\n",
      "173/173 [==============================] - 0s 2ms/step - loss: 0.7877\n",
      "Epoch 101/150\n",
      "173/173 [==============================] - 0s 2ms/step - loss: 0.6061\n",
      "Epoch 102/150\n",
      "173/173 [==============================] - 0s 2ms/step - loss: 0.9150\n",
      "Epoch 103/150\n",
      "173/173 [==============================] - 0s 2ms/step - loss: 0.5245\n",
      "Epoch 104/150\n",
      "173/173 [==============================] - 0s 2ms/step - loss: 1.2478\n",
      "Epoch 105/150\n",
      "173/173 [==============================] - 0s 2ms/step - loss: 1.0259\n",
      "Epoch 106/150\n",
      "173/173 [==============================] - 0s 2ms/step - loss: 0.7615\n",
      "Epoch 107/150\n",
      "173/173 [==============================] - 0s 2ms/step - loss: 0.6175\n",
      "Epoch 108/150\n",
      "173/173 [==============================] - 0s 2ms/step - loss: 0.8067\n",
      "Epoch 109/150\n",
      "173/173 [==============================] - 0s 2ms/step - loss: 0.6822\n",
      "Epoch 110/150\n",
      "173/173 [==============================] - 0s 2ms/step - loss: 1.0464\n",
      "Epoch 111/150\n",
      "173/173 [==============================] - 0s 2ms/step - loss: 0.8250\n",
      "Epoch 112/150\n",
      "173/173 [==============================] - 0s 2ms/step - loss: 0.8276\n",
      "Epoch 113/150\n",
      "173/173 [==============================] - 0s 2ms/step - loss: 0.6241\n",
      "Epoch 114/150\n",
      "173/173 [==============================] - 0s 2ms/step - loss: 1.3620\n",
      "Epoch 115/150\n",
      "173/173 [==============================] - 0s 2ms/step - loss: 1.1324\n",
      "Epoch 116/150\n",
      "173/173 [==============================] - 0s 2ms/step - loss: 0.5927\n",
      "Epoch 117/150\n",
      "173/173 [==============================] - 0s 1ms/step - loss: 1.0463\n",
      "Epoch 118/150\n",
      "173/173 [==============================] - 0s 1ms/step - loss: 0.6170\n",
      "Epoch 119/150\n",
      "173/173 [==============================] - 0s 1ms/step - loss: 0.8805\n",
      "Epoch 120/150\n",
      "173/173 [==============================] - 0s 1ms/step - loss: 0.7562\n",
      "Epoch 121/150\n",
      "173/173 [==============================] - 0s 2ms/step - loss: 0.5977\n",
      "Epoch 122/150\n",
      "173/173 [==============================] - 0s 1ms/step - loss: 0.4723\n",
      "Epoch 123/150\n",
      "173/173 [==============================] - 0s 1ms/step - loss: 0.8693\n",
      "Epoch 124/150\n",
      "173/173 [==============================] - 0s 1ms/step - loss: 0.7460\n",
      "Epoch 125/150\n",
      "173/173 [==============================] - 0s 1ms/step - loss: 0.7670\n",
      "Epoch 126/150\n",
      "173/173 [==============================] - 0s 1ms/step - loss: 1.0217\n",
      "Epoch 127/150\n",
      "173/173 [==============================] - 0s 1ms/step - loss: 1.0410\n",
      "Epoch 128/150\n",
      "173/173 [==============================] - 0s 1ms/step - loss: 1.0522\n",
      "Epoch 129/150\n",
      "173/173 [==============================] - 0s 2ms/step - loss: 1.2165\n",
      "Epoch 130/150\n",
      "173/173 [==============================] - 0s 2ms/step - loss: 0.7721\n",
      "Epoch 131/150\n",
      "173/173 [==============================] - 0s 2ms/step - loss: 1.0604\n",
      "Epoch 132/150\n",
      "173/173 [==============================] - 0s 1ms/step - loss: 0.9653\n",
      "Epoch 133/150\n",
      "173/173 [==============================] - 0s 1ms/step - loss: 1.2066\n",
      "Epoch 134/150\n",
      "173/173 [==============================] - 0s 1ms/step - loss: 0.8850\n",
      "Epoch 135/150\n",
      "173/173 [==============================] - 0s 1ms/step - loss: 0.4346\n",
      "Epoch 136/150\n",
      "173/173 [==============================] - 0s 2ms/step - loss: 0.9627\n",
      "Epoch 137/150\n",
      "173/173 [==============================] - 0s 2ms/step - loss: 1.0206\n",
      "Epoch 138/150\n",
      "173/173 [==============================] - 0s 2ms/step - loss: 0.7247\n",
      "Epoch 139/150\n",
      "173/173 [==============================] - 0s 2ms/step - loss: 0.7375\n",
      "Epoch 140/150\n",
      "173/173 [==============================] - 0s 2ms/step - loss: 0.7806\n",
      "Epoch 141/150\n",
      "173/173 [==============================] - 0s 2ms/step - loss: 0.8010\n",
      "Epoch 142/150\n",
      "173/173 [==============================] - 0s 2ms/step - loss: 1.2489\n",
      "Epoch 143/150\n",
      "173/173 [==============================] - 0s 2ms/step - loss: 1.3738\n",
      "Epoch 144/150\n",
      "173/173 [==============================] - 0s 3ms/step - loss: 1.7171\n",
      "Epoch 145/150\n",
      "173/173 [==============================] - 0s 3ms/step - loss: 0.6247\n",
      "Epoch 146/150\n",
      "173/173 [==============================] - 0s 2ms/step - loss: 0.6895\n",
      "Epoch 147/150\n",
      "173/173 [==============================] - 1s 4ms/step - loss: 0.5380\n",
      "Epoch 148/150\n",
      "173/173 [==============================] - 0s 3ms/step - loss: 0.5339\n",
      "Epoch 149/150\n",
      "173/173 [==============================] - 1s 3ms/step - loss: 0.7178\n",
      "Epoch 150/150\n",
      "173/173 [==============================] - 0s 2ms/step - loss: 0.5881\n"
     ]
    },
    {
     "data": {
      "text/plain": [
       "<keras.callbacks.History at 0x28a33ae7b90>"
      ]
     },
     "execution_count": 29,
     "metadata": {},
     "output_type": "execute_result"
    }
   ],
   "source": [
    "# Define the model\n",
    "clf = KerasClassifier(build_fn=create_model, epochs=100, batch_size=32, verbose=0)\n",
    "\n",
    "# Train the model\n",
    "clf.fit(X_train, y_train, epochs=150, batch_size=10, verbose=1)"
   ]
  },
  {
   "cell_type": "code",
   "execution_count": 30,
   "metadata": {},
   "outputs": [
    {
     "name": "stdout",
     "output_type": "stream",
     "text": [
      "14/14 [==============================] - 0s 2ms/step\n"
     ]
    }
   ],
   "source": [
    "# Use the model to make predictions on the test set\n",
    "y_pred = clf.predict(X_test)\n",
    "y_pred = [1 if y >= 0.5 else 0 for y in y_pred]  # threshold"
   ]
  },
  {
   "cell_type": "code",
   "execution_count": 31,
   "metadata": {},
   "outputs": [
    {
     "name": "stdout",
     "output_type": "stream",
     "text": [
      "Accuracy: 0.9653579676674365\n",
      "Precision: 0.8947368421052632\n",
      "Recall: 0.5666666666666667\n",
      "F1: 0.6938775510204083\n"
     ]
    }
   ],
   "source": [
    "# Evaluate the model\n",
    "print(\"Accuracy:\", accuracy_score(y_test, y_pred))\n",
    "print(\"Precision:\", precision_score(y_test, y_pred))\n",
    "print(\"Recall:\", recall_score(y_test, y_pred))\n",
    "print(\"F1:\", f1_score(y_test, y_pred))"
   ]
  },
  {
   "attachments": {},
   "cell_type": "markdown",
   "metadata": {},
   "source": [
    "### Visualize the model"
   ]
  },
  {
   "cell_type": "code",
   "execution_count": 32,
   "metadata": {},
   "outputs": [
    {
     "data": {
      "text/plain": [
       "array([[401,   2],\n",
       "       [ 13,  17]], dtype=int64)"
      ]
     },
     "execution_count": 32,
     "metadata": {},
     "output_type": "execute_result"
    }
   ],
   "source": [
    "clf_matrix = confusion_matrix(y_test, y_pred)\n",
    "clf_matrix"
   ]
  },
  {
   "cell_type": "code",
   "execution_count": 33,
   "metadata": {},
   "outputs": [
    {
     "data": {
      "text/plain": [
       "Text(0.5, 427.9555555555555, 'Predicted Label')"
      ]
     },
     "execution_count": 33,
     "metadata": {},
     "output_type": "execute_result"
    },
    {
     "data": {
      "image/png": "[encoded data removed]",
      "text/plain": [
       "<Figure size 640x480 with 2 Axes>"
      ]
     },
     "metadata": {},
     "output_type": "display_data"
    }
   ],
   "source": [
    "# Assuming clf_matrix is the confusion matrix you've computed\n",
    "clf_matrix_df = pd.DataFrame(clf_matrix, index=[\"s:ok\", \"s:failed\"], columns=[\"s:ok\", \"s:failed\"])\n",
    "\n",
    "# Create heatmap\n",
    "class_names=[\"s:ok\", \"s:failed\"]\n",
    "fig, ax = plt.subplots()\n",
    "tick_marks = np.arange(len(class_names))\n",
    "\n",
    "plt.xticks(tick_marks, class_names)\n",
    "plt.yticks(tick_marks, class_names)\n",
    "sns.heatmap(clf_matrix_df, annot=True, cmap=\"YlGnBu\" ,fmt='g')\n",
    "ax.xaxis.set_label_position(\"top\")\n",
    "\n",
    "plt.tight_layout()\n",
    "plt.title('Confusion matrix neural network', y=1.1)\n",
    "plt.ylabel('Actual Label')\n",
    "plt.xlabel('Predicted Label')"
   ]
  },
  {
   "attachments": {},
   "cell_type": "markdown",
   "metadata": {},
   "source": [
    "### Export the model"
   ]
  },
  {
   "cell_type": "code",
   "execution_count": 34,
   "metadata": {},
   "outputs": [],
   "source": [
    "pickle.dump(clf, open(\"./models/neural_network.p\", \"wb\"))"
   ]
  }
 ],
 "metadata": {
  "kernelspec": {
   "display_name": "Python 3",
   "language": "python",
   "name": "python3"
  },
  "language_info": {
   "codemirror_mode": {
    "name": "ipython",
    "version": 3
   },
   "file_extension": ".py",
   "mimetype": "text/x-python",
   "name": "python",
   "nbconvert_exporter": "python",
   "pygments_lexer": "ipython3",
   "version": "3.11.3"
  },
  "orig_nbformat": 4
 },
 "nbformat": 4,
 "nbformat_minor": 2
}
