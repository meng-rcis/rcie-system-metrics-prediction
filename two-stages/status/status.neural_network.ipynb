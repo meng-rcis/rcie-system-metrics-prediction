{
 "cells": [
  {
   "attachments": {},
   "cell_type": "markdown",
   "metadata": {},
   "source": [
    "## Neural Network"
   ]
  },
  {
   "cell_type": "code",
   "execution_count": 34,
   "metadata": {},
   "outputs": [],
   "source": [
    "# Import all required libraries\n",
    "import pickle\n",
    "import pandas as pd\n",
    "import numpy as np\n",
    "import seaborn as sns\n",
    "import matplotlib.pyplot as plt\n",
    "\n",
    "from keras.models import Sequential\n",
    "from keras.layers import Dense\n",
    "from sklearn.base import BaseEstimator, ClassifierMixin\n",
    "from sklearn.model_selection import cross_validate\n",
    "from sklearn.metrics import make_scorer, accuracy_score, precision_score, recall_score, f1_score, confusion_matrix"
   ]
  },
  {
   "cell_type": "code",
   "execution_count": 19,
   "metadata": {},
   "outputs": [],
   "source": [
    "# Import feature and target columns\n",
    "X = pickle.load(open(\"./common/feature_status.p\", \"rb\"))\n",
    "y = pickle.load(open(\"./common/target_status.p\", \"rb\"))\n",
    "feature_cols = pickle.load(open(\"./common/feature_cols.p\", \"rb\"))"
   ]
  },
  {
   "attachments": {},
   "cell_type": "markdown",
   "metadata": {},
   "source": [
    "### Perform Cross Validation"
   ]
  },
  {
   "cell_type": "code",
   "execution_count": 35,
   "metadata": {},
   "outputs": [],
   "source": [
    "# Define a sklearn-compatible classifier based on our Keras model\n",
    "class KerasBinaryClassifier(BaseEstimator, ClassifierMixin):\n",
    "    def __init__(self, model):\n",
    "        self.model = model\n",
    "    def fit(self, X, y):\n",
    "        self.model.compile(loss='binary_crossentropy', optimizer='adam')\n",
    "        self.model.fit(X, y, epochs=150, batch_size=10, verbose=0)\n",
    "        return self\n",
    "    def predict(self, X):\n",
    "        Y_pred = self.model.predict(X)\n",
    "        Y_pred = (Y_pred >= 0.5).astype(int)\n",
    "        return Y_pred.flatten()"
   ]
  },
  {
   "cell_type": "code",
   "execution_count": 36,
   "metadata": {},
   "outputs": [],
   "source": [
    "# Define the Keras model\n",
    "model = Sequential()\n",
    "model.add(Dense(12, input_dim=len(feature_cols), activation='relu'))\n",
    "model.add(Dense(8, activation='relu'))\n",
    "model.add(Dense(1, activation='sigmoid'))\n",
    "\n",
    "# Wrap it in our sklearn-compatible classifier\n",
    "clf_cv = KerasBinaryClassifier(model)\n",
    "\n",
    "# Define metrics\n",
    "scoring = { 'accuracy': make_scorer(accuracy_score),\n",
    "            'precision': make_scorer(precision_score),\n",
    "            'recall': make_scorer(recall_score),\n",
    "            'F1': make_scorer(f1_score) }"
   ]
  },
  {
   "cell_type": "code",
   "execution_count": 37,
   "metadata": {},
   "outputs": [
    {
     "name": "stdout",
     "output_type": "stream",
     "text": [
      "7/7 [==============================] - 0s 1ms/step\n",
      "7/7 [==============================] - 0s 1ms/step\n",
      "7/7 [==============================] - 0s 2ms/step\n",
      "7/7 [==============================] - 0s 1ms/step\n",
      "7/7 [==============================] - 0s 2ms/step\n",
      "7/7 [==============================] - 0s 1ms/step\n",
      "7/7 [==============================] - 0s 1ms/step\n",
      "7/7 [==============================] - 0s 2ms/step\n",
      "7/7 [==============================] - 0s 1ms/step\n",
      "7/7 [==============================] - 0s 1ms/step\n"
     ]
    }
   ],
   "source": [
    "scores = cross_validate(clf_cv, X, y, cv=10, scoring=scoring)"
   ]
  },
  {
   "cell_type": "code",
   "execution_count": 38,
   "metadata": {},
   "outputs": [
    {
     "name": "stdout",
     "output_type": "stream",
     "text": [
      "test_accuracy: 0.94 (+/- 0.04)\n",
      "test_precision: 0.81 (+/- 0.44)\n",
      "test_recall: 0.48 (+/- 0.36)\n",
      "test_F1: 0.58 (+/- 0.37)\n"
     ]
    }
   ],
   "source": [
    "# Print scores\n",
    "for metric_name, score_array in scores.items():\n",
    "    if metric_name.startswith('test_'):\n",
    "        print(f'{metric_name}: {score_array.mean():.2f} (+/- {score_array.std() * 2:.2f})')"
   ]
  },
  {
   "attachments": {},
   "cell_type": "markdown",
   "metadata": {},
   "source": [
    "### Train the model"
   ]
  },
  {
   "cell_type": "code",
   "execution_count": 20,
   "metadata": {},
   "outputs": [],
   "source": [
    "# Import training and testing data\n",
    "X_test = pickle.load(open(\"./common/metrics_test.p\", \"rb\"))\n",
    "X_train = pickle.load(open(\"./common/metrics_train.p\", \"rb\"))\n",
    "y_test = pickle.load(open(\"./common/status_test.p\", \"rb\"))\n",
    "y_train = pickle.load(open(\"./common/status_train.p\", \"rb\"))"
   ]
  },
  {
   "cell_type": "code",
   "execution_count": 39,
   "metadata": {},
   "outputs": [
    {
     "name": "stdout",
     "output_type": "stream",
     "text": [
      "Epoch 1/150\n",
      "173/173 [==============================] - 2s 2ms/step - loss: 10.6950 - accuracy: 0.8409 - precision: 0.1726 - recall: 0.2329\n",
      "Epoch 2/150\n",
      "173/173 [==============================] - 0s 2ms/step - loss: 3.0278 - accuracy: 0.8073 - precision: 0.2050 - recall: 0.4452\n",
      "Epoch 3/150\n",
      "173/173 [==============================] - 0s 2ms/step - loss: 2.1453 - accuracy: 0.8241 - precision: 0.2331 - recall: 0.4726\n",
      "Epoch 4/150\n",
      "173/173 [==============================] - 0s 2ms/step - loss: 2.2582 - accuracy: 0.8466 - precision: 0.2836 - recall: 0.5342\n",
      "Epoch 5/150\n",
      "173/173 [==============================] - 0s 2ms/step - loss: 1.4667 - accuracy: 0.8634 - precision: 0.3109 - recall: 0.5068\n",
      "Epoch 6/150\n",
      "173/173 [==============================] - 1s 3ms/step - loss: 1.3269 - accuracy: 0.8686 - precision: 0.3373 - recall: 0.5753\n",
      "Epoch 7/150\n",
      "173/173 [==============================] - 0s 2ms/step - loss: 1.4707 - accuracy: 0.8669 - precision: 0.3293 - recall: 0.5548\n",
      "Epoch 8/150\n",
      "173/173 [==============================] - 1s 3ms/step - loss: 1.7296 - accuracy: 0.8605 - precision: 0.2979 - recall: 0.4795\n",
      "Epoch 9/150\n",
      "173/173 [==============================] - 1s 3ms/step - loss: 1.5865 - accuracy: 0.8727 - precision: 0.3348 - recall: 0.5137\n",
      "Epoch 10/150\n",
      "173/173 [==============================] - 1s 4ms/step - loss: 1.2780 - accuracy: 0.8831 - precision: 0.3667 - recall: 0.5274\n",
      "Epoch 11/150\n",
      "173/173 [==============================] - 1s 3ms/step - loss: 1.6993 - accuracy: 0.8623 - precision: 0.3083 - recall: 0.5068\n",
      "Epoch 12/150\n",
      "173/173 [==============================] - 0s 3ms/step - loss: 1.2470 - accuracy: 0.8895 - precision: 0.3902 - recall: 0.5479\n",
      "Epoch 13/150\n",
      "173/173 [==============================] - 0s 3ms/step - loss: 1.3668 - accuracy: 0.9010 - precision: 0.4359 - recall: 0.5822\n",
      "Epoch 14/150\n",
      "173/173 [==============================] - 0s 3ms/step - loss: 1.2993 - accuracy: 0.8843 - precision: 0.3579 - recall: 0.4658\n",
      "Epoch 15/150\n",
      "173/173 [==============================] - 0s 3ms/step - loss: 1.2010 - accuracy: 0.8895 - precision: 0.3902 - recall: 0.5479\n",
      "Epoch 16/150\n",
      "173/173 [==============================] - 1s 3ms/step - loss: 1.2306 - accuracy: 0.9028 - precision: 0.4433 - recall: 0.5890\n",
      "Epoch 17/150\n",
      "173/173 [==============================] - 0s 3ms/step - loss: 1.3247 - accuracy: 0.8912 - precision: 0.3960 - recall: 0.5479\n",
      "Epoch 18/150\n",
      "173/173 [==============================] - 0s 3ms/step - loss: 1.5585 - accuracy: 0.9016 - precision: 0.4355 - recall: 0.5548\n",
      "Epoch 19/150\n",
      "173/173 [==============================] - 1s 3ms/step - loss: 0.8160 - accuracy: 0.9138 - precision: 0.4907 - recall: 0.5411\n",
      "Epoch 20/150\n",
      "173/173 [==============================] - 0s 3ms/step - loss: 0.9282 - accuracy: 0.9051 - precision: 0.4489 - recall: 0.5411\n",
      "Epoch 21/150\n",
      "173/173 [==============================] - 1s 3ms/step - loss: 1.2473 - accuracy: 0.9016 - precision: 0.4381 - recall: 0.5822\n",
      "Epoch 22/150\n",
      "173/173 [==============================] - 0s 2ms/step - loss: 0.8879 - accuracy: 0.9207 - precision: 0.5269 - recall: 0.6027\n",
      "Epoch 23/150\n",
      "173/173 [==============================] - 0s 3ms/step - loss: 0.9348 - accuracy: 0.9016 - precision: 0.4368 - recall: 0.5685\n",
      "Epoch 24/150\n",
      "173/173 [==============================] - 1s 4ms/step - loss: 0.8452 - accuracy: 0.9213 - precision: 0.5301 - recall: 0.6027\n",
      "Epoch 25/150\n",
      "173/173 [==============================] - 1s 3ms/step - loss: 1.2906 - accuracy: 0.8947 - precision: 0.4022 - recall: 0.5068\n",
      "Epoch 26/150\n",
      "173/173 [==============================] - 0s 2ms/step - loss: 0.9460 - accuracy: 0.9120 - precision: 0.4833 - recall: 0.5959\n",
      "Epoch 27/150\n",
      "173/173 [==============================] - 1s 4ms/step - loss: 0.6699 - accuracy: 0.9230 - precision: 0.5389 - recall: 0.6164\n",
      "Epoch 28/150\n",
      "173/173 [==============================] - 0s 3ms/step - loss: 0.7954 - accuracy: 0.9248 - precision: 0.5519 - recall: 0.5822\n",
      "Epoch 29/150\n",
      "173/173 [==============================] - 1s 3ms/step - loss: 1.3113 - accuracy: 0.8964 - precision: 0.4136 - recall: 0.5411\n",
      "Epoch 30/150\n",
      "173/173 [==============================] - 0s 2ms/step - loss: 0.9883 - accuracy: 0.9213 - precision: 0.5301 - recall: 0.6027\n",
      "Epoch 31/150\n",
      "173/173 [==============================] - 0s 2ms/step - loss: 0.6653 - accuracy: 0.9242 - precision: 0.5444 - recall: 0.6301\n",
      "Epoch 32/150\n",
      "173/173 [==============================] - 0s 2ms/step - loss: 1.2786 - accuracy: 0.9062 - precision: 0.4535 - recall: 0.5342\n",
      "Epoch 33/150\n",
      "173/173 [==============================] - 0s 2ms/step - loss: 0.6741 - accuracy: 0.9167 - precision: 0.5060 - recall: 0.5753\n",
      "Epoch 34/150\n",
      "173/173 [==============================] - 0s 2ms/step - loss: 1.8243 - accuracy: 0.9028 - precision: 0.4382 - recall: 0.5342\n",
      "Epoch 35/150\n",
      "173/173 [==============================] - 0s 2ms/step - loss: 0.7737 - accuracy: 0.9201 - precision: 0.5241 - recall: 0.5959\n",
      "Epoch 36/150\n",
      "173/173 [==============================] - 0s 2ms/step - loss: 1.1329 - accuracy: 0.9184 - precision: 0.5150 - recall: 0.5890\n",
      "Epoch 37/150\n",
      "173/173 [==============================] - 0s 2ms/step - loss: 0.7263 - accuracy: 0.9161 - precision: 0.5029 - recall: 0.5890\n",
      "Epoch 38/150\n",
      "173/173 [==============================] - 0s 2ms/step - loss: 0.7175 - accuracy: 0.9219 - precision: 0.5346 - recall: 0.5822\n",
      "Epoch 39/150\n",
      "173/173 [==============================] - 1s 3ms/step - loss: 1.2967 - accuracy: 0.9196 - precision: 0.5215 - recall: 0.5822\n",
      "Epoch 40/150\n",
      "173/173 [==============================] - 0s 3ms/step - loss: 0.7634 - accuracy: 0.9259 - precision: 0.5536 - recall: 0.6370\n",
      "Epoch 41/150\n",
      "173/173 [==============================] - 0s 3ms/step - loss: 1.6399 - accuracy: 0.9016 - precision: 0.4326 - recall: 0.5274\n",
      "Epoch 42/150\n",
      "173/173 [==============================] - 0s 2ms/step - loss: 0.7979 - accuracy: 0.9115 - precision: 0.4800 - recall: 0.5753\n",
      "Epoch 43/150\n",
      "173/173 [==============================] - 0s 2ms/step - loss: 0.6818 - accuracy: 0.9230 - precision: 0.5380 - recall: 0.6301\n",
      "Epoch 44/150\n",
      "173/173 [==============================] - 0s 3ms/step - loss: 0.5947 - accuracy: 0.9242 - precision: 0.5460 - recall: 0.6096\n",
      "Epoch 45/150\n",
      "173/173 [==============================] - 0s 3ms/step - loss: 0.6920 - accuracy: 0.9294 - precision: 0.5759 - recall: 0.6233\n",
      "Epoch 46/150\n",
      "173/173 [==============================] - 0s 2ms/step - loss: 0.7466 - accuracy: 0.9311 - precision: 0.5871 - recall: 0.6233\n",
      "Epoch 47/150\n",
      "173/173 [==============================] - 0s 2ms/step - loss: 0.7732 - accuracy: 0.9242 - precision: 0.5484 - recall: 0.5822\n",
      "Epoch 48/150\n",
      "173/173 [==============================] - 0s 2ms/step - loss: 0.5356 - accuracy: 0.9265 - precision: 0.5562 - recall: 0.6438\n",
      "Epoch 49/150\n",
      "173/173 [==============================] - 0s 2ms/step - loss: 1.0038 - accuracy: 0.9178 - precision: 0.5120 - recall: 0.5822\n",
      "Epoch 50/150\n",
      "173/173 [==============================] - 0s 2ms/step - loss: 0.8611 - accuracy: 0.9178 - precision: 0.5123 - recall: 0.5685\n",
      "Epoch 51/150\n",
      "173/173 [==============================] - 0s 2ms/step - loss: 1.0438 - accuracy: 0.9265 - precision: 0.5590 - recall: 0.6164\n",
      "Epoch 52/150\n",
      "173/173 [==============================] - 0s 2ms/step - loss: 0.7953 - accuracy: 0.9178 - precision: 0.5120 - recall: 0.5822\n",
      "Epoch 53/150\n",
      "173/173 [==============================] - 0s 2ms/step - loss: 1.1308 - accuracy: 0.9126 - precision: 0.4845 - recall: 0.5342\n",
      "Epoch 54/150\n",
      "173/173 [==============================] - 0s 2ms/step - loss: 0.7980 - accuracy: 0.9103 - precision: 0.4749 - recall: 0.5822\n",
      "Epoch 55/150\n",
      "173/173 [==============================] - 0s 2ms/step - loss: 0.6850 - accuracy: 0.9155 - precision: 0.5000 - recall: 0.5890\n",
      "Epoch 56/150\n",
      "173/173 [==============================] - 0s 2ms/step - loss: 0.5779 - accuracy: 0.9282 - precision: 0.5714 - recall: 0.6027\n",
      "Epoch 57/150\n",
      "173/173 [==============================] - 0s 2ms/step - loss: 0.6668 - accuracy: 0.9317 - precision: 0.5897 - recall: 0.6301\n",
      "Epoch 58/150\n",
      "173/173 [==============================] - 0s 2ms/step - loss: 0.4903 - accuracy: 0.9311 - precision: 0.5882 - recall: 0.6164\n",
      "Epoch 59/150\n",
      "173/173 [==============================] - 0s 2ms/step - loss: 0.4163 - accuracy: 0.9346 - precision: 0.6078 - recall: 0.6370\n",
      "Epoch 60/150\n",
      "173/173 [==============================] - 0s 2ms/step - loss: 0.4867 - accuracy: 0.9317 - precision: 0.5886 - recall: 0.6370\n",
      "Epoch 61/150\n",
      "173/173 [==============================] - 0s 2ms/step - loss: 0.4338 - accuracy: 0.9294 - precision: 0.5732 - recall: 0.6438\n",
      "Epoch 62/150\n",
      "173/173 [==============================] - 0s 2ms/step - loss: 0.7702 - accuracy: 0.9253 - precision: 0.5556 - recall: 0.5822\n",
      "Epoch 63/150\n",
      "173/173 [==============================] - 0s 2ms/step - loss: 0.4154 - accuracy: 0.9398 - precision: 0.6364 - recall: 0.6712\n",
      "Epoch 64/150\n",
      "173/173 [==============================] - 0s 2ms/step - loss: 0.5987 - accuracy: 0.9219 - precision: 0.5346 - recall: 0.5822\n",
      "Epoch 65/150\n",
      "173/173 [==============================] - 0s 2ms/step - loss: 0.4560 - accuracy: 0.9329 - precision: 0.6014 - recall: 0.6096\n",
      "Epoch 66/150\n",
      "173/173 [==============================] - 0s 2ms/step - loss: 0.6934 - accuracy: 0.9288 - precision: 0.5752 - recall: 0.6027\n",
      "Epoch 67/150\n",
      "173/173 [==============================] - 0s 2ms/step - loss: 0.4122 - accuracy: 0.9311 - precision: 0.5906 - recall: 0.6027\n",
      "Epoch 68/150\n",
      "173/173 [==============================] - 0s 2ms/step - loss: 0.7120 - accuracy: 0.9306 - precision: 0.5867 - recall: 0.6027\n",
      "Epoch 69/150\n",
      "173/173 [==============================] - 0s 2ms/step - loss: 0.4525 - accuracy: 0.9358 - precision: 0.6159 - recall: 0.6370\n",
      "Epoch 70/150\n",
      "173/173 [==============================] - 0s 2ms/step - loss: 0.4854 - accuracy: 0.9271 - precision: 0.5649 - recall: 0.5959\n",
      "Epoch 71/150\n",
      "173/173 [==============================] - 0s 2ms/step - loss: 0.5209 - accuracy: 0.9381 - precision: 0.6327 - recall: 0.6370\n",
      "Epoch 72/150\n",
      "173/173 [==============================] - 0s 2ms/step - loss: 0.3810 - accuracy: 0.9404 - precision: 0.6463 - recall: 0.6507\n",
      "Epoch 73/150\n",
      "173/173 [==============================] - 1s 3ms/step - loss: 0.2839 - accuracy: 0.9416 - precision: 0.6510 - recall: 0.6644\n",
      "Epoch 74/150\n",
      "173/173 [==============================] - 0s 2ms/step - loss: 0.4247 - accuracy: 0.9444 - precision: 0.6761 - recall: 0.6575\n",
      "Epoch 75/150\n",
      "173/173 [==============================] - 0s 2ms/step - loss: 0.3678 - accuracy: 0.9439 - precision: 0.6713 - recall: 0.6575   \n",
      "Epoch 76/150\n",
      "173/173 [==============================] - 0s 2ms/step - loss: 0.2969 - accuracy: 0.9450 - precision: 0.6861 - recall: 0.6438\n",
      "Epoch 77/150\n",
      "173/173 [==============================] - 0s 2ms/step - loss: 0.2714 - accuracy: 0.9462 - precision: 0.6906 - recall: 0.6575\n",
      "Epoch 78/150\n",
      "173/173 [==============================] - 0s 2ms/step - loss: 0.3197 - accuracy: 0.9421 - precision: 0.6742 - recall: 0.6096\n",
      "Epoch 79/150\n",
      "173/173 [==============================] - 0s 2ms/step - loss: 0.3804 - accuracy: 0.9421 - precision: 0.6597 - recall: 0.6507\n",
      "Epoch 80/150\n",
      "173/173 [==============================] - 0s 2ms/step - loss: 0.2466 - accuracy: 0.9520 - precision: 0.7234 - recall: 0.6986   \n",
      "Epoch 81/150\n",
      "173/173 [==============================] - 0s 2ms/step - loss: 0.3185 - accuracy: 0.9398 - precision: 0.6544 - recall: 0.6096\n",
      "Epoch 82/150\n",
      "173/173 [==============================] - 0s 2ms/step - loss: 0.2289 - accuracy: 0.9444 - precision: 0.6786 - recall: 0.6507\n",
      "Epoch 83/150\n",
      "173/173 [==============================] - 0s 2ms/step - loss: 0.2313 - accuracy: 0.9456 - precision: 0.6912 - recall: 0.6438\n",
      "Epoch 84/150\n",
      "173/173 [==============================] - 0s 2ms/step - loss: 0.2474 - accuracy: 0.9416 - precision: 0.6718 - recall: 0.6027\n",
      "Epoch 85/150\n",
      "173/173 [==============================] - 0s 2ms/step - loss: 0.2534 - accuracy: 0.9485 - precision: 0.7021 - recall: 0.6781\n",
      "Epoch 86/150\n",
      "173/173 [==============================] - 0s 2ms/step - loss: 0.3110 - accuracy: 0.9433 - precision: 0.6714 - recall: 0.6438\n",
      "Epoch 87/150\n",
      "173/173 [==============================] - 0s 2ms/step - loss: 0.2234 - accuracy: 0.9468 - precision: 0.6957 - recall: 0.6575\n",
      "Epoch 88/150\n",
      "173/173 [==============================] - 0s 2ms/step - loss: 0.2044 - accuracy: 0.9468 - precision: 0.6985 - recall: 0.6507\n",
      "Epoch 89/150\n",
      "173/173 [==============================] - 0s 2ms/step - loss: 0.2262 - accuracy: 0.9508 - precision: 0.7328 - recall: 0.6575\n",
      "Epoch 90/150\n",
      "173/173 [==============================] - 0s 2ms/step - loss: 0.2197 - accuracy: 0.9491 - precision: 0.7164 - recall: 0.6575\n",
      "Epoch 91/150\n",
      "173/173 [==============================] - 0s 2ms/step - loss: 0.2256 - accuracy: 0.9427 - precision: 0.6850 - recall: 0.5959\n",
      "Epoch 92/150\n",
      "173/173 [==============================] - 0s 2ms/step - loss: 0.3040 - accuracy: 0.9375 - precision: 0.6357 - recall: 0.6096\n",
      "Epoch 93/150\n",
      "173/173 [==============================] - 0s 2ms/step - loss: 0.1851 - accuracy: 0.9502 - precision: 0.7344 - recall: 0.6438\n",
      "Epoch 94/150\n",
      "173/173 [==============================] - 0s 2ms/step - loss: 0.1686 - accuracy: 0.9549 - precision: 0.7742 - recall: 0.6575\n",
      "Epoch 95/150\n",
      "173/173 [==============================] - 0s 2ms/step - loss: 0.1792 - accuracy: 0.9520 - precision: 0.7299 - recall: 0.6849\n",
      "Epoch 96/150\n",
      "173/173 [==============================] - 0s 2ms/step - loss: 0.1925 - accuracy: 0.9479 - precision: 0.7090 - recall: 0.6507\n",
      "Epoch 97/150\n",
      "173/173 [==============================] - 0s 2ms/step - loss: 0.1697 - accuracy: 0.9554 - precision: 0.7594 - recall: 0.6918\n",
      "Epoch 98/150\n",
      "173/173 [==============================] - 0s 2ms/step - loss: 0.1485 - accuracy: 0.9520 - precision: 0.7692 - recall: 0.6164\n",
      "Epoch 99/150\n",
      "173/173 [==============================] - 0s 2ms/step - loss: 0.1745 - accuracy: 0.9485 - precision: 0.7209 - recall: 0.6370\n",
      "Epoch 100/150\n",
      "173/173 [==============================] - 0s 2ms/step - loss: 0.2106 - accuracy: 0.9444 - precision: 0.6953 - recall: 0.6096\n",
      "Epoch 101/150\n",
      "173/173 [==============================] - 0s 2ms/step - loss: 0.1614 - accuracy: 0.9473 - precision: 0.7236 - recall: 0.6096\n",
      "Epoch 102/150\n",
      "173/173 [==============================] - 0s 2ms/step - loss: 0.1487 - accuracy: 0.9549 - precision: 0.7656 - recall: 0.6712\n",
      "Epoch 103/150\n",
      "173/173 [==============================] - 0s 2ms/step - loss: 0.1559 - accuracy: 0.9589 - precision: 0.8000 - recall: 0.6849\n",
      "Epoch 104/150\n",
      "173/173 [==============================] - 0s 2ms/step - loss: 0.1345 - accuracy: 0.9560 - precision: 0.7823 - recall: 0.6644\n",
      "Epoch 105/150\n",
      "173/173 [==============================] - 0s 2ms/step - loss: 0.1372 - accuracy: 0.9508 - precision: 0.7607 - recall: 0.6096\n",
      "Epoch 106/150\n",
      "173/173 [==============================] - 0s 2ms/step - loss: 0.1467 - accuracy: 0.9531 - precision: 0.7731 - recall: 0.6301\n",
      "Epoch 107/150\n",
      "173/173 [==============================] - 0s 2ms/step - loss: 0.1369 - accuracy: 0.9543 - precision: 0.7965 - recall: 0.6164\n",
      "Epoch 108/150\n",
      "173/173 [==============================] - 0s 2ms/step - loss: 0.1234 - accuracy: 0.9589 - precision: 0.8049 - recall: 0.6781\n",
      "Epoch 109/150\n",
      "173/173 [==============================] - 0s 3ms/step - loss: 0.1291 - accuracy: 0.9583 - precision: 0.8190 - recall: 0.6507\n",
      "Epoch 110/150\n",
      "173/173 [==============================] - 0s 2ms/step - loss: 0.1278 - accuracy: 0.9543 - precision: 0.8073 - recall: 0.6027\n",
      "Epoch 111/150\n",
      "173/173 [==============================] - 0s 2ms/step - loss: 0.1219 - accuracy: 0.9543 - precision: 0.7815 - recall: 0.6370\n",
      "Epoch 112/150\n",
      "173/173 [==============================] - 0s 2ms/step - loss: 0.1902 - accuracy: 0.9578 - precision: 0.7967 - recall: 0.6712\n",
      "Epoch 113/150\n",
      "173/173 [==============================] - 0s 2ms/step - loss: 0.1241 - accuracy: 0.9560 - precision: 0.7869 - recall: 0.6575\n",
      "Epoch 114/150\n",
      "173/173 [==============================] - 0s 2ms/step - loss: 0.1205 - accuracy: 0.9578 - precision: 0.8120 - recall: 0.6507\n",
      "Epoch 115/150\n",
      "173/173 [==============================] - 0s 2ms/step - loss: 0.1361 - accuracy: 0.9549 - precision: 0.7881 - recall: 0.6370\n",
      "Epoch 116/150\n",
      "173/173 [==============================] - 0s 2ms/step - loss: 0.1277 - accuracy: 0.9554 - precision: 0.7851 - recall: 0.6507\n",
      "Epoch 117/150\n",
      "173/173 [==============================] - 0s 2ms/step - loss: 0.1213 - accuracy: 0.9583 - precision: 0.8426 - recall: 0.6233\n",
      "Epoch 118/150\n",
      "173/173 [==============================] - 0s 2ms/step - loss: 0.1215 - accuracy: 0.9601 - precision: 0.8407 - recall: 0.6507\n",
      "Epoch 119/150\n",
      "173/173 [==============================] - 0s 2ms/step - loss: 0.1151 - accuracy: 0.9624 - precision: 0.8462 - recall: 0.6781\n",
      "Epoch 120/150\n",
      "173/173 [==============================] - 0s 2ms/step - loss: 0.1174 - accuracy: 0.9606 - precision: 0.8362 - recall: 0.6644\n",
      "Epoch 121/150\n",
      "173/173 [==============================] - 0s 2ms/step - loss: 0.1181 - accuracy: 0.9618 - precision: 0.8571 - recall: 0.6575\n",
      "Epoch 122/150\n",
      "173/173 [==============================] - 0s 2ms/step - loss: 0.1273 - accuracy: 0.9543 - precision: 0.7965 - recall: 0.6164\n",
      "Epoch 123/150\n",
      "173/173 [==============================] - 0s 2ms/step - loss: 0.1208 - accuracy: 0.9583 - precision: 0.8190 - recall: 0.6507\n",
      "Epoch 124/150\n",
      "173/173 [==============================] - 0s 2ms/step - loss: 0.1120 - accuracy: 0.9630 - precision: 0.8417 - recall: 0.6918\n",
      "Epoch 125/150\n",
      "173/173 [==============================] - 0s 2ms/step - loss: 0.1175 - accuracy: 0.9618 - precision: 0.8390 - recall: 0.6781\n",
      "Epoch 126/150\n",
      "173/173 [==============================] - 0s 2ms/step - loss: 0.1180 - accuracy: 0.9630 - precision: 0.8596 - recall: 0.6712\n",
      "Epoch 127/150\n",
      "173/173 [==============================] - 0s 2ms/step - loss: 0.1182 - accuracy: 0.9612 - precision: 0.8211 - recall: 0.6918\n",
      "Epoch 128/150\n",
      "173/173 [==============================] - 0s 2ms/step - loss: 0.1147 - accuracy: 0.9630 - precision: 0.8417 - recall: 0.6918\n",
      "Epoch 129/150\n",
      "173/173 [==============================] - 0s 2ms/step - loss: 0.1163 - accuracy: 0.9595 - precision: 0.8115 - recall: 0.6781\n",
      "Epoch 130/150\n",
      "173/173 [==============================] - 0s 2ms/step - loss: 0.1201 - accuracy: 0.9560 - precision: 0.8125 - recall: 0.6233\n",
      "Epoch 131/150\n",
      "173/173 [==============================] - 0s 2ms/step - loss: 0.1200 - accuracy: 0.9606 - precision: 0.8305 - recall: 0.6712\n",
      "Epoch 132/150\n",
      "173/173 [==============================] - 0s 2ms/step - loss: 0.1221 - accuracy: 0.9560 - precision: 0.8017 - recall: 0.6370\n",
      "Epoch 133/150\n",
      "173/173 [==============================] - 0s 2ms/step - loss: 0.1181 - accuracy: 0.9601 - precision: 0.8291 - recall: 0.6644\n",
      "Epoch 134/150\n",
      "173/173 [==============================] - 0s 2ms/step - loss: 0.1182 - accuracy: 0.9589 - precision: 0.8261 - recall: 0.6507\n",
      "Epoch 135/150\n",
      "173/173 [==============================] - 0s 2ms/step - loss: 0.1177 - accuracy: 0.9572 - precision: 0.8000 - recall: 0.6575\n",
      "Epoch 136/150\n",
      "173/173 [==============================] - 0s 2ms/step - loss: 0.1159 - accuracy: 0.9601 - precision: 0.8348 - recall: 0.6575\n",
      "Epoch 137/150\n",
      "173/173 [==============================] - 0s 2ms/step - loss: 0.1246 - accuracy: 0.9589 - precision: 0.8261 - recall: 0.6507\n",
      "Epoch 138/150\n",
      "173/173 [==============================] - 0s 2ms/step - loss: 0.1179 - accuracy: 0.9537 - precision: 0.7619 - recall: 0.6575\n",
      "Epoch 139/150\n",
      "173/173 [==============================] - 0s 2ms/step - loss: 0.1232 - accuracy: 0.9554 - precision: 0.7805 - recall: 0.6575\n",
      "Epoch 140/150\n",
      "173/173 [==============================] - 0s 2ms/step - loss: 0.1248 - accuracy: 0.9566 - precision: 0.7983 - recall: 0.6507\n",
      "Epoch 141/150\n",
      "173/173 [==============================] - 0s 2ms/step - loss: 0.1319 - accuracy: 0.9566 - precision: 0.8198 - recall: 0.6233\n",
      "Epoch 142/150\n",
      "173/173 [==============================] - 0s 2ms/step - loss: 0.1256 - accuracy: 0.9583 - precision: 0.8246 - recall: 0.6438\n",
      "Epoch 143/150\n",
      "173/173 [==============================] - 0s 2ms/step - loss: 0.1263 - accuracy: 0.9583 - precision: 0.7984 - recall: 0.6781\n",
      "Epoch 144/150\n",
      "173/173 [==============================] - 0s 2ms/step - loss: 0.1255 - accuracy: 0.9560 - precision: 0.8017 - recall: 0.6370\n",
      "Epoch 145/150\n",
      "173/173 [==============================] - 0s 2ms/step - loss: 0.1281 - accuracy: 0.9589 - precision: 0.8261 - recall: 0.6507\n",
      "Epoch 146/150\n",
      "173/173 [==============================] - 0s 2ms/step - loss: 0.1140 - accuracy: 0.9606 - precision: 0.8250 - recall: 0.6781\n",
      "Epoch 147/150\n",
      "173/173 [==============================] - 0s 2ms/step - loss: 0.1187 - accuracy: 0.9595 - precision: 0.8276 - recall: 0.6575\n",
      "Epoch 148/150\n",
      "173/173 [==============================] - 0s 2ms/step - loss: 0.1249 - accuracy: 0.9560 - precision: 0.7869 - recall: 0.6575\n",
      "Epoch 149/150\n",
      "173/173 [==============================] - 0s 2ms/step - loss: 0.1482 - accuracy: 0.9595 - precision: 0.8333 - recall: 0.6507\n",
      "Epoch 150/150\n",
      "173/173 [==============================] - 0s 2ms/step - loss: 0.1277 - accuracy: 0.9630 - precision: 0.8417 - recall: 0.6918\n"
     ]
    },
    {
     "data": {
      "text/plain": [
       "<keras.callbacks.History at 0x1bd289d60d0>"
      ]
     },
     "execution_count": 39,
     "metadata": {},
     "output_type": "execute_result"
    }
   ],
   "source": [
    "# Define the model\n",
    "clf = Sequential()\n",
    "clf.add(Dense(12, input_dim=len(feature_cols), activation='relu'))\n",
    "clf.add(Dense(8, activation='relu'))\n",
    "clf.add(Dense(1, activation='sigmoid')) # sigmoid function is used for binary classification\n",
    "\n",
    "# Compile the model\n",
    "clf.compile(loss='binary_crossentropy', optimizer='adam', metrics=['accuracy', 'Precision', 'Recall'])\n",
    "\n",
    "# Train the model\n",
    "clf.fit(X_train, y_train, epochs=150, batch_size=10, verbose=1)"
   ]
  },
  {
   "cell_type": "code",
   "execution_count": 40,
   "metadata": {},
   "outputs": [
    {
     "name": "stdout",
     "output_type": "stream",
     "text": [
      "14/14 [==============================] - 0s 2ms/step\n"
     ]
    }
   ],
   "source": [
    "# Use the model to make predictions on the test set\n",
    "y_pred = clf.predict(X_test)\n",
    "y_pred = [1 if y >= 0.5 else 0 for y in y_pred]  # threshold"
   ]
  },
  {
   "cell_type": "code",
   "execution_count": 41,
   "metadata": {},
   "outputs": [
    {
     "name": "stdout",
     "output_type": "stream",
     "text": [
      "Accuracy: 0.9722863741339491\n",
      "Precision: 0.8666666666666667\n",
      "Recall: 0.7647058823529411\n",
      "F1: 0.8125\n"
     ]
    }
   ],
   "source": [
    "# Evaluate the model\n",
    "print(\"Accuracy:\", accuracy_score(y_test, y_pred))\n",
    "print(\"Precision:\", precision_score(y_test, y_pred))\n",
    "print(\"Recall:\", recall_score(y_test, y_pred))\n",
    "print(\"F1:\", f1_score(y_test, y_pred))"
   ]
  },
  {
   "attachments": {},
   "cell_type": "markdown",
   "metadata": {},
   "source": [
    "### Visualize the model"
   ]
  },
  {
   "cell_type": "code",
   "execution_count": 42,
   "metadata": {},
   "outputs": [
    {
     "data": {
      "text/plain": [
       "array([[395,   4],\n",
       "       [  8,  26]], dtype=int64)"
      ]
     },
     "execution_count": 42,
     "metadata": {},
     "output_type": "execute_result"
    }
   ],
   "source": [
    "clf_matrix = confusion_matrix(y_test, y_pred)\n",
    "clf_matrix"
   ]
  },
  {
   "cell_type": "code",
   "execution_count": 43,
   "metadata": {},
   "outputs": [
    {
     "data": {
      "text/plain": [
       "Text(0.5, 427.9555555555555, 'Predicted Label')"
      ]
     },
     "execution_count": 43,
     "metadata": {},
     "output_type": "execute_result"
    },
    {
     "data": {
      "image/png": "[encoded data removed]",
      "text/plain": [
       "<Figure size 640x480 with 2 Axes>"
      ]
     },
     "metadata": {},
     "output_type": "display_data"
    }
   ],
   "source": [
    "# Assuming clf_matrix is the confusion matrix you've computed\n",
    "clf_matrix_df = pd.DataFrame(clf_matrix, index=[\"s:ok\", \"s:failed\"], columns=[\"s:ok\", \"s:failed\"])\n",
    "\n",
    "# Create heatmap\n",
    "class_names=[\"s:ok\", \"s:failed\"]\n",
    "fig, ax = plt.subplots()\n",
    "tick_marks = np.arange(len(class_names))\n",
    "\n",
    "plt.xticks(tick_marks, class_names)\n",
    "plt.yticks(tick_marks, class_names)\n",
    "sns.heatmap(clf_matrix_df, annot=True, cmap=\"YlGnBu\" ,fmt='g')\n",
    "ax.xaxis.set_label_position(\"top\")\n",
    "\n",
    "plt.tight_layout()\n",
    "plt.title('Confusion matrix neural network', y=1.1)\n",
    "plt.ylabel('Actual Label')\n",
    "plt.xlabel('Predicted Label')"
   ]
  },
  {
   "attachments": {},
   "cell_type": "markdown",
   "metadata": {},
   "source": [
    "### Export the model"
   ]
  },
  {
   "cell_type": "code",
   "execution_count": 44,
   "metadata": {},
   "outputs": [],
   "source": [
    "pickle.dump(clf, open(\"./models/neural_network.p\", \"wb\"))"
   ]
  }
 ],
 "metadata": {
  "kernelspec": {
   "display_name": "Python 3",
   "language": "python",
   "name": "python3"
  },
  "language_info": {
   "codemirror_mode": {
    "name": "ipython",
    "version": 3
   },
   "file_extension": ".py",
   "mimetype": "text/x-python",
   "name": "python",
   "nbconvert_exporter": "python",
   "pygments_lexer": "ipython3",
   "version": "3.11.3"
  },
  "orig_nbformat": 4
 },
 "nbformat": 4,
 "nbformat_minor": 2
}
