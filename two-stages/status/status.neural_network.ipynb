{
 "cells": [
  {
   "attachments": {},
   "cell_type": "markdown",
   "metadata": {},
   "source": [
    "## Neural Network"
   ]
  },
  {
   "cell_type": "code",
   "execution_count": 227,
   "metadata": {},
   "outputs": [],
   "source": [
    "# Import all required libraries\n",
    "import pickle\n",
    "import pandas as pd\n",
    "import numpy as np\n",
    "import seaborn as sns\n",
    "import matplotlib.pyplot as plt\n",
    "\n",
    "from numpy import mean, std\n",
    "from keras import activations\n",
    "from keras.models import Sequential\n",
    "from keras.layers import Dense\n",
    "from sklearn.base import BaseEstimator, ClassifierMixin\n",
    "from keras.wrappers.scikit_learn import KerasClassifier\n",
    "from sklearn.model_selection import cross_validate, KFold\n",
    "from sklearn.metrics import accuracy_score, precision_score, recall_score, f1_score, confusion_matrix"
   ]
  },
  {
   "cell_type": "code",
   "execution_count": 228,
   "metadata": {},
   "outputs": [],
   "source": [
    "# Import feature and target columns\n",
    "X = pickle.load(open(\"./common/feature_status.p\", \"rb\"))\n",
    "y = pickle.load(open(\"./common/target_status.p\", \"rb\"))\n",
    "feature_cols = pickle.load(open(\"./common/feature_cols.p\", \"rb\"))"
   ]
  },
  {
   "attachments": {},
   "cell_type": "markdown",
   "metadata": {},
   "source": [
    "### Perform Cross Validation"
   ]
  },
  {
   "cell_type": "code",
   "execution_count": 229,
   "metadata": {},
   "outputs": [],
   "source": [
    "# Define a sklearn-compatible classifier based on our Keras model\n",
    "class KerasBinaryClassifier(BaseEstimator, ClassifierMixin):\n",
    "    def __init__(self, model):\n",
    "        self.model = model\n",
    "    def fit(self, X, y):\n",
    "        self.model.compile(loss='binary_crossentropy', optimizer='adam')\n",
    "        self.model.fit(X, y, epochs=150, batch_size=10, verbose=0)\n",
    "        return self\n",
    "    def predict(self, X):\n",
    "        Y_pred = self.model.predict(X)\n",
    "        Y_pred = (Y_pred >= 0.5).astype(int)\n",
    "        return Y_pred.flatten()"
   ]
  },
  {
   "cell_type": "code",
   "execution_count": 230,
   "metadata": {},
   "outputs": [],
   "source": [
    "# Function to create the model, required for KerasClassifier\n",
    "def create_model():\n",
    "    model = Sequential()\n",
    "    model.add(Dense(6, input_dim=len(feature_cols), activation=activations.softplus))\n",
    "    model.add(Dense(6, activation=activations.relu))\n",
    "    model.add(Dense(6, activation=activations.tanh))\n",
    "    model.add(Dense(1, activation=activations.sigmoid))\n",
    "    \n",
    "    # compile the keras model\n",
    "    model.compile(loss='binary_crossentropy', optimizer='adam')\n",
    "    return model"
   ]
  },
  {
   "cell_type": "code",
   "execution_count": 231,
   "metadata": {},
   "outputs": [
    {
     "name": "stderr",
     "output_type": "stream",
     "text": [
      "C:\\Users\\dell\\AppData\\Local\\Temp\\ipykernel_33388\\3710175904.py:1: DeprecationWarning: KerasClassifier is deprecated, use Sci-Keras (https://github.com/adriangb/scikeras) instead. See https://www.adriangb.com/scikeras/stable/migration.html for help migrating.\n",
      "  clf_cv = KerasClassifier(build_fn=create_model, epochs=100, batch_size=32, verbose=0)\n"
     ]
    }
   ],
   "source": [
    "clf_cv = KerasClassifier(build_fn=create_model, epochs=100, batch_size=32, verbose=0)\n",
    "\n",
    "# Define metrics\n",
    "scoring = ['precision_macro', 'recall_macro', 'f1_macro']\n",
    "# scoring = { 'accuracy': make_scorer(accuracy_score),\n",
    "#             'precision': make_scorer(precision_score),\n",
    "#             'recall': make_scorer(recall_score),\n",
    "#             'F1': make_scorer(f1_score) }\n",
    "\n",
    "\n",
    "# Define the cross-validation procedure\n",
    "cv = KFold(n_splits=10, shuffle=False)"
   ]
  },
  {
   "cell_type": "code",
   "execution_count": 232,
   "metadata": {},
   "outputs": [],
   "source": [
    "# scores = cross_validate(clf_cv, X, y, cv=10, scoring=scoring)\n",
    "scores = cross_validate(clf_cv, X, y, scoring=scoring, cv=cv, n_jobs=-1)"
   ]
  },
  {
   "cell_type": "code",
   "execution_count": 233,
   "metadata": {},
   "outputs": [
    {
     "name": "stdout",
     "output_type": "stream",
     "text": [
      "Precision: 0.658 (0.281)\n",
      "Recall: 0.700 (0.245)\n",
      "F1 score: 0.677 (0.264)\n"
     ]
    }
   ],
   "source": [
    "# Print scores\n",
    "# for metric_name, score_array in scores.items():\n",
    "#     if metric_name.startswith('test_'):\n",
    "#         print(f'{metric_name}: {score_array.mean():.2f} (+/- {score_array.std() * 2:.2f})')\n",
    "print('Precision: %.3f (%.3f)' % (mean(scores['test_precision_macro']), std(scores['test_precision_macro'])))\n",
    "print('Recall: %.3f (%.3f)' % (mean(scores['test_recall_macro']), std(scores['test_recall_macro'])))\n",
    "print('F1 score: %.3f (%.3f)' % (mean(scores['test_f1_macro']), std(scores['test_f1_macro'])))"
   ]
  },
  {
   "attachments": {},
   "cell_type": "markdown",
   "metadata": {},
   "source": [
    "### Train the model"
   ]
  },
  {
   "cell_type": "code",
   "execution_count": 8,
   "metadata": {},
   "outputs": [],
   "source": [
    "# Import training and testing data\n",
    "X_test = pickle.load(open(\"./common/metrics_test.p\", \"rb\"))\n",
    "X_train = pickle.load(open(\"./common/metrics_train.p\", \"rb\"))\n",
    "y_test = pickle.load(open(\"./common/status_test.p\", \"rb\"))\n",
    "y_train = pickle.load(open(\"./common/status_train.p\", \"rb\"))"
   ]
  },
  {
   "cell_type": "code",
   "execution_count": 9,
   "metadata": {},
   "outputs": [
    {
     "name": "stderr",
     "output_type": "stream",
     "text": [
      "C:\\Users\\dell\\AppData\\Local\\Temp\\ipykernel_33388\\3781437085.py:2: DeprecationWarning: KerasClassifier is deprecated, use Sci-Keras (https://github.com/adriangb/scikeras) instead. See https://www.adriangb.com/scikeras/stable/migration.html for help migrating.\n",
      "  clf = KerasClassifier(build_fn=create_model, epochs=100, batch_size=32, verbose=0)\n"
     ]
    },
    {
     "name": "stdout",
     "output_type": "stream",
     "text": [
      "Epoch 1/150\n",
      "173/173 [==============================] - 1s 2ms/step - loss: 219.1944\n",
      "Epoch 2/150\n",
      "173/173 [==============================] - 0s 2ms/step - loss: 12.2709\n",
      "Epoch 3/150\n",
      "173/173 [==============================] - 0s 2ms/step - loss: 11.5012\n",
      "Epoch 4/150\n",
      "173/173 [==============================] - 0s 1ms/step - loss: 11.1230\n",
      "Epoch 5/150\n",
      "173/173 [==============================] - 0s 1ms/step - loss: 10.8817\n",
      "Epoch 6/150\n",
      "173/173 [==============================] - 0s 1ms/step - loss: 10.1395\n",
      "Epoch 7/150\n",
      "173/173 [==============================] - 0s 1ms/step - loss: 10.4571\n",
      "Epoch 8/150\n",
      "173/173 [==============================] - 0s 2ms/step - loss: 9.2868\n",
      "Epoch 9/150\n",
      "173/173 [==============================] - 0s 1ms/step - loss: 9.6391\n",
      "Epoch 10/150\n",
      "173/173 [==============================] - 0s 1ms/step - loss: 8.9362\n",
      "Epoch 11/150\n",
      "173/173 [==============================] - 0s 2ms/step - loss: 8.1198\n",
      "Epoch 12/150\n",
      "173/173 [==============================] - 0s 1ms/step - loss: 7.1495\n",
      "Epoch 13/150\n",
      "173/173 [==============================] - 0s 2ms/step - loss: 7.7451\n",
      "Epoch 14/150\n",
      "173/173 [==============================] - 0s 1ms/step - loss: 6.6924\n",
      "Epoch 15/150\n",
      "173/173 [==============================] - 0s 1ms/step - loss: 6.2966\n",
      "Epoch 16/150\n",
      "173/173 [==============================] - 0s 2ms/step - loss: 6.7161\n",
      "Epoch 17/150\n",
      "173/173 [==============================] - 0s 1ms/step - loss: 6.1083\n",
      "Epoch 18/150\n",
      "173/173 [==============================] - 0s 1ms/step - loss: 6.3770\n",
      "Epoch 19/150\n",
      "173/173 [==============================] - 0s 2ms/step - loss: 5.5888\n",
      "Epoch 20/150\n",
      "173/173 [==============================] - 0s 2ms/step - loss: 4.8896\n",
      "Epoch 21/150\n",
      "173/173 [==============================] - 0s 2ms/step - loss: 4.5444\n",
      "Epoch 22/150\n",
      "173/173 [==============================] - 0s 2ms/step - loss: 4.8254\n",
      "Epoch 23/150\n",
      "173/173 [==============================] - 0s 2ms/step - loss: 4.9175\n",
      "Epoch 24/150\n",
      "173/173 [==============================] - 0s 2ms/step - loss: 4.5167\n",
      "Epoch 25/150\n",
      "173/173 [==============================] - 0s 2ms/step - loss: 4.4626\n",
      "Epoch 26/150\n",
      "173/173 [==============================] - 0s 2ms/step - loss: 3.5327\n",
      "Epoch 27/150\n",
      "173/173 [==============================] - 0s 2ms/step - loss: 3.4730\n",
      "Epoch 28/150\n",
      "173/173 [==============================] - 0s 1ms/step - loss: 3.9994\n",
      "Epoch 29/150\n",
      "173/173 [==============================] - 0s 2ms/step - loss: 2.3306\n",
      "Epoch 30/150\n",
      "173/173 [==============================] - 0s 1ms/step - loss: 3.1122\n",
      "Epoch 31/150\n",
      "173/173 [==============================] - 0s 2ms/step - loss: 2.4077\n",
      "Epoch 32/150\n",
      "173/173 [==============================] - 0s 2ms/step - loss: 2.3719\n",
      "Epoch 33/150\n",
      "173/173 [==============================] - 0s 3ms/step - loss: 2.9083\n",
      "Epoch 34/150\n",
      "173/173 [==============================] - 0s 2ms/step - loss: 2.8372\n",
      "Epoch 35/150\n",
      "173/173 [==============================] - 0s 2ms/step - loss: 2.9670\n",
      "Epoch 36/150\n",
      "173/173 [==============================] - 0s 2ms/step - loss: 3.1730\n",
      "Epoch 37/150\n",
      "173/173 [==============================] - 0s 2ms/step - loss: 2.9212\n",
      "Epoch 38/150\n",
      "173/173 [==============================] - 0s 1ms/step - loss: 2.5197\n",
      "Epoch 39/150\n",
      "173/173 [==============================] - 0s 1ms/step - loss: 2.3535\n",
      "Epoch 40/150\n",
      "173/173 [==============================] - 0s 2ms/step - loss: 1.8946\n",
      "Epoch 41/150\n",
      "173/173 [==============================] - 0s 1ms/step - loss: 1.7203\n",
      "Epoch 42/150\n",
      "173/173 [==============================] - 0s 1ms/step - loss: 1.9308\n",
      "Epoch 43/150\n",
      "173/173 [==============================] - 0s 1ms/step - loss: 1.8160\n",
      "Epoch 44/150\n",
      "173/173 [==============================] - 0s 1ms/step - loss: 1.6503\n",
      "Epoch 45/150\n",
      "173/173 [==============================] - 0s 1ms/step - loss: 2.1992\n",
      "Epoch 46/150\n",
      "173/173 [==============================] - 0s 1ms/step - loss: 1.3914\n",
      "Epoch 47/150\n",
      "173/173 [==============================] - 0s 1ms/step - loss: 1.9600\n",
      "Epoch 48/150\n",
      "173/173 [==============================] - 0s 1ms/step - loss: 1.9516\n",
      "Epoch 49/150\n",
      "173/173 [==============================] - 0s 2ms/step - loss: 1.2002\n",
      "Epoch 50/150\n",
      "173/173 [==============================] - 0s 1ms/step - loss: 1.0388\n",
      "Epoch 51/150\n",
      "173/173 [==============================] - 0s 2ms/step - loss: 1.2032\n",
      "Epoch 52/150\n",
      "173/173 [==============================] - 0s 1ms/step - loss: 0.9981\n",
      "Epoch 53/150\n",
      "173/173 [==============================] - 0s 1ms/step - loss: 1.9343\n",
      "Epoch 54/150\n",
      "173/173 [==============================] - 0s 1ms/step - loss: 1.2457\n",
      "Epoch 55/150\n",
      "173/173 [==============================] - 0s 2ms/step - loss: 1.9068\n",
      "Epoch 56/150\n",
      "173/173 [==============================] - 0s 1ms/step - loss: 0.8029\n",
      "Epoch 57/150\n",
      "173/173 [==============================] - 0s 1ms/step - loss: 1.5576\n",
      "Epoch 58/150\n",
      "173/173 [==============================] - 0s 2ms/step - loss: 1.4646\n",
      "Epoch 59/150\n",
      "173/173 [==============================] - 0s 1ms/step - loss: 1.2918\n",
      "Epoch 60/150\n",
      "173/173 [==============================] - 0s 1ms/step - loss: 2.2699\n",
      "Epoch 61/150\n",
      "173/173 [==============================] - 0s 1ms/step - loss: 1.2583\n",
      "Epoch 62/150\n",
      "173/173 [==============================] - 0s 1ms/step - loss: 1.2797\n",
      "Epoch 63/150\n",
      "173/173 [==============================] - 0s 2ms/step - loss: 1.4931\n",
      "Epoch 64/150\n",
      "173/173 [==============================] - 0s 2ms/step - loss: 0.9606\n",
      "Epoch 65/150\n",
      "173/173 [==============================] - 0s 2ms/step - loss: 1.4532\n",
      "Epoch 66/150\n",
      "173/173 [==============================] - 0s 2ms/step - loss: 1.6236\n",
      "Epoch 67/150\n",
      "173/173 [==============================] - 0s 1ms/step - loss: 1.1691\n",
      "Epoch 68/150\n",
      "173/173 [==============================] - 0s 2ms/step - loss: 2.4598\n",
      "Epoch 69/150\n",
      "173/173 [==============================] - 0s 1ms/step - loss: 1.7487\n",
      "Epoch 70/150\n",
      "173/173 [==============================] - 0s 2ms/step - loss: 1.0327\n",
      "Epoch 71/150\n",
      "173/173 [==============================] - 0s 1ms/step - loss: 1.1847\n",
      "Epoch 72/150\n",
      "173/173 [==============================] - 0s 1ms/step - loss: 0.9055\n",
      "Epoch 73/150\n",
      "173/173 [==============================] - 0s 1ms/step - loss: 1.4076\n",
      "Epoch 74/150\n",
      "173/173 [==============================] - 0s 1ms/step - loss: 0.8717\n",
      "Epoch 75/150\n",
      "173/173 [==============================] - 0s 2ms/step - loss: 1.0653\n",
      "Epoch 76/150\n",
      "173/173 [==============================] - 0s 2ms/step - loss: 0.9505\n",
      "Epoch 77/150\n",
      "173/173 [==============================] - 0s 2ms/step - loss: 2.2664\n",
      "Epoch 78/150\n",
      "173/173 [==============================] - 0s 2ms/step - loss: 1.1463\n",
      "Epoch 79/150\n",
      "173/173 [==============================] - 0s 2ms/step - loss: 1.7474\n",
      "Epoch 80/150\n",
      "173/173 [==============================] - 0s 2ms/step - loss: 1.1366\n",
      "Epoch 81/150\n",
      "173/173 [==============================] - 0s 2ms/step - loss: 1.2749\n",
      "Epoch 82/150\n",
      "173/173 [==============================] - 0s 2ms/step - loss: 0.7552\n",
      "Epoch 83/150\n",
      "173/173 [==============================] - 0s 1ms/step - loss: 1.2473\n",
      "Epoch 84/150\n",
      "173/173 [==============================] - 0s 2ms/step - loss: 1.1036\n",
      "Epoch 85/150\n",
      "173/173 [==============================] - 0s 2ms/step - loss: 1.2300\n",
      "Epoch 86/150\n",
      "173/173 [==============================] - 0s 2ms/step - loss: 1.3048\n",
      "Epoch 87/150\n",
      "173/173 [==============================] - 0s 3ms/step - loss: 0.7642\n",
      "Epoch 88/150\n",
      "173/173 [==============================] - 0s 2ms/step - loss: 1.2634\n",
      "Epoch 89/150\n",
      "173/173 [==============================] - 0s 2ms/step - loss: 0.8822\n",
      "Epoch 90/150\n",
      "173/173 [==============================] - 0s 2ms/step - loss: 0.9977\n",
      "Epoch 91/150\n",
      "173/173 [==============================] - 0s 2ms/step - loss: 0.6055\n",
      "Epoch 92/150\n",
      "173/173 [==============================] - 0s 2ms/step - loss: 1.6285\n",
      "Epoch 93/150\n",
      "173/173 [==============================] - 0s 2ms/step - loss: 1.3003\n",
      "Epoch 94/150\n",
      "173/173 [==============================] - 0s 2ms/step - loss: 1.2811\n",
      "Epoch 95/150\n",
      "173/173 [==============================] - 0s 2ms/step - loss: 1.4922\n",
      "Epoch 96/150\n",
      "173/173 [==============================] - 0s 2ms/step - loss: 0.7132\n",
      "Epoch 97/150\n",
      "173/173 [==============================] - 0s 3ms/step - loss: 0.7405\n",
      "Epoch 98/150\n",
      "173/173 [==============================] - 0s 2ms/step - loss: 0.9523\n",
      "Epoch 99/150\n",
      "173/173 [==============================] - 0s 1ms/step - loss: 0.8036\n",
      "Epoch 100/150\n",
      "173/173 [==============================] - 0s 1ms/step - loss: 0.8190\n",
      "Epoch 101/150\n",
      "173/173 [==============================] - 0s 1ms/step - loss: 1.2379\n",
      "Epoch 102/150\n",
      "173/173 [==============================] - 0s 2ms/step - loss: 1.3166\n",
      "Epoch 103/150\n",
      "173/173 [==============================] - 0s 2ms/step - loss: 0.7767\n",
      "Epoch 104/150\n",
      "173/173 [==============================] - 0s 2ms/step - loss: 0.6225\n",
      "Epoch 105/150\n",
      "173/173 [==============================] - 0s 2ms/step - loss: 0.6936\n",
      "Epoch 106/150\n",
      "173/173 [==============================] - 0s 2ms/step - loss: 0.6465\n",
      "Epoch 107/150\n",
      "173/173 [==============================] - 0s 2ms/step - loss: 0.8313\n",
      "Epoch 108/150\n",
      "173/173 [==============================] - 0s 2ms/step - loss: 0.6398\n",
      "Epoch 109/150\n",
      "173/173 [==============================] - 0s 2ms/step - loss: 0.6491\n",
      "Epoch 110/150\n",
      "173/173 [==============================] - 0s 2ms/step - loss: 0.7718\n",
      "Epoch 111/150\n",
      "173/173 [==============================] - 0s 1ms/step - loss: 0.7682\n",
      "Epoch 112/150\n",
      "173/173 [==============================] - 0s 1ms/step - loss: 0.5507\n",
      "Epoch 113/150\n",
      "173/173 [==============================] - 0s 1ms/step - loss: 0.7237\n",
      "Epoch 114/150\n",
      "173/173 [==============================] - 0s 1ms/step - loss: 0.9955\n",
      "Epoch 115/150\n",
      "173/173 [==============================] - 0s 2ms/step - loss: 0.8039\n",
      "Epoch 116/150\n",
      "173/173 [==============================] - 0s 2ms/step - loss: 0.7964\n",
      "Epoch 117/150\n",
      "173/173 [==============================] - 0s 2ms/step - loss: 0.6950\n",
      "Epoch 118/150\n",
      "173/173 [==============================] - 0s 2ms/step - loss: 0.6925\n",
      "Epoch 119/150\n",
      "173/173 [==============================] - 0s 2ms/step - loss: 0.5633\n",
      "Epoch 120/150\n",
      "173/173 [==============================] - 0s 1ms/step - loss: 0.5190\n",
      "Epoch 121/150\n",
      "173/173 [==============================] - 0s 2ms/step - loss: 0.8011\n",
      "Epoch 122/150\n",
      "173/173 [==============================] - 0s 1ms/step - loss: 0.5613\n",
      "Epoch 123/150\n",
      "173/173 [==============================] - 0s 2ms/step - loss: 0.4668\n",
      "Epoch 124/150\n",
      "173/173 [==============================] - 0s 1ms/step - loss: 0.4705\n",
      "Epoch 125/150\n",
      "173/173 [==============================] - 0s 1ms/step - loss: 0.5263\n",
      "Epoch 126/150\n",
      "173/173 [==============================] - 0s 1ms/step - loss: 0.4604\n",
      "Epoch 127/150\n",
      "173/173 [==============================] - 0s 1ms/step - loss: 0.4300\n",
      "Epoch 128/150\n",
      "173/173 [==============================] - 0s 2ms/step - loss: 0.2807\n",
      "Epoch 129/150\n",
      "173/173 [==============================] - 0s 1ms/step - loss: 0.4217\n",
      "Epoch 130/150\n",
      "173/173 [==============================] - 0s 2ms/step - loss: 0.4782\n",
      "Epoch 131/150\n",
      "173/173 [==============================] - 0s 1ms/step - loss: 0.7349\n",
      "Epoch 132/150\n",
      "173/173 [==============================] - 0s 1ms/step - loss: 0.2377\n",
      "Epoch 133/150\n",
      "173/173 [==============================] - 0s 2ms/step - loss: 0.3524\n",
      "Epoch 134/150\n",
      "173/173 [==============================] - 0s 2ms/step - loss: 0.2545\n",
      "Epoch 135/150\n",
      "173/173 [==============================] - 0s 2ms/step - loss: 0.3331\n",
      "Epoch 136/150\n",
      "173/173 [==============================] - 0s 2ms/step - loss: 0.3815\n",
      "Epoch 137/150\n",
      "173/173 [==============================] - 0s 2ms/step - loss: 0.3702\n",
      "Epoch 138/150\n",
      "173/173 [==============================] - 0s 1ms/step - loss: 0.2544\n",
      "Epoch 139/150\n",
      "173/173 [==============================] - 0s 1ms/step - loss: 0.2796\n",
      "Epoch 140/150\n",
      "173/173 [==============================] - 0s 1ms/step - loss: 0.3102\n",
      "Epoch 141/150\n",
      "173/173 [==============================] - 0s 1ms/step - loss: 0.2702\n",
      "Epoch 142/150\n",
      "173/173 [==============================] - 0s 1ms/step - loss: 0.3106\n",
      "Epoch 143/150\n",
      "173/173 [==============================] - 0s 2ms/step - loss: 0.3361\n",
      "Epoch 144/150\n",
      "173/173 [==============================] - 0s 2ms/step - loss: 0.2553\n",
      "Epoch 145/150\n",
      "173/173 [==============================] - 0s 1ms/step - loss: 0.2681\n",
      "Epoch 146/150\n",
      "173/173 [==============================] - 0s 1ms/step - loss: 0.2372\n",
      "Epoch 147/150\n",
      "173/173 [==============================] - 0s 2ms/step - loss: 0.2309\n",
      "Epoch 148/150\n",
      "173/173 [==============================] - 0s 2ms/step - loss: 0.2981\n",
      "Epoch 149/150\n",
      "173/173 [==============================] - 0s 2ms/step - loss: 0.1814\n",
      "Epoch 150/150\n",
      "173/173 [==============================] - 0s 2ms/step - loss: 0.2087\n"
     ]
    },
    {
     "data": {
      "text/plain": [
       "<keras.callbacks.History at 0x2213adc1610>"
      ]
     },
     "execution_count": 9,
     "metadata": {},
     "output_type": "execute_result"
    }
   ],
   "source": [
    "# Define the model\n",
    "clf = KerasClassifier(build_fn=create_model, epochs=100, batch_size=32, verbose=0)\n",
    "\n",
    "# Train the model\n",
    "clf.fit(X_train, y_train, epochs=150, batch_size=10, verbose=1)"
   ]
  },
  {
   "cell_type": "code",
   "execution_count": 10,
   "metadata": {},
   "outputs": [
    {
     "name": "stdout",
     "output_type": "stream",
     "text": [
      "14/14 [==============================] - 0s 2ms/step\n"
     ]
    }
   ],
   "source": [
    "# Use the model to make predictions on the test set\n",
    "y_pred = clf.predict(X_test)\n",
    "y_pred = [1 if y >= 0.5 else 0 for y in y_pred]  # threshold"
   ]
  },
  {
   "cell_type": "code",
   "execution_count": 11,
   "metadata": {},
   "outputs": [
    {
     "name": "stdout",
     "output_type": "stream",
     "text": [
      "Accuracy: 0.9561200923787528\n",
      "Precision: 0.7272727272727273\n",
      "Recall: 0.7058823529411765\n",
      "F1: 0.7164179104477613\n"
     ]
    }
   ],
   "source": [
    "# Evaluate the model\n",
    "print(\"Accuracy:\", accuracy_score(y_test, y_pred))\n",
    "print(\"Precision:\", precision_score(y_test, y_pred))\n",
    "print(\"Recall:\", recall_score(y_test, y_pred))\n",
    "print(\"F1:\", f1_score(y_test, y_pred))"
   ]
  },
  {
   "attachments": {},
   "cell_type": "markdown",
   "metadata": {},
   "source": [
    "### Visualize the model"
   ]
  },
  {
   "cell_type": "code",
   "execution_count": 12,
   "metadata": {},
   "outputs": [
    {
     "data": {
      "text/plain": [
       "array([[390,   9],\n",
       "       [ 10,  24]], dtype=int64)"
      ]
     },
     "execution_count": 12,
     "metadata": {},
     "output_type": "execute_result"
    }
   ],
   "source": [
    "clf_matrix = confusion_matrix(y_test, y_pred)\n",
    "clf_matrix"
   ]
  },
  {
   "cell_type": "code",
   "execution_count": 13,
   "metadata": {},
   "outputs": [
    {
     "data": {
      "text/plain": [
       "Text(0.5, 427.9555555555555, 'Predicted Label')"
      ]
     },
     "execution_count": 13,
     "metadata": {},
     "output_type": "execute_result"
    },
    {
     "data": {
      "image/png": "[encoded data removed]",
      "text/plain": [
       "<Figure size 640x480 with 2 Axes>"
      ]
     },
     "metadata": {},
     "output_type": "display_data"
    }
   ],
   "source": [
    "# Assuming clf_matrix is the confusion matrix you've computed\n",
    "clf_matrix_df = pd.DataFrame(clf_matrix, index=[\"s:ok\", \"s:failed\"], columns=[\"s:ok\", \"s:failed\"])\n",
    "\n",
    "# Create heatmap\n",
    "class_names=[\"s:ok\", \"s:failed\"]\n",
    "fig, ax = plt.subplots()\n",
    "tick_marks = np.arange(len(class_names))\n",
    "\n",
    "plt.xticks(tick_marks, class_names)\n",
    "plt.yticks(tick_marks, class_names)\n",
    "sns.heatmap(clf_matrix_df, annot=True, cmap=\"YlGnBu\" ,fmt='g')\n",
    "ax.xaxis.set_label_position(\"top\")\n",
    "\n",
    "plt.tight_layout()\n",
    "plt.title('Confusion matrix neural network', y=1.1)\n",
    "plt.ylabel('Actual Label')\n",
    "plt.xlabel('Predicted Label')"
   ]
  },
  {
   "attachments": {},
   "cell_type": "markdown",
   "metadata": {},
   "source": [
    "### Export the model"
   ]
  },
  {
   "cell_type": "code",
   "execution_count": 14,
   "metadata": {},
   "outputs": [],
   "source": [
    "pickle.dump(clf, open(\"./models/neural_network.p\", \"wb\"))"
   ]
  }
 ],
 "metadata": {
  "kernelspec": {
   "display_name": "Python 3",
   "language": "python",
   "name": "python3"
  },
  "language_info": {
   "codemirror_mode": {
    "name": "ipython",
    "version": 3
   },
   "file_extension": ".py",
   "mimetype": "text/x-python",
   "name": "python",
   "nbconvert_exporter": "python",
   "pygments_lexer": "ipython3",
   "version": "3.11.3"
  },
  "orig_nbformat": 4
 },
 "nbformat": 4,
 "nbformat_minor": 2
}
