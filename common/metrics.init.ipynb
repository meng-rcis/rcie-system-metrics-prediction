{
 "cells": [
  {
   "cell_type": "markdown",
   "metadata": {},
   "source": [
    "### System Metrics"
   ]
  },
  {
   "cell_type": "code",
   "execution_count": 1,
   "metadata": {},
   "outputs": [],
   "source": [
    "import sys\n",
    "sys.path.append('../')\n",
    "\n",
    "# Load libraries\n",
    "from utils.save import save_dataset, save_features, save_labels\n",
    "from constant.columns import COLS, FEATURES, LABEL\n",
    "from constant.path import PATH\n",
    "\n",
    "import pandas as pd"
   ]
  },
  {
   "cell_type": "code",
   "execution_count": 2,
   "metadata": {},
   "outputs": [
    {
     "data": {
      "text/html": [
       "<div>\n",
       "<style scoped>\n",
       "    .dataframe tbody tr th:only-of-type {\n",
       "        vertical-align: middle;\n",
       "    }\n",
       "\n",
       "    .dataframe tbody tr th {\n",
       "        vertical-align: top;\n",
       "    }\n",
       "\n",
       "    .dataframe thead th {\n",
       "        text-align: right;\n",
       "    }\n",
       "</style>\n",
       "<table border=\"1\" class=\"dataframe\">\n",
       "  <thead>\n",
       "    <tr style=\"text-align: right;\">\n",
       "      <th></th>\n",
       "      <th>time</th>\n",
       "      <th>timestamp</th>\n",
       "      <th>cpu_usage</th>\n",
       "      <th>memory_usage</th>\n",
       "      <th>bandwidth_inbound</th>\n",
       "      <th>bandwidth_outbound</th>\n",
       "      <th>tps</th>\n",
       "      <th>response_time</th>\n",
       "      <th>status</th>\n",
       "    </tr>\n",
       "  </thead>\n",
       "  <tbody>\n",
       "    <tr>\n",
       "      <th>2023-06-12 11:33:10</th>\n",
       "      <td>1686544390000</td>\n",
       "      <td>0.006</td>\n",
       "      <td>0.374</td>\n",
       "      <td>8.73</td>\n",
       "      <td>6.42</td>\n",
       "      <td>0.2</td>\n",
       "      <td>0.0</td>\n",
       "      <td>15.1</td>\n",
       "      <td>0</td>\n",
       "    </tr>\n",
       "    <tr>\n",
       "      <th>2023-06-12 11:33:15</th>\n",
       "      <td>1686544395000</td>\n",
       "      <td>0.012</td>\n",
       "      <td>0.374</td>\n",
       "      <td>8.79</td>\n",
       "      <td>6.49</td>\n",
       "      <td>0.2</td>\n",
       "      <td>0.0</td>\n",
       "      <td>20.1</td>\n",
       "      <td>0</td>\n",
       "    </tr>\n",
       "    <tr>\n",
       "      <th>2023-06-12 11:33:20</th>\n",
       "      <td>1686544400000</td>\n",
       "      <td>0.008</td>\n",
       "      <td>0.374</td>\n",
       "      <td>8.77</td>\n",
       "      <td>6.46</td>\n",
       "      <td>0.2</td>\n",
       "      <td>0.0</td>\n",
       "      <td>14.3</td>\n",
       "      <td>0</td>\n",
       "    </tr>\n",
       "    <tr>\n",
       "      <th>2023-06-12 11:33:25</th>\n",
       "      <td>1686544405000</td>\n",
       "      <td>0.008</td>\n",
       "      <td>0.374</td>\n",
       "      <td>8.74</td>\n",
       "      <td>6.44</td>\n",
       "      <td>0.2</td>\n",
       "      <td>0.0</td>\n",
       "      <td>18.9</td>\n",
       "      <td>0</td>\n",
       "    </tr>\n",
       "    <tr>\n",
       "      <th>2023-06-12 11:33:30</th>\n",
       "      <td>1686544410000</td>\n",
       "      <td>0.008</td>\n",
       "      <td>0.374</td>\n",
       "      <td>8.88</td>\n",
       "      <td>6.53</td>\n",
       "      <td>0.2</td>\n",
       "      <td>0.0</td>\n",
       "      <td>17.5</td>\n",
       "      <td>0</td>\n",
       "    </tr>\n",
       "  </tbody>\n",
       "</table>\n",
       "</div>"
      ],
      "text/plain": [
       "                              time  timestamp  cpu_usage  memory_usage   \n",
       "2023-06-12 11:33:10  1686544390000      0.006      0.374          8.73  \\\n",
       "2023-06-12 11:33:15  1686544395000      0.012      0.374          8.79   \n",
       "2023-06-12 11:33:20  1686544400000      0.008      0.374          8.77   \n",
       "2023-06-12 11:33:25  1686544405000      0.008      0.374          8.74   \n",
       "2023-06-12 11:33:30  1686544410000      0.008      0.374          8.88   \n",
       "\n",
       "                     bandwidth_inbound  bandwidth_outbound  tps   \n",
       "2023-06-12 11:33:10               6.42                 0.2  0.0  \\\n",
       "2023-06-12 11:33:15               6.49                 0.2  0.0   \n",
       "2023-06-12 11:33:20               6.46                 0.2  0.0   \n",
       "2023-06-12 11:33:25               6.44                 0.2  0.0   \n",
       "2023-06-12 11:33:30               6.53                 0.2  0.0   \n",
       "\n",
       "                     response_time  status  \n",
       "2023-06-12 11:33:10           15.1       0  \n",
       "2023-06-12 11:33:15           20.1       0  \n",
       "2023-06-12 11:33:20           14.3       0  \n",
       "2023-06-12 11:33:25           18.9       0  \n",
       "2023-06-12 11:33:30           17.5       0  "
      ]
     },
     "execution_count": 2,
     "metadata": {},
     "output_type": "execute_result"
    }
   ],
   "source": [
    "# Load dataset\n",
    "df = pd.read_csv(PATH, skiprows=1, header=None, names=COLS)\n",
    "df.head()"
   ]
  },
  {
   "cell_type": "code",
   "execution_count": 3,
   "metadata": {},
   "outputs": [],
   "source": [
    "# Export dataset\n",
    "save_dataset(df)\n",
    "save_features(df[FEATURES])\n",
    "save_labels(df[[LABEL]])"
   ]
  }
 ],
 "metadata": {
  "kernelspec": {
   "display_name": "Python 3",
   "language": "python",
   "name": "python3"
  },
  "language_info": {
   "codemirror_mode": {
    "name": "ipython",
    "version": 3
   },
   "file_extension": ".py",
   "mimetype": "text/x-python",
   "name": "python",
   "nbconvert_exporter": "python",
   "pygments_lexer": "ipython3",
   "version": "3.11.3"
  },
  "orig_nbformat": 4
 },
 "nbformat": 4,
 "nbformat_minor": 2
}
