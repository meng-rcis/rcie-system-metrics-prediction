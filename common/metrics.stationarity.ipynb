{
 "cells": [
  {
   "cell_type": "code",
   "execution_count": 1,
   "metadata": {},
   "outputs": [],
   "source": [
    "import sys\n",
    "sys.path.append('../')\n",
    "\n",
    "# Load libraries\n",
    "from utils.load import load_dataset\n",
    "from constant.columns import FEATURES\n",
    "\n",
    "from statsmodels.tsa.stattools import adfuller"
   ]
  },
  {
   "cell_type": "code",
   "execution_count": 2,
   "metadata": {},
   "outputs": [],
   "source": [
    "# Load dataset\n",
    "df = load_dataset()"
   ]
  },
  {
   "cell_type": "code",
   "execution_count": 3,
   "metadata": {},
   "outputs": [],
   "source": [
    "def check_stationarity(timeseries):\n",
    "    result = adfuller(timeseries, autolag='AIC')\n",
    "    print('ADF Statistic:', result[0])\n",
    "    print('p-value:', result[1])\n",
    "    print('Critical Values:', result[4])\n",
    "\n",
    "    if result[1] <= 0.05:\n",
    "        print(\"The series is stationary\")\n",
    "    else:\n",
    "        print(\"The series is not stationary\")"
   ]
  },
  {
   "cell_type": "code",
   "execution_count": 4,
   "metadata": {},
   "outputs": [
    {
     "name": "stdout",
     "output_type": "stream",
     "text": [
      "Checking stationarity for: cpu_usage\n",
      "ADF Statistic: -5.120579674180817\n",
      "p-value: 1.2742935651038167e-05\n",
      "Critical Values: {'1%': -3.4334022810746956, '5%': -2.862888383494258, '10%': -2.567487813313338}\n",
      "The series is stationary\n",
      "\n",
      "--------------------------------------------------\n",
      "\n",
      "Checking stationarity for: memory_usage\n",
      "ADF Statistic: -7.073282945604241\n",
      "p-value: 4.874496741400747e-10\n",
      "Critical Values: {'1%': -3.4333937568480692, '5%': -2.862884619730695, '10%': -2.567485809346458}\n",
      "The series is stationary\n",
      "\n",
      "--------------------------------------------------\n",
      "\n",
      "Checking stationarity for: bandwidth_inbound\n",
      "ADF Statistic: -6.6536599849399485\n",
      "p-value: 5.0470366787099945e-09\n",
      "Critical Values: {'1%': -3.433395174244582, '5%': -2.8628852455647933, '10%': -2.567486142563548}\n",
      "The series is stationary\n",
      "\n",
      "--------------------------------------------------\n",
      "\n",
      "Checking stationarity for: bandwidth_outbound\n",
      "ADF Statistic: -7.027202814161899\n",
      "p-value: 6.319454158219425e-10\n",
      "Critical Values: {'1%': -3.433390926009787, '5%': -2.862883369807779, '10%': -2.567485143841676}\n",
      "The series is stationary\n",
      "\n",
      "--------------------------------------------------\n",
      "\n",
      "Checking stationarity for: response_time\n",
      "ADF Statistic: -8.145615566936902\n",
      "p-value: 1.0007971699518784e-12\n",
      "Critical Values: {'1%': -3.4333923407704177, '5%': -2.8628839944786275, '10%': -2.567485476439311}\n",
      "The series is stationary\n",
      "\n",
      "--------------------------------------------------\n",
      "\n",
      "Checking stationarity for: tps\n",
      "ADF Statistic: -9.220408921149646\n",
      "p-value: 1.78631759821181e-15\n",
      "Critical Values: {'1%': -3.4333980130015664, '5%': -2.8628864989823364, '10%': -2.567486809929292}\n",
      "The series is stationary\n",
      "\n",
      "--------------------------------------------------\n",
      "\n"
     ]
    }
   ],
   "source": [
    "for feature in FEATURES:\n",
    "    print(f\"Checking stationarity for: {feature}\")\n",
    "    check_stationarity(df[feature])\n",
    "    print(\"\\n\" + \"-\"*50 + \"\\n\")"
   ]
  }
 ],
 "metadata": {
  "kernelspec": {
   "display_name": "Python 3",
   "language": "python",
   "name": "python3"
  },
  "language_info": {
   "codemirror_mode": {
    "name": "ipython",
    "version": 3
   },
   "file_extension": ".py",
   "mimetype": "text/x-python",
   "name": "python",
   "nbconvert_exporter": "python",
   "pygments_lexer": "ipython3",
   "version": "3.11.3"
  },
  "orig_nbformat": 4
 },
 "nbformat": 4,
 "nbformat_minor": 2
}
